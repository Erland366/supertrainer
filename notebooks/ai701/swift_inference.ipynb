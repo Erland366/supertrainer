{
 "cells": [
  {
   "cell_type": "code",
   "execution_count": 4,
   "metadata": {},
   "outputs": [
    {
     "name": "stderr",
     "output_type": "stream",
     "text": [
      "[INFO:swift] Downloading the model from ModelScope Hub, model_id: OpenGVLab/InternVL2-1B\n"
     ]
    },
    {
     "name": "stdout",
     "output_type": "stream",
     "text": [
      "template_type: internvl2\n"
     ]
    },
    {
     "name": "stderr",
     "output_type": "stream",
     "text": [
      "[WARNING:modelscope] Using branch: master as version is unstable, use with caution\n",
      "[INFO:swift] Loading the model using model_dir: /home/rifo.genadi/.cache/modelscope/hub/OpenGVLab/InternVL2-1B\n",
      "[INFO:swift] Setting torch_dtype: torch.bfloat16\n",
      "[INFO:swift] model_kwargs: {'device_map': 'cuda:0'}\n",
      "[INFO:swift] model.max_model_len: 32768\n",
      "[INFO:swift] Global seed set to 42\n"
     ]
    },
    {
     "data": {
      "text/plain": [
       "42"
      ]
     },
     "execution_count": 4,
     "metadata": {},
     "output_type": "execute_result"
    }
   ],
   "source": [
    "from swift import Swift\n",
    "import os\n",
    "os.environ['CUDA_VISIBLE_DEVICES'] = '0'\n",
    "os.environ['MODELSCOPE_API_TOKEN'] = 'b07e1120-5a1f-4044-84cb-1cb3c2e415fb'\n",
    "\n",
    "from swift.llm import (\n",
    "    get_model_tokenizer, get_template, inference,\n",
    "    get_default_template_type, inference_stream\n",
    ")\n",
    "from swift.utils import seed_everything\n",
    "\n",
    "model_choices = [\n",
    "    (\"deepseek-vl-1_3b-chat\", \"/home/rifo.genadi/material_classification/output/deepseek-vl-1_3b-chat/v0-20241115-100136/checkpoint-422\"),\n",
    "    (\"internvl2-1b\", \"/home/rifo.genadi/material_classification/output/internvl2-1b/v0-20241115-213022/checkpoint-422\"),\n",
    "    (\"deepseek-janus-1_3b\", \"/home/rifo.genadi/material_classification/output/deepseek-janus-1_3b/v0-20241115-100111/checkpoint-422\")\n",
    "    ]\n",
    "\n",
    "choice = 1\n",
    "use_trained = True\n",
    "\n",
    "model_type, model_checkpoint = model_choices[choice]\n",
    "template_type = get_default_template_type(model_type)\n",
    "print(f'template_type: {template_type}')\n",
    "model, tokenizer = get_model_tokenizer(model_type, model_kwargs={'device_map': \"cuda:0\"})\n",
    "if use_trained:\n",
    "    model = Swift.from_pretrained(model, model_checkpoint)\n",
    "\n",
    "\n",
    "model.generation_config.max_new_tokens = 128\n",
    "model.generation_config.temperature=0.01\n",
    "template = get_template(template_type, tokenizer)\n",
    "seed_everything(42)"
   ]
  },
  {
   "cell_type": "code",
   "execution_count": 5,
   "metadata": {},
   "outputs": [
    {
     "data": {
      "application/vnd.jupyter.widget-view+json": {
       "model_id": "234cb813da1447c3ab7fc8ec5bd9efda",
       "version_major": 2,
       "version_minor": 0
      },
      "text/plain": [
       "  0%|          | 0/1115 [00:00<?, ?it/s]"
      ]
     },
     "metadata": {},
     "output_type": "display_data"
    },
    {
     "name": "stdout",
     "output_type": "stream",
     "text": [
      "72.46636771300449 %\n"
     ]
    }
   ],
   "source": [
    "from datasets import load_dataset\n",
    "\n",
    "ds = load_dataset(\"Erland/AI701_project\")\n",
    "test_images = ds['test']['resized_image']\n",
    "y_true = ds['test']['label']\n",
    "id2label = {\n",
    "    0: 'ceramic',\n",
    "    1: 'fabric',\n",
    "    2: 'food',\n",
    "    3: 'glass',\n",
    "    4: 'metal',\n",
    "    5: 'other',\n",
    "    6: 'paper',\n",
    "    7: 'plastic',\n",
    "    8: 'unknown',\n",
    "    9: 'wood'\n",
    "}\n",
    "y_true = [id2label[y] for y in y_true]\n",
    "\n",
    "model.generation_config.max_new_tokens = 144\n",
    "model.generation_config.temperature=0.01\n",
    "template = get_template(template_type, tokenizer)\n",
    "\n",
    "# query = f'<image>\\nWhat material is this object made of? Respond unknown if you are not sure. Answer only with the name of the material.\\nShort answer:'\n",
    "query = f\"You are a helpful language and vision assistant. You are able to understand the visual content that the user provides, and assist the user with a variety of tasks using natural language.\\n\\nUser: <image_placeholder>\\nWhat material is this object made of? Respond unknown if you are not sure. Answer only with the name of the material.\\nShort answer:\\n\\nAssistant:\"\n",
    "\n",
    "responses = []\n",
    "from tqdm.auto import tqdm\n",
    "for i in tqdm(range(len(y_true))):\n",
    "    images = [test_images[i]]\n",
    "    response, history = inference(model, template, query, images=images)\n",
    "    responses.append(response)\n",
    "# print(f'query: {query}')\n",
    "# print(f'response: {response}')\n",
    "\n",
    "correct = 0\n",
    "for y_pred, y in zip(responses, y_true):\n",
    "    if y_pred.lower().strip() == y.lower().strip():\n",
    "        correct += 1\n",
    "\n",
    "print(correct/len(y_true)*100, \"%\")"
   ]
  },
  {
   "cell_type": "code",
   "execution_count": null,
   "metadata": {},
   "outputs": [],
   "source": []
  }
 ],
 "metadata": {
  "kernelspec": {
   "display_name": "vlm",
   "language": "python",
   "name": "python3"
  },
  "language_info": {
   "codemirror_mode": {
    "name": "ipython",
    "version": 3
   },
   "file_extension": ".py",
   "mimetype": "text/x-python",
   "name": "python",
   "nbconvert_exporter": "python",
   "pygments_lexer": "ipython3",
   "version": "3.9.20"
  }
 },
 "nbformat": 4,
 "nbformat_minor": 2
}
