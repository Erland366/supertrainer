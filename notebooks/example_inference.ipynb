{
 "cells": [
  {
   "cell_type": "code",
   "execution_count": 1,
   "metadata": {},
   "outputs": [
    {
     "name": "stderr",
     "output_type": "stream",
     "text": [
      "\u001b[32m2024-10-13 18:30:20.301\u001b[0m | \u001b[34m\u001b[1mDEBUG   \u001b[0m | \u001b[36msupertrainer.utils.helpers\u001b[0m:\u001b[36mlogin_hf\u001b[0m:\u001b[36m42\u001b[0m - \u001b[34m\u001b[1mUse token from environment variable HUGGINGFACE_API_KEY\u001b[0m\n"
     ]
    },
    {
     "name": "stdout",
     "output_type": "stream",
     "text": [
      "The token has not been saved to the git credentials helper. Pass `add_to_git_credential=True` in this function directly or `--add-to-git-credential` if using via `huggingface-cli` if you want to set the git credential as well.\n",
      "Token is valid (permission: write).\n",
      "Your token has been saved to /home/erland.fuadi/.cache/huggingface/token\n",
      "Login successful\n"
     ]
    }
   ],
   "source": [
    "from dotenv import load_dotenv\n",
    "from hydra import compose, initialize\n",
    "from omegaconf import OmegaConf\n",
    "\n",
    "from supertrainer import StrictDict\n",
    "from supertrainer.utils.helpers import login_hf\n",
    "\n",
    "load_dotenv()\n",
    "login_hf()"
   ]
  },
  {
   "cell_type": "code",
   "execution_count": 11,
   "metadata": {},
   "outputs": [
    {
     "name": "stdout",
     "output_type": "stream",
     "text": [
      "{'testing': False, 'evaluation': {'evaluation': {'model_kwargs': {'attn_implementation': 'sdpa', 'torch_dtype': 'auto', 'use_cache': False, 'device_map': None}, 'class_name': 'supertrainer.inferences.bert.BERTInference', 'classes': ['REFUTES', 'SUPPORTS', 'NOT_ENOUGH_INFO'], 'model_name': 'asafaya/bert-base-arabic'}}}\n"
     ]
    }
   ],
   "source": [
    "with initialize(config_path=\"../configs\", version_base=None):\n",
    "    cfg = compose(config_name=\"train\", overrides=[\"+evaluation=arabicbert_factcheck\"])\n",
    "    cfg = OmegaConf.to_container(cfg, resolve=True)\n",
    "    cfg = StrictDict(cfg)\n",
    "    print(cfg)"
   ]
  },
  {
   "cell_type": "code",
   "execution_count": 3,
   "metadata": {},
   "outputs": [],
   "source": [
    "import torch\n",
    "from supertrainer.inference.base import BaseInference\n",
    "from transformers import AutoModelForSequenceClassification, AutoTokenizer\n",
    "from peft import LoraConfig, get_peft_model\n",
    "from supertrainer import types, logger\n",
    "\n",
    "class BERTInference(BaseInference):\n",
    "    def __init__(self, config: types.Config) -> None:\n",
    "        super().__init__(config)\n",
    "\n",
    "    def load_model(self) -> AutoModelForSequenceClassification:\n",
    "        model = AutoModelForSequenceClassification.from_pretrained(\n",
    "            self.config.inference.model_name, **self.config.inference.model_kwargs\n",
    "        )\n",
    "        model.to(self.device)\n",
    "        model.eval()\n",
    "        logger.debug(\"BERT model loaded and ready for inference.\")\n",
    "        return model\n",
    "\n",
    "    def load_tokenizer(self) -> AutoTokenizer:\n",
    "        tokenizer = AutoTokenizer.from_pretrained(self.config.inference.model_name)\n",
    "        if tokenizer.pad_token is None:\n",
    "            tokenizer.add_special_tokens({\"pad_token\": tokenizer.eos_token})\n",
    "        if tokenizer.model_max_length > 100_000:\n",
    "            tokenizer.model_max_length = 2048\n",
    "        return tokenizer\n",
    "\n",
    "    def preprocess(self, text: str):\n",
    "        return self.tokenizer(text, return_tensors=\"pt\", truncation=True, padding=True).to(self.device)\n",
    "\n",
    "    def postprocess(self, outputs):\n",
    "        logits = outputs.logits\n",
    "        predicted_class = torch.argmax(logits, dim=-1).item()\n",
    "        label = self.config.inference.id2class.get(predicted_class, \"Unknown\")\n",
    "        return label\n",
    "\n",
    "    def predict(self, text: str) -> str:\n",
    "        inputs = self.preprocess(text)\n",
    "        with torch.no_grad():\n",
    "            outputs = self.model(**inputs)\n",
    "        prediction = self.postprocess(outputs)\n",
    "        return prediction\n"
   ]
  },
  {
   "cell_type": "code",
   "execution_count": 4,
   "metadata": {},
   "outputs": [],
   "source": [
    "id2class = {k: v for k, v in enumerate(cfg.inference.classes)}\n",
    "class2id = {v: k for k, v in id2class.items()}\n",
    "\n",
    "with cfg.allow_modification():\n",
    "    cfg.inference.id2class = id2class\n",
    "    cfg.inference.class2id = class2id"
   ]
  },
  {
   "cell_type": "code",
   "execution_count": 20,
   "metadata": {},
   "outputs": [
    {
     "data": {
      "text/plain": [
       "{'testing': False,\n",
       " 'inference': {'model_kwargs': {'attn_implementation': 'sdpa',\n",
       "   'torch_dtype': 'auto',\n",
       "   'use_cache': False,\n",
       "   'device_map': None},\n",
       "  'class_name': 'supertrainer.trainers.inference.bert.BERTInference',\n",
       "  'classes': ['REFUTES', 'SUPPORTS', 'NOT_ENOUGH_INFO'],\n",
       "  'model_name': 'FacebookAI/xlm-roberta-base',\n",
       "  'id2class': {0: 'REFUTES', 1: 'SUPPORTS', 2: 'NOT_ENOUGH_INFO'},\n",
       "  'class2id': {'REFUTES': 0, 'SUPPORTS': 1, 'NOT_ENOUGH_INFO': 2}}}"
      ]
     },
     "execution_count": 20,
     "metadata": {},
     "output_type": "execute_result"
    }
   ],
   "source": [
    "cfg"
   ]
  },
  {
   "cell_type": "code",
   "execution_count": 5,
   "metadata": {},
   "outputs": [
    {
     "name": "stderr",
     "output_type": "stream",
     "text": [
      "\u001b[32m2024-10-13 15:31:56.475\u001b[0m | \u001b[1mINFO    \u001b[0m | \u001b[36msupertrainer.inference.base\u001b[0m:\u001b[36mtokenizer\u001b[0m:\u001b[36m37\u001b[0m - \u001b[1mLoading tokenizer\u001b[0m\n",
      "/home/erland.fuadi/.conda/envs/supertrainer_unsloth/lib/python3.11/site-packages/transformers/tokenization_utils_base.py:1601: FutureWarning: `clean_up_tokenization_spaces` was not set. It will be set to `True` by default. This behavior will be depracted in transformers v4.45, and will be then set to `False` by default. For more details check this issue: https://github.com/huggingface/transformers/issues/31884\n",
      "  warnings.warn(\n",
      "\u001b[32m2024-10-13 15:31:57.597\u001b[0m | \u001b[34m\u001b[1mDEBUG   \u001b[0m | \u001b[36msupertrainer.inference.base\u001b[0m:\u001b[36mmodel\u001b[0m:\u001b[36m28\u001b[0m - \u001b[34m\u001b[1mLoading model\u001b[0m\n",
      "Some weights of XLMRobertaForSequenceClassification were not initialized from the model checkpoint at FacebookAI/xlm-roberta-base and are newly initialized: ['classifier.dense.bias', 'classifier.dense.weight', 'classifier.out_proj.bias', 'classifier.out_proj.weight']\n",
      "You should probably TRAIN this model on a down-stream task to be able to use it for predictions and inference.\n",
      "\u001b[32m2024-10-13 15:32:09.072\u001b[0m | \u001b[34m\u001b[1mDEBUG   \u001b[0m | \u001b[36m__main__\u001b[0m:\u001b[36mload_model\u001b[0m:\u001b[36m17\u001b[0m - \u001b[34m\u001b[1mBERT model loaded and ready for inference.\u001b[0m\n"
     ]
    },
    {
     "data": {
      "text/plain": [
       "'SUPPORTS'"
      ]
     },
     "execution_count": 5,
     "metadata": {},
     "output_type": "execute_result"
    }
   ],
   "source": [
    "bert_inference = BERTInference(cfg)\n",
    "bert_inference.predict(\"This is a test sentence.\")"
   ]
  },
  {
   "cell_type": "markdown",
   "metadata": {},
   "source": [
    "# Database"
   ]
  },
  {
   "cell_type": "code",
   "execution_count": 11,
   "metadata": {},
   "outputs": [
    {
     "data": {
      "text/plain": [
       "DatasetDict({\n",
       "    train: Dataset({\n",
       "        features: ['claim_id', 'claim', 'evidence', 'evidence_label', 'label', 'category'],\n",
       "        num_rows: 4298\n",
       "    })\n",
       "    test: Dataset({\n",
       "        features: ['claim_id', 'claim', 'evidence', 'evidence_label', 'label', 'category'],\n",
       "        num_rows: 1535\n",
       "    })\n",
       "    valid: Dataset({\n",
       "        features: ['claim_id', 'claim', 'evidence', 'evidence_label', 'label', 'category'],\n",
       "        num_rows: 1842\n",
       "    })\n",
       "})"
      ]
     },
     "execution_count": 11,
     "metadata": {},
     "output_type": "execute_result"
    }
   ],
   "source": [
    "from datasets import load_dataset\n",
    "\n",
    "dataset = load_dataset(\"Yoonseong/climatebert_factcheck\")\n",
    "dataset"
   ]
  },
  {
   "cell_type": "code",
   "execution_count": 12,
   "metadata": {},
   "outputs": [],
   "source": [
    "# Select random 200 datasets\n",
    "dataset = dataset[\"train\"].shuffle(seed=42).select(range(200))\n",
    "\n",
    "# export to csv\n",
    "# dataset.to_csv(\"data.csv\")"
   ]
  },
  {
   "cell_type": "markdown",
   "metadata": {},
   "source": [
    "# Transform Dataset"
   ]
  },
  {
   "cell_type": "code",
   "execution_count": 3,
   "metadata": {},
   "outputs": [
    {
     "name": "stderr",
     "output_type": "stream",
     "text": [
      "/home/erland.fuadi/.conda/envs/supertrainer_unsloth/lib/python3.11/site-packages/transformers/tokenization_utils_base.py:1601: FutureWarning: `clean_up_tokenization_spaces` was not set. It will be set to `True` by default. This behavior will be depracted in transformers v4.45, and will be then set to `False` by default. For more details check this issue: https://github.com/huggingface/transformers/issues/31884\n",
      "  warnings.warn(\n"
     ]
    }
   ],
   "source": [
    "from transformers import AutoTokenizer\n",
    "\n",
    "tokenizer = AutoTokenizer.from_pretrained(\"asafaya/bert-base-arabic\")"
   ]
  },
  {
   "cell_type": "code",
   "execution_count": 4,
   "metadata": {},
   "outputs": [],
   "source": [
    "tokenizer.chat_template = \"{{ messages['claim'] }}. Evidence: {{ messages['evidence'] }}\""
   ]
  },
  {
   "cell_type": "code",
   "execution_count": 28,
   "metadata": {},
   "outputs": [
    {
     "data": {
      "text/plain": [
       "\"{{ claim + '. Evidence: ' + evidence}}\""
      ]
     },
     "execution_count": 28,
     "metadata": {},
     "output_type": "execute_result"
    }
   ],
   "source": [
    "tokenizer.chat_template"
   ]
  },
  {
   "cell_type": "code",
   "execution_count": 35,
   "metadata": {},
   "outputs": [
    {
     "data": {
      "text/plain": [
       "'[\\'[The 1990 IPCC report said] that the Antarctic ice sheets were stable\\', \\'International Energy Agency, a global analysis organization, “continue to see a role for coal for the foreseeable future.”\\', \\'Sea level rise is now increasing faster than predicted due to unexpectedly rapid ice melting.\\', \\'“Right now, the shelf works like a giant bottle-stopper that slows down ice trying to flow from the land into the sea.\\', \\'The first adjustment changed how the temperature of the ocean surface is calculated, by replacing satellite data with drifting buoys and temperatures in ships’ water intake.\\', \\'The CO2 amplifies the warming and mixes through the atmosphere, spreading warming throughout the planet.\\', \\'HFCs (hydrofluorocarbons) are tens of thousands of times more polluting than carbon dioxide.\\', \\'Sea-level rise does not seem to depend on ocean temperature, and certainly not on CO2.\\', \\'Arctic sea ice loss is matched by Antarctic sea ice gain.\\', \\'If water temperatures stay moderate, the damaged sections of the Great Barrier Reef may be covered with corals again in as few as 10 or 15 years\\', \\'Renewable energy investment kills jobs\\', \\'The U.S. has also witnessed increasing numbers of intense rainfall events.\\', \\'The figure traditionally cited that suggests 97 per cent of climate scientists agree that global warming is man-made was also found to be flawed.\\', \\'in a letter to The Times from Lord Krebs and company, essentially telling the newspaper to stop reporting less-than-negative climate stories.\\', \\'More than 100 climate models over the past 30 years did not predict what actually happened because it was assumed carbon dioxide had the pivotal role in driving climate change and that the effects of clouds, back-radiation and the sun were trivial.\\', \\'La Niñas, on the other hand, feature cooler than average waters in the Pacific\\', \\'A paper by Ross McKitrick, an economics professor at the  University of Guelph, and Patrick Michaels, an environmental studies  professor at the University of Virginia, concludes that half of the  global warming trend from 1980 to 2002 is caused by Urban Heat Island.\\', \\'It has occurred during the warmest year on record, which occurred in 2015, and the two most unusually mild months on Earth, which took place in January and February, respectively.”\\', \\'Worst-case global heating scenarios may need to be revised upwards in light of a better understanding of the role of clouds, scientists have said.\\', \\'But [climate scientists] say that aspects of the case of Hurricane Harvey—and the recent history of tropical cyclones worldwide—suggest global warming is making a bad situation worse.\\', \\'Nine years into that 11-year hurricane drought, a NASA scientist computed it as a 1-in-177-year event.\\', \\'Many lines of evidence, including simple accounting, demonstrate beyond a shadow of a doubt that the increase in atmospheric CO2 is due to human fossil fuel burning.\\', \\'A cold day in Chicago in winter has nothing to do with the trend of global warming.\\', \\'[O]ne of the previously fastest shrinking glaciers in the world is growing again, calling into question the narrative that rapid climate change [...]\\', \\'If ECS is as low as the Energy Balance literature suggests, it means that the climate models we have been using for decades run too hot and need to be revised.\\', \"the bushfires [in Australia] were caused by arsonists and a series of lightning strikes, not \\'climate change\\'\", \\'Global Ocean Circulation Appears To Be Collapsing Due To A Warming Planet\\', \\'There is no statistical evidence that global warming is intensifying[…] floods\\', \\'Eleven percent of the world’s population is currently vulnerable to climate change impacts such as droughts, floods, heat waves, extreme weather events and sea-level rise.\\', \\'Global Warming history completely coincides with the history of artificial satellites and the use of microwave frequencies from outer space.\\', \"\\'Mauna Loa has been producing a readout which supports Manning\\'s predetermined goal by showing steady growth in atmospheric CO2 concentrations since 1959.\", \\'Volcanoes emit around 0.3 billion tonnes of CO2 per year.\\', \\'The most recent ocean measurements show consistent warming.\\', \"Big rooftop solar\\'s plan forces Nevada families who don\\'t have solar panels to pay higher power bills to subsidize rooftop solar.\", \\'On Feb. 7, several major newspapers carried stories of the declaration by NASA and NOAA that the past five years have been the warmest on record.\\', \\'Brooks added that Antarctic ice is growing.\\', \\'It appears, for the entire tropics, the observed outgoing radiation fluxes increase with the increase in sea surface temperatures (SSTs).\\', \\'But more than 7% of deaths are related to cold—counting hypothermia, as well as increased blood pressure and risk of heart attack that results when the body restricts blood flow in response to frigid temperatures.”\\', \\'\"Austria is today seeing its earliest snowfall in history with 30 to 40 centimetres already predicted in the mountains.\\', \\'In the last 35 years of global warming, sun and climate have been going in opposite directions.\\', \\'The models predicted about three times the amount of warming in the world we’ve seen since [1988].\\', \\'While the north-east, midwest and upper great plains have experienced a 30% increase in heavy rainfall episodes – considered once-in-every-five year downpours – parts of the west, particularly California, have been parched by drought.\\', \\'The report suggests significantly smaller overall  ice-mass losses than previous estimates.\\', \"This argument originates from Angstrom\\'s work in 1901.\", \\'\"the temperature increase in the second half of the 20th century could have taken place in steps driven by major ENSO events\" (Jens Raunsø Jensen)\\', \\'‘The dry periods are drier and the wet periods are wetter,’ said Jeffrey Mount, a water expert and senior fellow at the Public Policy Institute of California.\\', \\'Global warming is causing more hurricanes and stronger hurricanes.\\', \\'Human-produced carbon might be one of the factors of climate change, but there’s simply no evidence that it is a significant one.\\', \\'Shelters in poorer countries are not repainted as often, and darker stations absorb more of the sun’s energy.\\', \\'The Little Ice Age ended as recently as 1850.\\', \\'Increased atmospheric carbon dioxide has helped raise global food production and reduce poverty.\\', \\'The Greenland ice sheet is at least 400,000 years old and warming was not global when Europeans settled in Greeland 1,000 years ago\\', \\'Latest IPCC Reports (AR5) have shown global mean temperature forecasts from the 2005 IPCC report exceeded actual readings.\\', \"The data is being reported by the University of Illinois\\'s Arctic Climate Research Center, and is derived from satellite observations of the Northern and Southern hemisphere polar regions (Daily Tech).\", \\'The worsening of tidal flooding in American coastal communities is largely a consequence of greenhouse gases from human activity, and the problem will grow far worse in coming decades, scientists reported Monday.\\', \\'The sea level was 20 to 30 feet higher than it is today, implying that the ice sheets in both Greenland and Antarctica must have partly disintegrated, a warning of what could occur in the relatively near future if the heating of the planet continues unchecked.”\\', \\'And there is a lot of evidence that climate change is diminishing biodiversity, which can be seen in these alpine meadows as well.\\', \\'Forward projections of solar cyclicity imply the next few decades may be marked by global cooling rather than warming, despite continuing CO2 emissions.\\', \\'Weather and climate are different; climate predictions do not need weather detail.\\', \\'describes a world of worsening food shortages and wildfires, and a mass die-off of coral reefs as soon as 2040\\', \\'About 60% of the warming observed from 1970 to 2000 was very likely caused by this natural 60-year climatic cycle during its warming phase...\\', \\'parts of the Earth will likely become close to uninhabitable\\', \\'Comparisons to the most recent data consistently finds that climate change is occurring more rapidly and intensely than indicated by IPCC predictions.\\', \\'The amount of heat energy coming out of the Earth is too small to even be worth considering.\\', \\'California legislators have made it illegal for anyone to deny climate change, under threat of jail time.\\', \\'The current debate on the connection between CO2\\\\xa0emissions and climate change has largely overlooked an independent and equally serious problem, the increasing acidity of our oceans.\\', \\'Given that a doubling of carbon dioxide would change the surface heat flux by only two watts per square meter, it is evident that a small change in cloud cover can strongly affect the response to carbon dioxide.\"\\', \\'\"a [cloudcover] change in the Tropics could lead to a negative feedback in the global climate, with a feedback factor of about –1.1, which if correct, would more than cancel all the positive feedbacks in the more sensitive current climate models\" (Lindzen et al.\\', \\'I note particularly that sea-level rise is not affected by the warming; it continues at the same rate, 1.8 millimeters a year, according to a 1990 review by Andrew S. Trupin and John Wahr.\\', \\'They can now model how likely a specific event would be to occur under historical conditions, compared to the record temperatures we’re experiencing.\\', \\'“The IPCC reports also don’t fully account for the albedo effect (less ice means less reflected and more absorbed sunlight, hence more warming); more cloud cover (which traps heat); or the dieback of forests and other flora (which extract carbon from the atmosphere).\\', \\'The atmosphere of the Earth is less able to absorb shortwave radiation from the Sun than thermal radiation coming from the surface.\\', \\'The past shows that climate change is normal, that warmer times and more atmospheric carbon dioxide have driven biodiversity and that cold times kill.”\\', \\'In an interview with the BBC after the scandal broke, Dr Jones admitted there had been no statistically significant global warming since 1995\\', \\'Losing tropical forests is not somehow cheaper than putting up wind farms in the US or Sahara.”\\', \\'“Underneath the permafrost there are sediments full of methane hydrates.\\', \\'CO2 increase is natural, not human-caused.\\', \"\\'Our harmless emissions of trifling quantities of carbon dioxide cannot possibly acidify the oceans.\", \\'a new study by a leading climate economist, Richard Tol of the University of Sussex, concludes that warming may well bring gains, because carbon dioxide causes crops and wild ecosystems to grow greener and more drought-resistant.\\', \\'Geologists say that humans are now pumping the gas into the air much faster than nature has ever done.\\', \\'temperature under the ice is fixed at -2C. \\\\xa0Thus elevated winter   air\\\\xa0temperatures\\', \\'Germany managed to increase its use of renewables and its output of carbon dioxide at the same time -- because it resorted to cheap coal to keep the lights on at a price its people could afford.\\', \\'“Which is to say that these beans will be eaten by cows, and the cows will convert the beans to meat, and the humans will eat the meat.\\', \\'Yet the cost of doing something will likely be higher than 6 per cent of GDP\" (Bjorn Lomborg)\\', \\'While evidence that the earth’s orbital variations impact radiation levels and thus global temperatures does not of course mean that man is not in some way impacting the climate, studies like these highlight that the role man plays on the planet is dwarfed by natural phenomena utterly out of our control.\\', \\'Global temperature is still rising and 2010 was the hottest recorded.\\', \\'Glaciers are retreating almost everywhere around the world — including in the Alps, Himalayas, Andes, Rockies, Alaska and Africa.\\', \\'The temporary drop in sea level in 2010 was due to intense land flooding caused by a strong La Nina.\\', \\'Species that have a lot of plasticity tend to be generalists.\\', \\'The long term trend from albedo is of cooling.\\', \\'In 1990 the United Nation’s Intergovernmental Panel on Climate Change (IPCC) predicted that temperatures would rise by 0.54F (0.3C) per decade.\\', \\'Benny Peiser conducted a search of peer-reviewed literature on the ISI Web of Science database between 1993 and 2003.\\', \\'So it’s clear now we’re not seeing dangerous global warming, and the climate models are wrong.\\', \\'Natural climate solutions like ending deforestation and restoring degraded forests could, at the global level, create 80 million jobs, bring 1 billion people out of poverty and add US$ 2.3 trillion in productive growth.\\', \\'It fails to explain how we can have short-term positive feedback and long-term negative feedback.\\', \"While preventing global warming is relatively cheap, economists can\\'t even accurately estimate the accelerating costs of climate damages if we continue with business-as-usual.\", \\'“Sea level rise, which was occurring long before humans could be blamed, has not accelerated and still amounts to only 1 inch every ten years.\\', \\'First, they concur with the believers that the Earth has been warming since the end of a Little Ice Age around 1850.\\', \\'Recent research also indicates that the quantity of fossil fuels staying in the atmosphere is much less than previously thought.\\', \\'But abnormal temperature spikes in February and earlier this month have left it vulnerable to winds, which have pushed the ice further away from the coast than at any time since satellite records began in the 1970s.”\\', \\'Climate scientists use the 20th-century average as a benchmark for global temperature measurements.\\', \\'Worry about global warming impacts in the next 100 years, not an ice age in over 10,000 years.\\', \\'May 2018 marked the 401st straight month of global temperatures exceeding the 20th century average.\\', \\'Wind is a finite resource and harnessing it would slow the winds down, which would cause the temperature to go up.\\', \\'Sea level rise could reach six or seven feet by the year 2100.\\', \\'\"We found [U.S. weather] stations located next to  the exhaust fans of air conditioning units, surrounded by asphalt  parking lots and roads,\\\\xa0on blistering-hot rooftops, and near sidewalks  and buildings that absorb and radiate heat.\\', \"Renewables can\\'t provide baseload power\", \\'Water vapor is the most powerful greenhouse gas\\', \\'There is no statistical evidence that global warming is intensifying[…] droughts\\', \"While preventing global warming is relatively cheap, economists can\\'t even accurately estimate the accelerating costs of climate damages if we continue with business-as-usual.\", \\'Fifty-five thousand years ago the whole world was 2°C warmer than it is today[...]\\', \\'In their worst-case scenario, the sea level could rise by six feet by the end of this century, and the pace could pick up drastically in the 22nd century.\\', \\'[ocean acidification was ] First referenced in a peer-reviewed study in Nature in 2003\\', \\'Droughts and floods have not changed since we\\\\x92ve been using fossil fuels\\', \\'However, volcanoes have had very little impact on the last 40 years of global warming.\\', \\'Because the collapse of vulnerable parts of the ice sheet could raise the sea level dramatically, the continued existence of the world’s great coastal cities — Miami, New York, Shanghai and many more — is tied to Antarctica’s fate.\\', \\'more than 100 per cent of the warming over the past century is due to human actions.\\', \\'“The oceans will never become acid because there is such a huge buffering capacity in the oceans.\\', \\'Mars, Triton, Pluto and Jupiter all show global warming, pointing to the Sun as the dominating influence in determining climate throughout the solar system.\"\\', \\'Scientists retracted claim that sea levels are rising.\\', \\'Weather Channel Co-Founder John Coleman Calls Global Warming a Hoax\\', \\'” ‘You see, gas in America is incredibly cheap, because of fracking,’ he says.\\', \\'“Although the extent of the summer sea ice after 2006 dropped abruptly to levels not expected until 2050, the predicted 67-per-cent decline in polar bear numbers simply didn’t happen.\\', \\'Adapting to global warming is cheaper than preventing it.\\', \\'\"The killer proof that CO2 does not drive climate is to be found during the Ordovician- Silurian and the Jurassic-Cretaceous periods\\\\xa0when CO2 levels were greater than 4000 ppmv (parts per million by volume) and about 2000 ppmv respectively.\\', \\'at the end of recent ice ages, the concentration of carbon dioxide in the atmosphere started to rise only after temperatures began to climb.\\', \\'Humans are too insignificant to affect global climate\\', \\'“We’ve known about [the greenhouse effect] for more than a century.\\', \\'Carbon pollution is a health hazard.\\', \\'The cement, iron and steel, and petroleum refining industries could see their production cut by 21% 19%, and 11% respectively.”\\', \\'They do not make a definitive attribution statement, but the data are consistent with and strongly suggestive of human-driven warming as a root cause of the oxygen decline.’”\\', \\'But as the change gets larger or more persistent … it appears they underestimate climate change\\', \\'“[…]The impact on calcification, metabolism, growth, fertility and survival of calcifying marine species when pH is lowered up to 0.3 units […] is beneficial, not damaging.\\', \\'Arctic summer sea ice has shrunk by an area equal to Western Australia, and might be all gone in a decade.\\', \\'Skeptics have long pointed to ice gain in the Southern Hemisphere as evidence climate change wasn’t occurring, but scientists warned that it was caused by natural variations and circulations in the atmosphere.\\', \\'\"the cascading effects\" of climate change contributed to the rise of ISIS.\\', \\'“So now we’re able to explain from natural factors how we’ve had the 20th Century warming.\\', \\'While summer maximums have showed little trend, the annual average Arctic temperature has risen sharply in recent decades.\\', \\'\"We found [U.S. weather] stations located next to  the exhaust fans of air conditioning units, surrounded by asphalt  parking lots and roads,\\\\xa0on blistering-hot rooftops, and near sidewalks  and buildings that absorb and radiate heat.\\', \\'The effect of this disparity is that thermal radiation escaping to space comes mostly from the cold upper atmosphere, while the surface is maintained at a substantially warmer temperature.\\', \\'a marginally significant warming trend in the data over the past several years, erasing the temperature plateau that vexed climate alarmists have found difficult to explain.\\', \\'The observed behavior of radiation fluxes implies negative feedback processes associated with relatively low climate sensitivity.\\', \"Postma\\'s model contains many simple errors; in no way does Postma undermine the existence or necessity of the greenhouse effect.\", \"President Obama\\'s proposal calls for serious cuts in our own long-term carbon emissions, but China and India will still be allowed to increase their emissions.\", \\'U.S. Sen. Ron Johnson \"led the fight to let polluters release unlimited amounts of carbon pollution and took nearly $225,000 from polluters.\"\\', \"\\'Global warming\\' and \\'climate change\\' mean different things and have both been used for decades.\", \"Hansen\\'s 1988 results are evidence that the actual climate sensitivity is about 3°C for a doubling of atmospheric CO2.\", \\'Global surface temperatures have continued to rise steadily beneath short-term natural cooling effects, and the rise in global heat content has not slowed at all.\\', \\'Together, these two unaltered [sea level] datasets indicate that global mean sea level trend has remained stable over the entire period 1992-2007, altogether eliminating the apparent 3.2 mm/year rate of sea-level rise arising from the “adjusted” data.\\', \\'[…]until we develop a practical, cost-competitive alternative to fossil fuels, it is unlikely that renewable energy will ever make up more than 15-20% of global energy requirements.\\', \\'Scientific analysis of past climates\\\\xa0shows that greenhouse gasses, principally CO2,\\\\xa0have controlled most ancient\\\\xa0climate changes.\\', \"Gov. Palin ... is somebody who actually doesn\\'t believe that climate change is man-made.\", \\'if we halved today’s atmospheric carbon dioxide content, all life would die.\\', \\'More than half of the 44 studies selected for publication found that raised levels of CO2 had little or no impact on marine life, including crabs, limpets, sea urchins and sponges\\', \\'While summer maximums have showed little trend, the annual average Arctic temperature has risen sharply in recent decades.\\', \\'The failure of the 2007 polar bear survival model is a simple fact that explodes the myth that polar bears are on their way to extinction.\\', \\'“But the differences between NOAA and NASA aren’t that significant, Schmidt further argued, in the context of the bigger picture.\\', \\'the kind of extreme heat we saw this past summer will be the norm\\', \\'When you account for the effects which are not reflected in the market price of fossil fuels, like air pollution and health impacts, the true cost of coal and other fossil fuels is higher than the cost of most renewable energy technologies.\\', \\'Scientists just discovered a massive, heretofore unknown, source of nitrogen\\', \\'the Intergovernmental Panel on Climate Change is misleading humanity about climate change and sea levels, and that in fact a new solar-driven cooling period is not far off.\\', \\'Temperature errors in the Great Lakes region are not used in any global temperature records.\\', \\'But like most claims regarding global warming, the real effect is small, probably temporary, and most likely due to natural weather patterns\\', \\'Scientists project that the Arctic will be ice-free in the summer of 2013.\\', \\'In addition, [climate models] ignore the fact that enriching the atmosphere with CO2 is beneficial\\', \"The planet\\'s average surface temperature has risen about 1.62 degrees Fahrenheit (0.9 degrees Celsius) since the late 19th century, a change driven largely by increased carbon dioxide and other human-made emissions into the atmosphere.\", \\'89 percent of the stations fail to meet the National Weather Service’s own siting requirements that stations must be 30 metres away from an artificial heating or radiating/reflecting heat source.\\', \\'The broader term covers changes beyond warmer temperatures, such as shifting rainfall patterns.”\\', \"The data is being reported by the University of Illinois\\'s Arctic Climate Research Center, and is derived from satellite observations of the Northern and Southern hemisphere polar regions (Daily Tech).\", \"The most recent survey of climate scientists said about 57 percent don\\'t agree with the idea that 95 percent of the change in the climate is caused by CO2.\", \\'Plant stomata show higher and more variable CO2 levels\\', \\'Data from NOAA’s Barrow Alaska station ‘indicate that October through December emissions of CO2 from surrounding tundra increased by 73 percent since 1975, supporting the view that rising temperatures have made Arctic ecosystems a net source of CO2.’”\\', \\'Arctic sea ice has been retreating over the past 30 years.\\', \\'Pollard and DeConto are the first to admit that their model is still crude, but its results have pushed the entire scientific community into emergency mode.\\', \\'Arctic summer sea ice has shrunk by an area equal to Western Australia, and might be all gone in a decade.\\', \\'Losing tropical forests is not somehow cheaper than putting up wind farms in the US or Sahara.”\\', \\'Ben Santer rewrote the 1995 IPCC report\\', \\'The warming will slow to a potentially manageable pace only when human emissions are reduced to zero.\\', \\'No state generates as much solar power as California, or has as many people whose jobs depend on it.\\', \\'A drop of volcanic activity in the early 20th century may have had a warming effect.\\', \\'Arctic summer sea ice has shrunk by an area equal to Western Australia, and might be all gone in a decade.\\', \\'At least close to the new spot and to the equator, nothing less than global warming is expected\"\\', \\'(In technical lingo, the so-called social cost of carbon would be negative.)”\\', \\'“We’ve known about [the greenhouse effect] for more than a century.\\', \\'“With a record El Niño, we should have experienced record high temperatures.\\', \\'The connection between the vanishing Arctic ice and extreme summer weather in the northern hemisphere is probable, according to scientists, but not yet as certain as the winter link.\\', \\'Numerous case studies on both regional and global scales have determined that renewable energy, if properly implemented, can provide baseload power.\\', \\'In many other cases, though — hurricanes, for example — the linkage to global warming for particular trends is uncertain or disputed.\\', \\'“Even if we meet the Paris goals of two degrees warming, cities like Karachi and Kolkata will become close to uninhabitable, annually encountering deadly heat waves like those that crippled them in 2015.\\', \\'\"[T]he influence of  so-called greenhouse gases on near-surface temperature - is not yet  absolutely proven.\\', \\'Multiple lines of independent evidence indicate humidity is rising and provides positive feedback.\\', \\'[T]he overwhelming majority of peer-reviewed studies \\\\xa0[find] that CO2 in the atmosphere remained there a short time.\\', \\'While the Greenland interior is in mass balance, the coastlines are losing ice.\\', \\'When life is considered, ocean acidification is often found to be a non-problem, or even a benefit.\\', \"The most recent survey of climate scientists said about 57 percent don\\'t agree with the idea that 95 percent of the change in the climate is caused by CO2.\", \"Tuvalu sea level isn\\'t rising\", \\'The increase in atmospheric methane, a greenhouse gas, in the latter part of the 20th century was explained as coming from expansion of grazing and rice cultivation, but the cause was found to be leaking gas pipelines in the Soviet Union which are now being properly managed and maintained.\\', \\'For instance, in the original hockey stick (ending 1980) the last 30-40 years of data points slightly downwards.\\', \\'If every house in Florida had a solar-heated water tank, that would eliminate consumption by 17 percent.\\', \"There\\'s no empirical evidence for climate change.\"]. Evidence: [\\'The West Antarctic Ice Sheet is stable so long as the Ross Ice Shelf is constrained by drag along its lateral boundaries and pinned by local grounding.\\', \\'He further said that the IEA is overstating the role of shale in a global market, and how the core job of the IEA, is not to take things out of context.\\', \\'This acceleration is due mostly to human-caused global warming, which is driving thermal expansion of seawater and the melting of land-based ice sheets and glaciers.\\', \\'However, it is the outflow of the ice from the land to form the ice shelf which causes a rise in global sea level.\\', \\'It varies globally in a range of ±\\\\xa02\\\\xa0m. Historically, adjustments were made to sea-level measurements to take into account the effects of the 235 lunar month Metonic cycle and the 223-month eclipse cycle on the tides.\\', \\'Because water vapor is a greenhouse gas, this results in further warming and so is a \"positive feedback\" that amplifies the original warming.\\', \\'Industrial pollutants such as hydrofluorocarbons (HFCs) and perfluorocarbons (PFCs) have a GWP many thousands of times greater than carbon dioxide by volume.\\', \\'The heat needed to raise an average temperature increase of the entire world ocean by 0.01\\\\xa0°C would increase the atmospheric temperature by approximately 10 °C.\\', \\'\"Antarctic ice shelf disintegration triggered by sea ice loss and ocean swell\".\\', \\'Sea level on the Great Barrier Reef has not changed significantly in the last 6,000 years.\\', \\'It established an alternative and low carbon energy business in 2005, with plans to invest $8 billion over a 10-year period into renewable energy sources including solar, wind, and biofuels, and non-renewable sources including natural gas and hydrogen power.\\', \\'Lee County was lashed by strong winds and heavy rainfall, which caused prolonged flooding in some areas.\\', \\'Several researchers have concluded that around 97% of climate scientists agree with this consensus.\\', \\'During the Iranian nuclear crisis the newspaper minimized the \"negative processes\" of the United States while overemphasizing similar processes of Iran.\\', \\'Computer models are run on supercomputers to reproduce and predict the circulation of the oceans, the annual cycle of the seasons, and the flows of carbon between the land surface and the atmosphere.\\', \\'latent heat) at the temperature of the warm ocean surface (during evaporation, the ocean cools and the air warms).\\', \\'For example, Ross McKitrick and Patrick J. Michaels conducted a statistical study of surface-temperature data regressed against socioeconomic indicators, and concluded that about half of the observed warming trend (for 1979–2002) could be accounted for by the residual UHI effects in the corrected temperature data set they studied—which had already been processed to remove the (modeled) UHI contribution.\\', \\'April 2007 was also the warmest month in history, the average temperature being 5\\\\xa0°C warmer than normal.\\', \\'With this information, scientists can produce scenarios of how greenhouse gas emissions may vary in the future.\\', \\'Global warming not only causes changes in tropical cyclones, it may also make some impacts from them worse via sea level rise.\\', \\'Drought is the unusual dryness of soil caused by levels of rainfall significantly below average over a prolonged period.\\', \\'While CO 2 absorption and release is always happening as a result of natural processes, the recent rise in CO 2 levels in the atmosphere is known to be mainly due to human (anthropogenic) activity.\\', \\'In it was the prediction that on our current course the planet will warm a disastrous seven degrees Fahrenheit (or about 3.9 degrees Celsius) by the end of this century.\\', \\'Holstein, James A.\\', \\'In 1896, he published the first climate model of its kind, showing that halving of CO 2 could have produced the drop in temperature initiating the ice age.\\', \\'The 2007 Kangaroo Island bushfires were a series of bushfires caused by lightning strikes on 6 December 2007 on Kangaroo Island, South Australia, resulting in the destruction of 95,000 hectares (230,000 acres) of national park and wilderness protection area.\\', \\'Additional fresh water flowing into the North Atlantic during a warming cycle may also reduce the global ocean water circulation.\\', \\'But, more accurately, global warming is the mainly human-caused increase in global surface temperatures and its projected continuation, while climate change includes both global warming and its effects, such as changes in precipitation.\\', \\'Impacts include the direct effects of extreme weather, leading to injury and loss of life; and indirect effects, such as undernutrition brought on by crop failures.\\', \\'Over time, a massive system of artificial satellites was placed into orbit around Earth.\\', \\'Since 1958, initially under the direction of Charles Keeling, followed by his son Ralph and later Elmer Robinson, Mauna Loa Observatory (MLO) has been monitoring and collecting data relating to atmospheric change, and is known especially for the continuous monitoring of atmospheric carbon dioxide (CO2), which is sometimes referred to as the Keeling Curve.\\', \\'The volcano produces about 400,000\\\\xa0±\\\\xa0100,000 tonnes per year (400,000\\\\xa0±\\\\xa0100,000\\\\xa0t/a) of CO 2, which is about 0.2–0.6% of the worldwide CO 2 flux at subaerial volcanoes.\\', \\'The IPCC Fourth Assessment Report stated that: Warming of the climate system is unequivocal, as evidenced by increases in global average air and ocean temperatures, the widespread melting of snow and ice, and rising global average sea level.\\', \\'Households with a smaller number of solar panels would likely see their rates go up under the proposal.\\', \\'Consistent with Schmidt\\\\\\'s comment, the NASA / NOAA announcement stated that \"globally-averaged temperatures in 2016 were 1.78 degrees Fahrenheit (0.99 degrees Celsius) warmer than the mid-20th century mean\" and that the impact of El Niño warming was estimated to have \"increased the annual global temperature anomaly for 2016 by 0.2 degrees Fahrenheit (0.12 degrees Celsius).\"\\', \\'Satellite measurements by NASA indicate a still increasing sheet thickness above the continent, outweighing the losses at the edge.\\', \\'In tropical and subtropical areas, sea surface temperatures (SSTs) rose 0.2\\\\xa0°C (0.36\\\\xa0°F) within a 50-year period, and in the North Atlantic and Northwestern Pacific tropical cyclone basins, the potential destructiveness and energy of storms nearly doubled within the same duration, evidencing a clear correlation between global warming and tropical cyclone intensities.\\', \\'High blood pressure is estimated to account for approximately 13% of CVD deaths, while tobacco accounts for 9%, diabetes 6%, lack of exercise 6% and obesity 5%.\\', \"This law of neutrality, passed in late October 1955 (and not the State Treaty itself), ensured that modern Austria would align with neither NATO nor the Soviet bloc, and is considered one of the reasons for Austria\\'s delayed entry into the European Union in 1995.\", \\'Climate change may occur over long and short timescales from a variety of factors; recent warming is discussed in global warming.\\', \\'Currently, surface temperatures are rising by about 0.2\\\\xa0°C per decade.\\', \\'Drought is much more common in the West than the rest of the United States.\\', \\'As with glaciers worldwide, those of the greater Himalayan region are experiencing a decline in mass, and researchers claim that between the early 1970s and early 2000s, there had been a 9\\\\xa0percent reduction in ice mass.\\', \\'This classic was originally published in French in 1958.\\', \\'The average global temperature on Earth has increased by about 0.8° Celsius (1.4° Fahrenheit) since 1880; Two-thirds of the warming has occurred since 1975, at a rate of roughly 0.15-0.20\\\\xa0°C per decade.\\', \\'In certain areas where the climate is drier, it becomes a true semi-desert with ground not entirely covered by vegetation: \"open\" as opposed to \"closed\" vegetation.\\', \\'Their report also states that due to global warming the number of future hurricanes will \"either decrease or remain essentially unchanged\" overall, but the ones that do form will likely be stronger, with fiercer winds and heavier rains.\\', \\'Seventy-five of 77 believed that human activity is a significant factor in changing mean global temperatures.\\', \\'Acute conditions such as sunburn, dehydration, heat stroke and allergic reactions are also common.\\', \\'The Little Ice Age ended in the latter half of the 19th century or early in the 20th century.\\', \\'Potential negative environmental impacts caused by increasing atmospheric carbon dioxide concentrations are rising global air temperatures, altered hydrogeological cycles resulting in more frequent and severe droughts, storms, and floods, as well as sea level rise and ecosystem disruption.\\', \\'The effects of global warming in the Arctic, or climate change in the Arctic include rising air and water temperatures, loss of sea ice, and melting of the Greenland ice sheet with a related cold temperature anomaly, observed since the 1970s.\\', \\'Compared to the previous report, the lower bounds for the sensitivity of the climate system to emissions were slightly lowered, though the projections for global mean temperature rise (compared to pre-industrial levels) by 2100 exceeded 1.5\\\\xa0°C in all scenarios.\\', \\'The IR estimates have rather low skill at short time and space scales, but are available very frequently (15 minutes or more often) from satellites in geosynchronous Earth orbit.\\', \\'The main idea in the report according to one of his authors Michael Oppenheimer is that if humanity will drastically reduce Greenhouse gas emission in the next decades the problem will be tough but manageable.\\', \\'In 2018, scientists concluded that high sea levels some 125,000 years ago, which were 6–9 m (20–30\\\\xa0ft) higher than today, were most likely due to the absence of the WAIS, and found evidence that the ice sheet collapsed under climate conditions similar to those of today.\\', \\'Increased temperatures may allow herbivores to expand further into alpine regions, significant impacting the composition of alpine herbfields.\\', \\'When the model included estimated changes in solar intensity, it gave a reasonable match to temperatures over the previous thousand years and its prediction was that \"CO 2 warming dominates the surface temperature patterns soon after 1980.\"\\', \\'Documented long-term climate changes include changes in Arctic temperatures and ice, widespread changes in precipitation amounts, ocean salinity, wind patterns and extreme weather including droughts, heavy precipitation, heat waves and the intensity of tropical cyclones.\\', \\'Battle for the Reef – Four Corners – ABC.au Great Barrier Reef scientists confirm largest die-off of corals recorded.\\', \\'In the scientific literature, there is an overwhelming consensus that global surface temperatures have increased in recent decades and that the trend is caused mainly by human-induced emissions of greenhouse gases.\\', \\'The expanding Sun is expected to vaporize Mercury and render Earth uninhabitable.\\', \\'The statement references the IPCC\\\\\\'s Fourth Assessment of 2007, and asserts that \"climate change is happening even faster than previously estimated; global CO 2 emissions since 2000 have been higher than even the highest predictions, Arctic sea ice has been melting at rates much faster than predicted, and the rise in the sea level has become more rapid\".\\', \"Geothermal power is considered to be renewable because any projected heat extraction is small compared to the Earth\\'s heat content.\", \\'If the government was armed with appropriate legislation and the threat of long prison terms, private citizens would not feel the need to act.\\', \\'This will cause an elevation of ocean alkalinity, leading to the enhancement of the ocean as a reservoir for CO 2 with implications for climate change as more CO 2 leaves the atmosphere for the ocean.\\', \\'The main reinforcing feedbacks are the water vapour feedback, the ice–albedo feedback, and probably the net effect of clouds.\\', \\'The impact of this negative feedback effect is included in global climate models summarized by the IPCC.\\', \\'The sea-level rise due to Antarctica has been estimated to be 0.25\\\\xa0mm per year from 1993–2005, and 0.42\\\\xa0mm per year from 2005 to 2015.\\', \\'The authors used computational models developed by NCAR to simulate the climatic effects of a soot cloud that they suggest would be a result, of a regional nuclear war in which 100 \"small\" (15 Kt) weapons are detonated over cities.\\', \\'If cloud cover increases, more sunlight will be reflected back into space, cooling the planet.\\', \"Sunlight on the surface of Earth is attenuated by Earth\\'s atmosphere, so that less power arrives at the surface (closer to 1,000\\\\xa0W/m2) in clear conditions when the Sun is near the zenith.\", \\'Increasing atmospheric carbon dioxide certainly affects plant morphology and is acidifying oceans, and temperature affects species ranges, phenology, and weather, but, mercifully, the major impacts that have been predicted are still potential futures.\\', \\'Here is the quote: \"The fact is that we can\\\\\\'t account for the lack of warming at the moment and it is a travesty that we can\\\\\\'t.\"\\', \\'An ambitious proposal for China is the Aerially Delivered Re-forestation and Erosion Control System and the proposed Sahara Forest Project coupled with the Seawater Greenhouse.\\', \\'(2008) estimate that not less than 1,400 gigatonnes of carbon is presently locked up as methane and methane hydrates under the Arctic submarine permafrost, and 5–10% of that area is subject to puncturing by open taliks.\\', \\'Human activities have caused CO 2 to increase above levels not seen in hundreds of thousands of years.\\', \\'Carbon dioxide also causes ocean acidification because it dissolves in water to form carbonic acid.\\', \\'In 2009, Tol published an influential paper that combined data from several earlier studies, concluding that at least some amount of global warming could lead to economic gains.\\', \\'CO 2 is produced by all aerobic organisms when they metabolize carbohydrates and lipids to produce energy by respiration.\\', \\'They typically occur when a layer of warm air hovers over a region, but the ambient temperature a few meters above the ground is near or below 0\\\\xa0°C (32\\\\xa0°F), and the ground temperature is sub-freezing.\\', \\'In particular, the use of renewable energy for production of fuels from CO 2 (such as methanol) is attractive as this could result in fuels that could be easily transported and used within conventional combustion technologies but have no net CO 2 emissions.\\', \\'Carnivores require meat in their diet for survival, but carnists choose to eat meat based on their beliefs.\\', \\'He argues that \"...\\\\xa0the cost and benefits of the proposed measures against global warming.\\', \\'There are many interesting palaeoclimate studies that suggest that solar variability had an influence on pre-industrial climate.\\', \\'Between 1993 and 2017, the global mean sea level rose on average by 3.1 ±\\\\xa00.3\\\\xa0mm per year, with an acceleration detected as well.\\', \\'The retreat of mountain glaciers, notably in western North America, Asia, the Alps and tropical and subtropical regions of South America, Africa and Indonesia, provide evidence for the rise in global temperatures since the late 19th century.\\', \\'An especially strong Walker circulation causes a La Niña, resulting in cooler ocean temperatures due to increased upwelling.\\', \\'phenotypic plasticity, multiple life-cycle stages).\\', \"Orbital forcing from cycles in the earth\\'s orbit around the sun has, for the past 2,000 years, caused a long-term northern hemisphere cooling trend that continued through the Middle Ages and the Little Ice Age.\", \\'Models referenced by the Intergovernmental Panel on Climate Change (IPCC) predict that global temperatures are likely to increase by 1.1 to 6.4\\\\xa0°C (2.0 to 11.5\\\\xa0°F) between 1990 and 2100.\\', \\'Released in beta in November 2004, the Google Scholar index includes most peer-reviewed online academic journals and books, conference papers, theses and dissertations, preprints, abstracts, technical reports, and other scholarly literature, including court opinions and patents.\\', \\'Tipping points are \"perhaps the most ‘dangerous’ aspect of future climate changes\", leading to irreversible impacts on society.\\', \\'Globally, there are an estimated 3 million direct jobs in renewable energy industries, with about half of them in the biofuels industry.\\', \"This provided immediate feedback and acted as positive reinforcement for a soldier\\'s behavior.\", \\'Economists have different views over the cost estimates of climate change mitigation given in the Review.\\', \\'A 2018 systematic review study estimated that ice loss across the entire continent was 43 gigatons (Gt) per year on average during the period from 1992 to 2002, but has accelerated to an average of 220 Gt per year during the five years from 2012 to 2017.\\', \"An ice age is a long period of reduction in the temperature of the Earth\\'s surface and atmosphere, resulting in the presence or expansion of continental and polar ice sheets and alpine glaciers.\", \"Projections suggest that more than 80% of the world\\'s energy will come from fossil fuels.\", \\'A lower air temperature of −94.7\\\\xa0°C (−138.5\\\\xa0°F) was recorded in 2010 by satellite—however, it may be influenced by ground temperatures and was not recorded at a height of 7 feet (2\\\\xa0m) above the surface as required for the official air temperature records.\\', \\'The IPCC has adopted the baseline reference period 1850–1900 as an approximation of pre-industrial global mean surface temperature.\\', \\'Global anthropogenic greenhouse gas emissions in 2010 were equivalent to 49 billion tonnes of carbon dioxide (using the most recent global warming potentials over 100 years from the AR5 report).\\', \\'1956 1956 European cold wave – February 1956 was the coldest month of the twentieth century over large areas of Western Europe, with mean temperatures below 0\\\\xa0°C (32\\\\xa0°F) as far south as Marseilles being utterly unprecedented in records dating back into the eighteenth century.\\', \\'The westerlies can be particularly strong, especially in the southern hemisphere, where there is less land in the middle latitudes to cause the flow pattern to amplify, which slows the winds down.\\', \\'In high emission scenario, it will be 34\\\\xa0cm by 2050 and 111\\\\xa0cm by 2100.\\', \\'These early towers were positioned either on the rooftops of buildings or as free-standing structures, supplied with air by fans or relying on natural airflow.\\', \\'Geothermal power plants can operate 24\\\\xa0hours per day, providing baseload capacity.\\', \\'Water vapor is the most potent greenhouse gas owing to the presence of the hydroxyl bond which strongly absorbs in the infra-red region of the light spectrum.\\', \\'Since the 1950s, droughts and heat waves have appeared simultaneously with increasing frequency.\\', \\'Researchers have warned that current economic modeling may seriously underestimate the impact of potentially catastrophic climate change and point to the need for new models that give a more accurate picture of potential damages.\\', \\'Consequently, summers are 2.3\\\\xa0°C (4\\\\xa0°F) warmer in the Northern Hemisphere than in the Southern Hemisphere under similar conditions.\\', \\'Over the 21st century, the IPCC projects that in a very high emissions scenario the sea level could rise by 61–110\\\\xa0cm.\\', \"A 2013 study claimed acidity was increasing at a rate 10 times faster than in any of the evolutionary crises in Earth\\'s history.\", \\'The increased demands are contributing to increased environmental degradation and to global warming, with resultant intensification of tropical cyclones, floods, droughts, forest fires, and incidence of hyperthermia deaths.\\', \\'Notable eruptions in the historical records are the 1991 eruption of Mount Pinatubo which lowered global temperatures by about 0.5\\\\xa0°C (0.9\\\\xa0°F) for up to three years, and the 1815 eruption of Mount Tambora causing the Year Without a Summer.\\', \"Around 90% of the Earth\\'s ice mass is in Antarctica, which, if melted, would cause sea levels to rise by 58 meters.\", \\'The global warming observed over the past 50 years is due primarily to human-induced emissions of heat-trapping gases.\\', \\'More recently, anthropogenic activities have steadily increased the carbon dioxide content of the atmosphere; about 30–40% of the added CO2 is absorbed by the oceans, forming carbonic acid and lowering the pH (now below 8.1) through a process called ocean acidification.\\', \\'It is a major aspect of climate change and has been demonstrated by direct temperature measurements and by measurements of various effects of the warming.\\', \\'Since at least the start of the 20th century, the average global sea level has been rising.\\', \\'Climate change has also been called the \"greatest scam in history\" by John Coleman, who co-founded the Weather Channel.\\', \\'Natural gas for industrial use has become cheaper by around 30% compared to the rest of the US.\\', \"Steven Amstrup and other U.S. Geological Survey scientists have predicted two-thirds of the world\\'s polar bears may disappear by 2050, based on moderate projections for the shrinking of summer sea ice caused by climate change, though the validity of this study has been debated.\", \\'\"Eat less meat to avoid dangerous global warming, scientists say\".\\', \\'The Silurian (/sɪˈljʊər.i.ən, saɪ-/ sih-LYOOR-ee-ən, sy-) is a geologic period and system spanning 24.6 million years from the end of the Ordovician Period, at 443.8 million years ago (Mya), to the beginning of the Devonian Period, 419.2 Mya.\\', \\'Increases in atmospheric concentrations of CO 2 and other long-lived greenhouse gases such as methane, nitrous oxide and ozone have correspondingly strengthened their absorption and emission of infrared radiation, causing the rise in average global temperature since the mid-20th century.\\', \\'Currently, through land development, combustion of fossil fuels, and pollution, humans are thought to be the main contributor to global climate change.\\', \\'The \"greenhouse effect\", substantially responsible for Earth\\\\\\'s global warming, was first described in 1824 by the French mathematician Joseph Fourier.\\', \\'Health hazards Hazards affecting the health of exposed persons, usually having an acute or chronic illness as the consequence.\\', \\'By the first half of 2016, only 10 vehicles were manufactured per day in Venezuela with production dropping 86%.\\', \\'A 2005 study concludes human activity is the cause of the temperature rise and resultant changing species behaviour, and links these effects with the predictions of climate models to provide validation for them.\\', \\'indicates that current greenhouse gas reduction policies in the US are based on what appear to be significant underestimates of anthropogenic methane emissions.\\', \\'This reduction in pH affects biological systems in the oceans, primarily oceanic calcifying organisms.\\', \\'Global warming has led to decades of shrinking and thinning of the Arctic sea ice, making it vulnerable to atmospheric anomalies.\\', \\'In November 2017, a second warning to humanity signed by 15,364 scientists from 184 countries stated that \"the current trajectory of potentially catastrophic climate change due to rising greenhouse gases from burning fossil fuels, deforestation, and agricultural production\\\\xa0– particularly from farming ruminants for meat consumption\" is \"especially troubling\".\\', \\'This has had cascading effects, especially on grizzly bear populations as pine nuts are an important source of winter time food in periods of large snowpack.\\', \\'The introduction includes this statement: There is strong evidence that the warming of the Earth over the last half-century has been caused largely by human activity, such as the burning of fossil fuels and changes in land use, including agriculture and deforestation.\\', \\'The IPCC also indicate that, over the last 100 years, the annually averaged temperature in the Arctic has increased by almost twice as much as the global mean temperature has.\\', \\'All flight operations were controlled from an air conditioned observation room in the control tower of this building, which had windows overlooking the runway and landing mat areas.\\', \"This is much colder than the conditions that actually exist at the Earth\\'s surface (the global mean surface temperature is about 14\\\\xa0°C).\", \\'Over several decades of development, models have consistently provided a robust and unambiguous picture of significant climate warming in response to increasing greenhouse gases.\\', \"The main negative feedback comes from the Stefan–Boltzmann law, the amount of heat radiated from the Earth into space changes with the fourth power of the temperature of Earth\\'s surface and atmosphere.\", \\'Minimum description length Minimum message length\\\\xa0– Formal information theory restatement of Occam\\\\\\'s Razor Newton\\\\\\'s flaming laser sword Philosophical razor\\\\xa0– Principle or rule of thumb that allows one to eliminate unlikely explanations for a phenomenon Philosophy of science\\\\xa0– The philosophical study of the assumptions, foundations, and implications of science Simplicity \"Ockham\\\\\\'s razor does not say that the more simple a hypothesis, the better.\"\\', \\'The country submitted a proposed protocol which would have imposed deeper, legally binding emissions cuts, including on developing nations.\\', \\'They all put a price on pollution (for example, see carbon price), and so provide an economic incentive to reduce pollution beginning with the lowest-cost opportunities.\\', \\'Research in the 1950s suggested that temperatures were increasing, and a 1952 newspaper used the term \"climate change\".\\', \\'In his first paper on the matter, he estimated that global temperature would rise by around 5 to 6\\\\xa0°C (9.0 to 10.8\\\\xa0°F) if the quantity of CO 2 was doubled.\\', \\'Throughout this period ocean heat storage continued to progress steadily upwards, and in subsequent years surface temperatures have spiked upwards.\\', \\'Current rates of sea level rise from satellite altimetry have been estimated to be 3.0\\\\xa0±\\\\xa00.4 millimetres (0.118\\\\xa0±\\\\xa00.016\\\\xa0in) per year for the period 1993–2017.\\', \\'National renewable energy markets are projected to continue to grow strongly in the coming decade and beyond, and some 120 countries have various policy targets for longer-term shares of renewable energy, including a 20% target of all electricity generated for the European Union by 2020.\\', \\'The opposite effect is volcanism, responsible for the natural greenhouse effect, by emitting CO2 into the atmosphere, thus affecting glaciation (Ice Age) cycles.\\', \\'Climate change means a change of climate which is attributed directly or indirectly to human activity that alters the composition of the global atmosphere and which is in addition to natural climate variability observed over comparable time periods.\\', \\'By volume, dry air contains 78.09% nitrogen, 20.95% oxygen, 0.93% argon, 0.04% carbon dioxide, and small amounts of other gases.\\', \\'Calcium carbonate also becomes more soluble at lower pH, so ocean acidification is likely to have profound effects on marine organisms with calcareous shells, such as oysters, clams, sea urchins, and corals, because their ability to form shells will be reduced, and the carbonate compensation depth will rise closer to the sea surface.\\', \\'Summer temperatures (June, July, and August) average around the freezing point (0\\\\xa0°C (32\\\\xa0°F)).\\', \\'For the first time since the demise of the dinosaurs 65 million years ago, we face a global mass extinction of wildlife.\\', \\'There are differences between the opinion of scientists and that of the general public.\\', \\'Summers are generally hot and dry, lasting from December to March, with February generally the hottest month.\\', \\'Oil refineries also have negative environmental impacts, including air and water pollution.\\', \\'Biological nitrogen fixation was discovered by German agronomist Hermann Hellriegel and Dutch microbiologist Martinus Beijerinck.\\', \\'\"Robust findings\" of the Synthesis report include: \"Warming of the climate system is unequivocal, as is now evident from observations of increases in global average air and ocean temperatures, widespread melting of snow and ice and rising global average sea level\".\\', \\'The Siple Dome (SD) had a climate event with an onset time that is coincident with that of the Little Ice Age in the North Atlantic based on a correlation with the GISP2 record.\\', \\'Climate change may be due to natural internal processes or external forcings such as modulations of the solar cycles, volcanic eruptions and persistent anthropogenic changes in the composition of the atmosphere or in land use.\"\\', \\'\"US Navy predicts summer ice free Arctic by 2016\".\\', \\'These include carbon dioxide (chemical formula: CO 2), methane (CH 4), nitrous oxide (N 2O), and a group of gases referred to as halocarbons.\\', \\'Human-caused increases in greenhouse gases are responsible for most of the observed global average surface warming of roughly 0.8\\\\u202f°C (1.5\\\\u202f°F) over the past 140 years.\\', \\'In low geographical latitudes (below 40\\\\xa0degrees) from 60 to 70% of the domestic hot water use with temperatures up to 60\\\\xa0°C can be provided by solar heating systems.\\', \\'In general, climatic patterns consist of warm temperatures and high annual rainfall.\\', \\'It was developed completely from surface-based weather observations, including descriptions of clouds found near frontal boundaries.\\', \\'97% of the scientists surveyed agreed that global temperatures had increased during the past 100 years; 84% said they personally believed human-induced warming was occurring, and 74% agreed that \"currently available scientific evidence\" substantiated its occurrence.\\', \\'Plant species with the greatest photosynthetic rates and Kranz anatomy showed no apparent photorespiration, very low CO2 compensation point, high optimum temperature, high stomatal resistances and lower mesophyll resistances for gas diffusion and rates never saturated at full sun light.\\', \\'Increases in atmospheric concentrations of CO 2 and other long-lived greenhouse gases such as methane, nitrous oxide and ozone have correspondingly strengthened their absorption and emission of infrared radiation, causing the rise in average global temperature since the mid-20th century.\\', \\'\"Antarctica ice melt has accelerated by 280% in the last 4 decades\".\\', \\'In addition to testing hypotheses, scientists may also generate a model, an attempt to describe or depict the phenomenon in terms of a logical, physical or mathematical representation and to generate new hypotheses that can be tested, based on observable phenomena.\\', \\'The summer shrinking of the ice has been quoted at 50%.\\', \\'A country may increase its food supply by converting forest land to row-crop agriculture, but the value of the same land may be much larger when it can supply natural resources or services such as clean water, timber, ecotourism, or flood regulation and drought control.\\', \\'The IPCC First Assessment Report (FAR) was completed in 1990, and served as the basis of the UNFCCC.\\', \\'Successful adaptation is easier if there are substantial emission reductions.\\', \"Because it is the most populous state in the United States, California is one of the country\\'s largest users of energy.\", \\'Most of the sunlight that reaches the ground is absorbed, warming the surface, which emits radiation upward at longer, infrared, wavelengths.\\', \\'Research shows that the Arctic may become ice-free in the summer for the first time in human history by 2040.\\', \\'In the tropics the net effect is to produce a significant warming, while at latitudes closer to the poles a loss of albedo leads to an overall cooling effect.\\', \\'Several administrative advisers have stated that the social cost should be reduced to zero (currently at $36 per ton of carbon dioxide).\\', \\'Scientists have known for over a century that even this small proportion has a significant warming effect, and doubling the proportion leads to a large temperature increase.\\', \\'[citation needed] The east coast had records various record low temperatures in southern states such as Georgia Alabama and Florida in the US.The eastern seaboard, had like the Western Seaboard also suffered one of the worst winters on record.\\', \\'Consequently, summers are 2.3\\\\xa0°C (4\\\\xa0°F) warmer in the Northern Hemisphere than in the Southern Hemisphere under similar conditions.\\', \\'EGS and HDR technologies, such as hydrothermal geothermal, are expected to be baseload resources which produce power 24 hours a day like a fossil plant.\\', \\'In terrestrial ecosystems, the earlier timing of spring events, as well as poleward and upward shifts in plant and animal ranges, have been linked with high confidence to recent warming.\\', \\'The aim of the agreement is to decrease global warming described in its Article 2, \"enhancing the implementation\" of the UNFCCC through: (a) Holding the increase in the global average temperature to well below 2\\\\xa0°C above pre-industrial levels and to pursue efforts to limit the temperature increase to 1.5\\\\xa0°C above pre-industrial levels, recognizing that this would significantly reduce the risks and impacts of climate change; (b) Increasing the ability to adapt to the adverse impacts of climate change and foster climate resilience and low greenhouse gas emissions development, in a manner that does not threaten food production; (c) Making finance flows consistent with a pathway towards low greenhouse gas emissions and climate-resilient development.\\', \\'Before the Industrial Revolution, naturally occurring amounts of greenhouse gases caused the air near the surface to be warmer by about 33\\\\xa0°C (59\\\\xa0°F) than it would be in their absence.\\', \\'The main reinforcing feedbacks are the water vapour feedback, the ice–albedo feedback, and probably the net effect of clouds.\\', \\'A peer-reviewed research article by Dr. Steven Wing found a significant increase in cancers from 1979–1985 among people who lived within ten miles of TMI; in 2009 Dr. Wing stated that radiation releases during the accident were probably \"thousands of times greater\" than the NRC\\\\\\'s estimates.\\', \\'\"A tipping point in refreezing accelerates mass loss of Greenland\\\\\\'s glaciers and ice caps\".\\', \\'For example, in regards to safety, the report found a \"[high] potential for undesirable ecological side effects\", and that ocean fertilization \"may increase anoxic regions of ocean (\\\\\\'dead zones\\\\\\')\".\\', \\'Most of the climatic warming over the last 50 years is likely to have been caused by increased concentrations of greenhouse gases in the atmosphere.\\', \\'Tuvaluan leaders have been concerned about the effects of rising sea levels.\\', \\'The cause of the 1998 spike is unresolved, but scientists are currently attributing it to a combination of increased wetland and rice field emissions as well as an increased amount of biomass burning.\\', \\'Since the direct temperature record is more accurate than the proxies (indeed, it is needed to calibrate them) it is used when available: i.e., from 1850 onwards.\\', \\'When combined with storage, large scale solar heating can provide 50-97% of annual heat consumption for district heating.\\', \\'A scientific or empirical skeptic is one who questions beliefs on the basis of scientific understanding and empirical evidence.\\']'"
      ]
     },
     "execution_count": 35,
     "metadata": {},
     "output_type": "execute_result"
    }
   ],
   "source": [
    "tokenizer.apply_chat_template(dataset, tokenize=False)"
   ]
  },
  {
   "cell_type": "code",
   "execution_count": 30,
   "metadata": {},
   "outputs": [
    {
     "data": {
      "text/plain": [
       "{'claim_id': 216,\n",
       " 'claim': '[The 1990 IPCC report said] that the Antarctic ice sheets were stable',\n",
       " 'evidence': 'The West Antarctic Ice Sheet is stable so long as the Ross Ice Shelf is constrained by drag along its lateral boundaries and pinned by local grounding.',\n",
       " 'evidence_label': 'NOT_ENOUGH_INFO',\n",
       " 'label': 'neutral',\n",
       " 'category': 'Cryosphere'}"
      ]
     },
     "execution_count": 30,
     "metadata": {},
     "output_type": "execute_result"
    }
   ],
   "source": [
    "dataset[0]"
   ]
  },
  {
   "cell_type": "code",
   "execution_count": 13,
   "metadata": {},
   "outputs": [
    {
     "data": {
      "text/plain": [
       "Dataset({\n",
       "    features: ['claim_id', 'claim', 'evidence', 'evidence_label', 'label', 'category'],\n",
       "    num_rows: 200\n",
       "})"
      ]
     },
     "execution_count": 13,
     "metadata": {},
     "output_type": "execute_result"
    }
   ],
   "source": [
    "dataset"
   ]
  },
  {
   "cell_type": "code",
   "execution_count": 22,
   "metadata": {},
   "outputs": [],
   "source": [
    "def format_dataset(examples):\n",
    "    texts = [f\"{claim}. Evidence: {evidence}\" for claim, evidence in zip(examples[\"claim\"], examples[\"evidence\"])]\n",
    "    labels = examples[\"evidence_label\"]\n",
    "    return {\"text\": texts, \"labels\": labels}"
   ]
  },
  {
   "cell_type": "code",
   "execution_count": 24,
   "metadata": {},
   "outputs": [
    {
     "data": {
      "application/vnd.jupyter.widget-view+json": {
       "model_id": "09e15b7b804445ddb6398ca6fab23cdc",
       "version_major": 2,
       "version_minor": 0
      },
      "text/plain": [
       "Map:   0%|          | 0/200 [00:00<?, ? examples/s]"
      ]
     },
     "metadata": {},
     "output_type": "display_data"
    },
    {
     "data": {
      "text/plain": [
       "Dataset({\n",
       "    features: ['text', 'labels'],\n",
       "    num_rows: 200\n",
       "})"
      ]
     },
     "execution_count": 24,
     "metadata": {},
     "output_type": "execute_result"
    }
   ],
   "source": [
    "# Transform dataset to text and labels\n",
    "\n",
    "formatted_dataset = dataset.map(format_dataset, batched=True, remove_columns=dataset.column_names)\n",
    "formatted_dataset\n",
    "    "
   ]
  },
  {
   "cell_type": "code",
   "execution_count": 27,
   "metadata": {},
   "outputs": [
    {
     "data": {
      "application/vnd.jupyter.widget-view+json": {
       "model_id": "e72f186fd11142aa8f3e2702038b9826",
       "version_major": 2,
       "version_minor": 0
      },
      "text/plain": [
       "Saving the dataset (0/1 shards):   0%|          | 0/200 [00:00<?, ? examples/s]"
      ]
     },
     "metadata": {},
     "output_type": "display_data"
    }
   ],
   "source": [
    "from datasets import DatasetDict\n",
    "\n",
    "formatted_dataset_dict = DatasetDict({\"test\": formatted_dataset})\n",
    "formatted_dataset.save_to_disk(\"/home/erland.fuadi/Python_Project/supertrainer/assets_local/formatted_dataset\")"
   ]
  },
  {
   "cell_type": "code",
   "execution_count": 1,
   "metadata": {},
   "outputs": [
    {
     "data": {
      "text/plain": [
       "{'type': 'user',\n",
       " 'id': '6548ca34bab28a482e69c24a',\n",
       " 'name': 'Masa-Erland',\n",
       " 'fullname': 'Erland Hilman Fuadi',\n",
       " 'email': 'erland@joinmasa.ai',\n",
       " 'emailVerified': True,\n",
       " 'canPay': False,\n",
       " 'periodEnd': 1730419199,\n",
       " 'isPro': False,\n",
       " 'avatarUrl': '/avatars/d6f733991b3011ce53c9055f3083332f.svg',\n",
       " 'orgs': [{'type': 'org',\n",
       "   'id': '659e04966dc6b399d29d03e2',\n",
       "   'name': 'joinmasa-ai',\n",
       "   'fullname': 'Masa Research',\n",
       "   'email': None,\n",
       "   'canPay': False,\n",
       "   'periodEnd': None,\n",
       "   'avatarUrl': 'https://www.gravatar.com/avatar/cfb1ee41354e06b84514ed7af5519c6b?d=retro&size=100',\n",
       "   'roleInOrg': 'write',\n",
       "   'isEnterprise': False},\n",
       "  {'type': 'org',\n",
       "   'id': '6605a972330c04c62fa17a8e',\n",
       "   'name': 'masa-research',\n",
       "   'fullname': 'masa research',\n",
       "   'email': None,\n",
       "   'canPay': False,\n",
       "   'periodEnd': None,\n",
       "   'avatarUrl': 'https://www.gravatar.com/avatar/abe396516d4115bad5849f256d9eb86c?d=retro&size=100',\n",
       "   'roleInOrg': 'write',\n",
       "   'isEnterprise': False}],\n",
       " 'auth': {'type': 'access_token',\n",
       "  'accessToken': {'displayName': 'preskripsi-hpc-mbzuai',\n",
       "   'role': 'write',\n",
       "   'createdAt': '2024-09-19T00:11:23.129Z'}}}"
      ]
     },
     "execution_count": 1,
     "metadata": {},
     "output_type": "execute_result"
    }
   ],
   "source": [
    "from huggingface_hub import whoami\n",
    "\n",
    "whoami()"
   ]
  },
  {
   "cell_type": "markdown",
   "metadata": {},
   "source": [
    "# LLM"
   ]
  },
  {
   "cell_type": "code",
   "execution_count": 3,
   "metadata": {},
   "outputs": [
    {
     "name": "stdout",
     "output_type": "stream",
     "text": [
      "==((====))==  Unsloth 2024.9.post4: Fast Llama patching. Transformers = 4.44.2.\n",
      "   \\\\   /|    GPU: NVIDIA GeForce RTX 4090. Max memory: 23.647 GB. Platform = Linux.\n",
      "O^O/ \\_/ \\    Pytorch: 2.4.0. CUDA = 8.9. CUDA Toolkit = 12.1.\n",
      "\\        /    Bfloat16 = TRUE. FA [Xformers = 0.0.27.post2. FA2 = False]\n",
      " \"-____-\"     Free Apache license: http://github.com/unslothai/unsloth\n"
     ]
    },
    {
     "data": {
      "application/vnd.jupyter.widget-view+json": {
       "model_id": "492d23b198e645ba82cba3d4ac841dcb",
       "version_major": 2,
       "version_minor": 0
      },
      "text/plain": [
       "model.safetensors:   0%|          | 0.00/2.24G [00:00<?, ?B/s]"
      ]
     },
     "metadata": {},
     "output_type": "display_data"
    },
    {
     "data": {
      "application/vnd.jupyter.widget-view+json": {
       "model_id": "334d1d4f2b794a7c9861bb8112bc5ba2",
       "version_major": 2,
       "version_minor": 0
      },
      "text/plain": [
       "generation_config.json:   0%|          | 0.00/184 [00:00<?, ?B/s]"
      ]
     },
     "metadata": {},
     "output_type": "display_data"
    },
    {
     "data": {
      "application/vnd.jupyter.widget-view+json": {
       "model_id": "7739e268b6ee4aac89acc0e398a9dce2",
       "version_major": 2,
       "version_minor": 0
      },
      "text/plain": [
       "tokenizer_config.json:   0%|          | 0.00/54.6k [00:00<?, ?B/s]"
      ]
     },
     "metadata": {},
     "output_type": "display_data"
    },
    {
     "data": {
      "application/vnd.jupyter.widget-view+json": {
       "model_id": "492b2e5b15a44f09b5bf5c7514c021cd",
       "version_major": 2,
       "version_minor": 0
      },
      "text/plain": [
       "tokenizer.json:   0%|          | 0.00/9.09M [00:00<?, ?B/s]"
      ]
     },
     "metadata": {},
     "output_type": "display_data"
    },
    {
     "data": {
      "application/vnd.jupyter.widget-view+json": {
       "model_id": "7233d6be711f473bbb1a5badfe8d3f04",
       "version_major": 2,
       "version_minor": 0
      },
      "text/plain": [
       "special_tokens_map.json:   0%|          | 0.00/454 [00:00<?, ?B/s]"
      ]
     },
     "metadata": {},
     "output_type": "display_data"
    }
   ],
   "source": [
    "import torch\n",
    "from unsloth import FastLanguageModel\n",
    "\n",
    "max_seq_length = 2048\n",
    "dtype = torch.bfloat16\n",
    "load_in_4bit = True\n",
    "\n",
    "model_name = \"unsloth/Llama-3.2-3B-Instruct\"\n",
    "\n",
    "model, tokenizer = FastLanguageModel.from_pretrained(\n",
    "    model_name,\n",
    "    max_seq_length=max_seq_length,\n",
    "    dtype=dtype,\n",
    "    load_in_4bit=load_in_4bit,\n",
    ")"
   ]
  },
  {
   "cell_type": "code",
   "execution_count": 4,
   "metadata": {},
   "outputs": [
    {
     "data": {
      "text/plain": [
       "'{{- bos_token }}\\n{%- if custom_tools is defined %}\\n    {%- set tools = custom_tools %}\\n{%- endif %}\\n{%- if not tools_in_user_message is defined %}\\n    {%- set tools_in_user_message = true %}\\n{%- endif %}\\n{%- if not date_string is defined %}\\n    {%- if strftime_now is defined %}\\n        {%- set date_string = strftime_now(\"%d %b %Y\") %}\\n    {%- else %}\\n        {%- set date_string = \"26 Jul 2024\" %}\\n    {%- endif %}\\n{%- endif %}\\n{%- if not tools is defined %}\\n    {%- set tools = none %}\\n{%- endif %}\\n\\n{#- This block extracts the system message, so we can slot it into the right place. #}\\n{%- if messages[0][\\'role\\'] == \\'system\\' %}\\n    {%- set system_message = messages[0][\\'content\\']|trim %}\\n    {%- set messages = messages[1:] %}\\n{%- else %}\\n    {%- set system_message = \"\" %}\\n{%- endif %}\\n\\n{#- System message #}\\n{{- \"<|start_header_id|>system<|end_header_id|>\\\\n\\\\n\" }}\\n{%- if tools is not none %}\\n    {{- \"Environment: ipython\\\\n\" }}\\n{%- endif %}\\n{{- \"Cutting Knowledge Date: December 2023\\\\n\" }}\\n{{- \"Today Date: \" + date_string + \"\\\\n\\\\n\" }}\\n{%- if tools is not none and not tools_in_user_message %}\\n    {{- \"You have access to the following functions. To call a function, please respond with JSON for a function call.\" }}\\n    {{- \\'Respond in the format {\"name\": function name, \"parameters\": dictionary of argument name and its value}.\\' }}\\n    {{- \"Do not use variables.\\\\n\\\\n\" }}\\n    {%- for t in tools %}\\n        {{- t | tojson(indent=4) }}\\n        {{- \"\\\\n\\\\n\" }}\\n    {%- endfor %}\\n{%- endif %}\\n{{- system_message }}\\n{{- \"<|eot_id|>\" }}\\n\\n{#- Custom tools are passed in a user message with some extra guidance #}\\n{%- if tools_in_user_message and not tools is none %}\\n    {#- Extract the first user message so we can plug it in here #}\\n    {%- if messages | length != 0 %}\\n        {%- set first_user_message = messages[0][\\'content\\']|trim %}\\n        {%- set messages = messages[1:] %}\\n    {%- else %}\\n        {{- raise_exception(\"Cannot put tools in the first user message when there\\'s no first user message!\") }}\\n{%- endif %}\\n    {{- \\'<|start_header_id|>user<|end_header_id|>\\\\n\\\\n\\' -}}\\n    {{- \"Given the following functions, please respond with a JSON for a function call \" }}\\n    {{- \"with its proper arguments that best answers the given prompt.\\\\n\\\\n\" }}\\n    {{- \\'Respond in the format {\"name\": function name, \"parameters\": dictionary of argument name and its value}.\\' }}\\n    {{- \"Do not use variables.\\\\n\\\\n\" }}\\n    {%- for t in tools %}\\n        {{- t | tojson(indent=4) }}\\n        {{- \"\\\\n\\\\n\" }}\\n    {%- endfor %}\\n    {{- first_user_message + \"<|eot_id|>\"}}\\n{%- endif %}\\n\\n{%- for message in messages %}\\n    {%- if not (message.role == \\'ipython\\' or message.role == \\'tool\\' or \\'tool_calls\\' in message) %}\\n        {{- \\'<|start_header_id|>\\' + message[\\'role\\'] + \\'<|end_header_id|>\\\\n\\\\n\\'+ message[\\'content\\'] | trim + \\'<|eot_id|>\\' }}\\n    {%- elif \\'tool_calls\\' in message %}\\n        {%- if not message.tool_calls|length == 1 %}\\n            {{- raise_exception(\"This model only supports single tool-calls at once!\") }}\\n        {%- endif %}\\n        {%- set tool_call = message.tool_calls[0].function %}\\n        {{- \\'<|start_header_id|>assistant<|end_header_id|>\\\\n\\\\n\\' -}}\\n        {{- \\'{\"name\": \"\\' + tool_call.name + \\'\", \\' }}\\n        {{- \\'\"parameters\": \\' }}\\n        {{- tool_call.arguments | tojson }}\\n        {{- \"}\" }}\\n        {{- \"<|eot_id|>\" }}\\n    {%- elif message.role == \"tool\" or message.role == \"ipython\" %}\\n        {{- \"<|start_header_id|>ipython<|end_header_id|>\\\\n\\\\n\" }}\\n        {%- if message.content is mapping or message.content is iterable %}\\n            {{- message.content | tojson }}\\n        {%- else %}\\n            {{- message.content }}\\n        {%- endif %}\\n        {{- \"<|eot_id|>\" }}\\n    {%- endif %}\\n{%- endfor %}\\n{%- if add_generation_prompt %}\\n    {{- \\'<|start_header_id|>assistant<|end_header_id|>\\\\n\\\\n\\' }}\\n{%- endif %}\\n'"
      ]
     },
     "execution_count": 4,
     "metadata": {},
     "output_type": "execute_result"
    }
   ],
   "source": [
    "tokenizer.chat_template"
   ]
  },
  {
   "cell_type": "code",
   "execution_count": 7,
   "metadata": {},
   "outputs": [
    {
     "data": {
      "text/plain": [
       "'{{- bos_token }}\\n{%- if custom_tools is defined %}\\n    {%- set tools = custom_tools %}\\n{%- endif %}\\n{%- if not tools_in_user_message is defined %}\\n    {%- set tools_in_user_message = true %}\\n{%- endif %}\\n{%- if not date_string is defined %}\\n    {%- set date_string = \"26 July 2024\" %}\\n{%- endif %}\\n{%- if not tools is defined %}\\n    {%- set tools = none %}\\n{%- endif %}\\n\\n{#- This block extracts the system message, so we can slot it into the right place. #}\\n{%- if messages[0][\\'role\\'] == \\'system\\' %}\\n    {%- set system_message = messages[0][\\'content\\'] %}\\n    {%- set messages = messages[1:] %}\\n{%- else %}\\n    {%- set system_message = \"\" %}\\n{%- endif %}\\n\\n{#- System message + builtin tools #}\\n{{- \"<|start_header_id|>system<|end_header_id|>\\n\\n\" }}\\n{%- if builtin_tools is defined or tools is not none %}\\n    {{- \"Environment: ipython\\n\" }}\\n{%- endif %}\\n{%- if builtin_tools is defined %}\\n    {{- \"Tools: \" + builtin_tools | reject(\\'equalto\\', \\'code_interpreter\\') | join(\", \") + \"\\n\\n\"}}\\n{%- endif %}\\n{{- \"Cutting Knowledge Date: December 2023\\n\" }}\\n{{- \"Today Date: \" + date_string + \"\\n\\n\" }}\\n{%- if tools is not none and not tools_in_user_message %}\\n    {{- \"You have access to the following functions. To call a function, please respond with JSON for a function call.\" }}\\n    {{- \\'Respond in the format {\"name\": function name, \"parameters\": dictionary of argument name and its value}.\\' }}\\n    {{- \"Do not use variables.\\n\\n\" }}\\n    {%- for t in tools %}\\n        {{- t | tojson(indent=4) }}\\n        {{- \"\\n\\n\" }}\\n    {%- endfor %}\\n{%- endif %}\\n{{- system_message }}\\n{{- \"<|eot_id|>\" }}\\n\\n{#- Custom tools are passed in a user message with some extra guidance #}\\n{%- if tools_in_user_message and not tools is none %}\\n    {#- Extract the first user message so we can plug it in here #}\\n    {%- if messages | length != 0 %}\\n        {%- set first_user_message = messages[0][\\'content\\'] %}\\n        {%- set messages = messages[1:] %}\\n    {%- else %}\\n        {{- raise_exception(\"Cannot put tools in the first user message when there\\'s no first user message!\") }}\\n{%- endif %}\\n    {{- \\'<|start_header_id|>user<|end_header_id|>\\n\\n\\' -}}\\n    {{- \"Given the following functions, please respond with a JSON for a function call \" }}\\n    {{- \"with its proper arguments that best answers the given prompt.\\n\\n\" }}\\n    {{- \\'Respond in the format {\"name\": function name, \"parameters\": dictionary of argument name and its value}.\\' }}\\n    {{- \"Do not use variables.\\n\\n\" }}\\n    {%- for t in tools %}\\n        {{- t | tojson(indent=4) }}\\n        {{- \"\\n\\n\" }}\\n    {%- endfor %}\\n    {{- first_user_message + \"<|eot_id|>\"}}\\n{%- endif %}\\n\\n{%- for message in messages %}\\n    {%- if not (message.role == \\'ipython\\' or message.role == \\'tool\\' or \\'tool_calls\\' in message) %}\\n        {{- \\'<|start_header_id|>\\' + message[\\'role\\'] + \\'<|end_header_id|>\\n\\n\\'+ message[\\'content\\'] + \\'<|eot_id|>\\' }}\\n    {%- elif \\'tool_calls\\' in message %}\\n        {%- if not message.tool_calls|length == 1 %}\\n            {{- raise_exception(\"This model only supports single tool-calls at once!\") }}\\n        {%- endif %}\\n        {%- set tool_call = message.tool_calls[0].function %}\\n        {%- if builtin_tools is defined and tool_call.name in builtin_tools %}\\n            {{- \\'<|start_header_id|>assistant<|end_header_id|>\\n\\n\\' -}}\\n            {{- \"<|python_tag|>\" + tool_call.name + \".call(\" }}\\n            {%- for arg_name, arg_val in tool_call.arguments | items %}\\n                {{- arg_name + \\'=\"\\' + arg_val + \\'\"\\' }}\\n                {%- if not loop.last %}\\n                    {{- \", \" }}\\n                {%- endif %}\\n                {%- endfor %}\\n            {{- \")\" }}\\n        {%- else  %}\\n            {{- \\'<|start_header_id|>assistant<|end_header_id|>\\n\\n\\' -}}\\n            {{- \\'{\"name\": \"\\' + tool_call.name + \\'\", \\' }}\\n            {{- \\'\"parameters\": \\' }}\\n            {{- tool_call.arguments | tojson }}\\n            {{- \"}\" }}\\n        {%- endif %}\\n        {%- if builtin_tools is defined %}\\n            {#- This means we\\'re in ipython mode #}\\n            {{- \"<|eom_id|>\" }}\\n        {%- else %}\\n            {{- \"<|eot_id|>\" }}\\n        {%- endif %}\\n    {%- elif message.role == \"tool\" or message.role == \"ipython\" %}\\n        {{- \"<|start_header_id|>ipython<|end_header_id|>\\n\\n\" }}\\n        {%- if message.content is mapping or message.content is iterable %}\\n            {{- message.content | tojson }}\\n        {%- else %}\\n            {{- message.content }}\\n        {%- endif %}\\n        {{- \"<|eot_id|>\" }}\\n    {%- endif %}\\n{%- endfor %}\\n{%- if add_generation_prompt %}\\n    {{- \\'<|start_header_id|>assistant<|end_header_id|>\\n\\n\\' }}\\n{%- endif %}\\n'"
      ]
     },
     "execution_count": 7,
     "metadata": {},
     "output_type": "execute_result"
    }
   ],
   "source": [
    "from unsloth import get_chat_template\n",
    "\n",
    "tokenizer = get_chat_template(tokenizer, chat_template=\"llama-3.1\")\n",
    "tokenizer.chat_template"
   ]
  },
  {
   "cell_type": "code",
   "execution_count": 15,
   "metadata": {},
   "outputs": [],
   "source": [
    "FastLanguageModel.for_inference(model)\n",
    "\n",
    "messages = [\n",
    "    {\"role\": \"user\", \"content\": \"Continue the fibonnaci sequence: 1, 1, 2, 3, 5, 8,\"},\n",
    "]\n",
    "inputs = tokenizer.apply_chat_template(\n",
    "    messages,\n",
    "    tokenize = True,\n",
    "    add_generation_prompt = True, # Must add for generation\n",
    "    return_tensors = \"pt\",\n",
    ").to(\"cuda\")"
   ]
  },
  {
   "cell_type": "code",
   "execution_count": 24,
   "metadata": {},
   "outputs": [
    {
     "ename": "IndexError",
     "evalue": "too many indices for tensor of dimension 2",
     "output_type": "error",
     "traceback": [
      "\u001b[0;31m---------------------------------------------------------------------------\u001b[0m",
      "\u001b[0;31mIndexError\u001b[0m                                Traceback (most recent call last)",
      "Cell \u001b[0;32mIn[24], line 1\u001b[0m\n\u001b[0;32m----> 1\u001b[0m \u001b[43minputs\u001b[49m\u001b[43m[\u001b[49m\u001b[38;5;124;43m\"\u001b[39;49m\u001b[38;5;124;43minput_ids\u001b[39;49m\u001b[38;5;124;43m\"\u001b[39;49m\u001b[43m]\u001b[49m\u001b[38;5;241m.\u001b[39mshape\n",
      "\u001b[0;31mIndexError\u001b[0m: too many indices for tensor of dimension 2"
     ]
    }
   ],
   "source": [
    "inputs[\"input_ids\"].shape"
   ]
  },
  {
   "cell_type": "code",
   "execution_count": 26,
   "metadata": {},
   "outputs": [
    {
     "data": {
      "text/plain": [
       "'The Fibonacci sequence is a series of numbers where a number is the sum of the two preceding ones, usually starting with 0 and 1. \\n\\nHowever, you provided the sequence 1, 1, 2, 3, 5, 8, which seems to start with the traditional starting numbers '"
      ]
     },
     "execution_count": 26,
     "metadata": {},
     "output_type": "execute_result"
    }
   ],
   "source": [
    "outputs = model.generate(input_ids = inputs, max_new_tokens = 64, use_cache = True,\n",
    "                         temperature = 1.5, min_p = 0.1)\n",
    "tokenizer.decode(outputs[0][inputs.shape[1]:], skip_special_tokens = True)"
   ]
  },
  {
   "cell_type": "markdown",
   "metadata": {},
   "source": [
    "# Anthropic"
   ]
  },
  {
   "cell_type": "code",
   "execution_count": 1,
   "metadata": {},
   "outputs": [
    {
     "name": "stdout",
     "output_type": "stream",
     "text": [
      "[TextBlock(text=\"Waves crash and foam,\\nEarth's tears flow free,\\nEons of minerals\\nDissolve in the sea.\\n\\nSalt from the land,\\nCarried by streams,\\nAccumulates where\\nThe blue ocean gleams.\", type='text')]\n"
     ]
    }
   ],
   "source": [
    "import anthropic\n",
    "from dotenv import load_dotenv\n",
    "\n",
    "load_dotenv()\n",
    "\n",
    "client = anthropic.Anthropic()\n",
    "\n",
    "message = client.messages.create(\n",
    "    model=\"claude-3-5-sonnet-20240620\",\n",
    "    max_tokens=1000,\n",
    "    temperature=0,\n",
    "    system=\"You are a world-class poet. Respond only with short poems.\",\n",
    "    messages=[\n",
    "        {\n",
    "            \"role\": \"user\",\n",
    "            \"content\": [\n",
    "                {\n",
    "                    \"type\": \"text\",\n",
    "                    \"text\": \"Why is the ocean salty?\"\n",
    "                }\n",
    "            ]\n",
    "        }\n",
    "    ]\n",
    ")\n",
    "print(message.content)"
   ]
  },
  {
   "cell_type": "code",
   "execution_count": 2,
   "metadata": {},
   "outputs": [
    {
     "data": {
      "text/plain": [
       "Dataset({\n",
       "    features: ['text', 'labels'],\n",
       "    num_rows: 200\n",
       "})"
      ]
     },
     "execution_count": 2,
     "metadata": {},
     "output_type": "execute_result"
    }
   ],
   "source": [
    "from datasets import Dataset\n",
    "\n",
    "dataset = Dataset.load_from_disk(\"/home/erland.fuadi/Python_Project/supertrainer/assets_local/formatted_dataset\")\n",
    "dataset"
   ]
  },
  {
   "cell_type": "code",
   "execution_count": 3,
   "metadata": {},
   "outputs": [
    {
     "data": {
      "application/vnd.jupyter.widget-view+json": {
       "model_id": "5ec3912a040144ada83a834272c17f14",
       "version_major": 2,
       "version_minor": 0
      },
      "text/plain": [
       "Saving the dataset (0/1 shards):   0%|          | 0/5 [00:00<?, ? examples/s]"
      ]
     },
     "metadata": {},
     "output_type": "display_data"
    }
   ],
   "source": [
    "subset_dataset = dataset.select(range(5))\n",
    "subset_dataset.save_to_disk(\"/home/erland.fuadi/Python_Project/supertrainer/assets_local/subset_dataset\")"
   ]
  },
  {
   "cell_type": "code",
   "execution_count": 9,
   "metadata": {},
   "outputs": [
    {
     "data": {
      "text/plain": [
       "SyncCursorPage[Batch](data=[Batch(id='batch_6711e2276af88190a92b90b5ed197cdf', completion_window='24h', created_at=1729225255, endpoint='/v1/chat/completions', input_file_id='file-EcWg38OHkKs4W73bEP3gUs5y', object='batch', status='in_progress', cancelled_at=None, cancelling_at=None, completed_at=None, error_file_id=None, errors=None, expired_at=None, expires_at=1729311655, failed_at=None, finalizing_at=None, in_progress_at=1729225255, metadata={'description': 'GPT-4o-mini fact-checking'}, output_file_id=None, request_counts=BatchRequestCounts(completed=0, failed=0, total=5))], object='list', first_id='batch_6711e2276af88190a92b90b5ed197cdf', last_id='batch_6711e2276af88190a92b90b5ed197cdf', has_more=False)"
      ]
     },
     "execution_count": 9,
     "metadata": {},
     "output_type": "execute_result"
    }
   ],
   "source": [
    "from openai import OpenAI\n",
    "from dotenv import load_dotenv\n",
    "\n",
    "load_dotenv()\n",
    "client = OpenAI()\n",
    "\n",
    "client.batches.list(limit=10)"
   ]
  },
  {
   "cell_type": "code",
   "execution_count": 6,
   "metadata": {},
   "outputs": [],
   "source": [
    "from instructor.batch import BatchJob\n",
    "from pydantic import BaseModel \n",
    "from typing import Literal\n",
    "\n",
    "class ClassificationResponse(BaseModel):\n",
    "    label: Literal[\"REFUTES\", \"SUPPORTS\", \"NOT_ENOUGH_INFO\"]\n",
    "\n",
    "parsed, unparsed = BatchJob.parse_from_file(\n",
    "    file_path=\"../output2.jsonl\",\n",
    "    response_model=ClassificationResponse,\n",
    ")\n"
   ]
  },
  {
   "cell_type": "code",
   "execution_count": 7,
   "metadata": {},
   "outputs": [
    {
     "data": {
      "text/plain": [
       "[]"
      ]
     },
     "execution_count": 7,
     "metadata": {},
     "output_type": "execute_result"
    }
   ],
   "source": [
    "parsed"
   ]
  },
  {
   "cell_type": "code",
   "execution_count": 8,
   "metadata": {},
   "outputs": [
    {
     "data": {
      "text/plain": [
       "[{'id': 'batch_req_6711ef207c808190aa8701bc5ecacd6e',\n",
       "  'custom_id': 'request-1',\n",
       "  'response': {'status_code': 200,\n",
       "   'request_id': 'a2c2d4f3dbd835842cc26d03ea0e69cb',\n",
       "   'body': {'id': 'chatcmpl-AJZXCBOzIhOn238la2SLHSoZpnvKC',\n",
       "    'object': 'chat.completion',\n",
       "    'created': 1729228190,\n",
       "    'model': 'gpt-4o-mini-2024-07-18',\n",
       "    'choices': [{'index': 0,\n",
       "      'message': {'role': 'assistant',\n",
       "       'content': 'The claim regarding the 1990 IPCC report stating that the Antarctic ice sheets were stable is misleading. While the 1990 report did present findings that suggested some aspects of the Antarctic ice sheets were stable at that time, it did not comprehensively state that the entire Antarctic ice sheet was stable or would remain so indefinitely',\n",
       "       'refusal': None},\n",
       "      'logprobs': None,\n",
       "      'finish_reason': 'length'}],\n",
       "    'usage': {'prompt_tokens': 81,\n",
       "     'completion_tokens': 64,\n",
       "     'total_tokens': 145,\n",
       "     'prompt_tokens_details': {'cached_tokens': 0},\n",
       "     'completion_tokens_details': {'reasoning_tokens': 0}},\n",
       "    'system_fingerprint': 'fp_e2bde53e6e'}},\n",
       "  'error': None},\n",
       " {'id': 'batch_req_6711ef2086108190ae55af55e94d985b',\n",
       "  'custom_id': 'request-2',\n",
       "  'response': {'status_code': 200,\n",
       "   'request_id': '334d62c21c6eec9928a76c5969003751',\n",
       "   'body': {'id': 'chatcmpl-AJZYrm0ElTkgCn08oW8zedfwt2wbz',\n",
       "    'object': 'chat.completion',\n",
       "    'created': 1729228293,\n",
       "    'model': 'gpt-4o-mini-2024-07-18',\n",
       "    'choices': [{'index': 0,\n",
       "      'message': {'role': 'assistant',\n",
       "       'content': 'The claim regarding the International Energy Agency (IEA) stating that it \"continues to see a role for coal for the foreseeable future\" is consistent with the agency\\'s recent reports and analyses. The IEA has acknowledged that while the transition to renewable energy sources is a priority for addressing climate change, coal is still expected',\n",
       "       'refusal': None},\n",
       "      'logprobs': None,\n",
       "      'finish_reason': 'length'}],\n",
       "    'usage': {'prompt_tokens': 96,\n",
       "     'completion_tokens': 64,\n",
       "     'total_tokens': 160,\n",
       "     'prompt_tokens_details': {'cached_tokens': 0},\n",
       "     'completion_tokens_details': {'reasoning_tokens': 0}},\n",
       "    'system_fingerprint': 'fp_8552ec53e1'}},\n",
       "  'error': None},\n",
       " {'id': 'batch_req_6711ef2092a881909b08a724c07f699f',\n",
       "  'custom_id': 'request-3',\n",
       "  'response': {'status_code': 200,\n",
       "   'request_id': '4984bf3cc07ddcc7819a46054a3bbcd1',\n",
       "   'body': {'id': 'chatcmpl-AJZa6oeFvUojdhtqThCNhv5qmFtZy',\n",
       "    'object': 'chat.completion',\n",
       "    'created': 1729228370,\n",
       "    'model': 'gpt-4o-mini-2024-07-18',\n",
       "    'choices': [{'index': 0,\n",
       "      'message': {'role': 'assistant',\n",
       "       'content': 'The claim that sea level rise is increasing faster than predicted due to unexpectedly rapid ice melting is supported by current scientific research and observations. According to reports from organizations like the Intergovernmental Panel on Climate Change (IPCC) and various studies published in peer-reviewed journals, recent data shows that the rate of sea level rise has',\n",
       "       'refusal': None},\n",
       "      'logprobs': None,\n",
       "      'finish_reason': 'length'}],\n",
       "    'usage': {'prompt_tokens': 82,\n",
       "     'completion_tokens': 64,\n",
       "     'total_tokens': 146,\n",
       "     'prompt_tokens_details': {'cached_tokens': 0},\n",
       "     'completion_tokens_details': {'reasoning_tokens': 0}},\n",
       "    'system_fingerprint': 'fp_7693ae462b'}},\n",
       "  'error': None},\n",
       " {'id': 'batch_req_6711ef209da88190a8d1724adb134314',\n",
       "  'custom_id': 'request-4',\n",
       "  'response': {'status_code': 200,\n",
       "   'request_id': 'ea0db0d0d28615e2c0b116713c075685',\n",
       "   'body': {'id': 'chatcmpl-AJZbPzvKytnKWZ7mbcToBimHls0Z9',\n",
       "    'object': 'chat.completion',\n",
       "    'created': 1729228451,\n",
       "    'model': 'gpt-4o-mini-2024-07-18',\n",
       "    'choices': [{'index': 0,\n",
       "      'message': {'role': 'assistant',\n",
       "       'content': 'The claim involves two interconnected concepts regarding ice shelves, ice flow, and sea level rise. \\n\\n1. **Ice Shelves as Barriers**: It is accurate that ice shelves act like a barrier or \"bottle-stopper\" that slows the flow of glaciers and ice from land into the ocean. Ice shelves are',\n",
       "       'refusal': None},\n",
       "      'logprobs': None,\n",
       "      'finish_reason': 'length'}],\n",
       "    'usage': {'prompt_tokens': 89,\n",
       "     'completion_tokens': 64,\n",
       "     'total_tokens': 153,\n",
       "     'prompt_tokens_details': {'cached_tokens': 0},\n",
       "     'completion_tokens_details': {'reasoning_tokens': 0}},\n",
       "    'system_fingerprint': 'fp_e2bde53e6e'}},\n",
       "  'error': None},\n",
       " {'id': 'batch_req_6711ef20a8b4819093ca2cf6240f43c8',\n",
       "  'custom_id': 'request-5',\n",
       "  'response': {'status_code': 200,\n",
       "   'request_id': '9011947c1deed4ec9f79594e7aa7cab0',\n",
       "   'body': {'id': 'chatcmpl-AJZZkwHfqoWCjOok0sSWcSG0pjY2d',\n",
       "    'object': 'chat.completion',\n",
       "    'created': 1729228348,\n",
       "    'model': 'gpt-4o-mini-2024-07-18',\n",
       "    'choices': [{'index': 0,\n",
       "      'message': {'role': 'assistant',\n",
       "       'content': \"The claim contains two main components regarding adjustments in ocean temperature measurements and sea-level measurements, so let's break it down.\\n\\n1. **Adjustment of Ocean Temperature Calculations**: It is true that there have been significant adjustments in how sea surface temperatures (SST) are calculated. Historically, SST data were collected through various means\",\n",
       "       'refusal': None},\n",
       "      'logprobs': None,\n",
       "      'finish_reason': 'length'}],\n",
       "    'usage': {'prompt_tokens': 113,\n",
       "     'completion_tokens': 64,\n",
       "     'total_tokens': 177,\n",
       "     'prompt_tokens_details': {'cached_tokens': 0},\n",
       "     'completion_tokens_details': {'reasoning_tokens': 0}},\n",
       "    'system_fingerprint': 'fp_e2bde53e6e'}},\n",
       "  'error': None}]"
      ]
     },
     "execution_count": 8,
     "metadata": {},
     "output_type": "execute_result"
    }
   ],
   "source": [
    "unparsed"
   ]
  }
 ],
 "metadata": {
  "kernelspec": {
   "display_name": "Python 3",
   "language": "python",
   "name": "python3"
  },
  "language_info": {
   "codemirror_mode": {
    "name": "ipython",
    "version": 3
   },
   "file_extension": ".py",
   "mimetype": "text/x-python",
   "name": "python",
   "nbconvert_exporter": "python",
   "pygments_lexer": "ipython3",
   "version": "3.11.9"
  }
 },
 "nbformat": 4,
 "nbformat_minor": 2
}
