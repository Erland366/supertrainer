{
 "cells": [
  {
   "cell_type": "code",
   "execution_count": 1,
   "metadata": {},
   "outputs": [],
   "source": [
    "from datasets import load_dataset\n",
    "\n",
    "dataset = load_dataset(\"csv\", data_files=\"Manual Annotated -Done - fake_news_detection_dataset_200.csv\")"
   ]
  },
  {
   "cell_type": "code",
   "execution_count": 2,
   "metadata": {},
   "outputs": [
    {
     "data": {
      "text/plain": [
       "DatasetDict({\n",
       "    train: Dataset({\n",
       "        features: ['claim_id', 'claim', 'evidence', 'evidence_label', 'label', 'category', 'claim_idn', 'evidence_idn', 'claim_arb', 'evidence_arb'],\n",
       "        num_rows: 200\n",
       "    })\n",
       "})"
      ]
     },
     "execution_count": 2,
     "metadata": {},
     "output_type": "execute_result"
    }
   ],
   "source": [
    "dataset"
   ]
  },
  {
   "cell_type": "code",
   "execution_count": 10,
   "metadata": {},
   "outputs": [
    {
     "name": "stdout",
     "output_type": "stream",
     "text": [
      "Processing split: train\n"
     ]
    },
    {
     "data": {
      "application/vnd.jupyter.widget-view+json": {
       "model_id": "72e917677e1b47158056dbb225a29770",
       "version_major": 2,
       "version_minor": 0
      },
      "text/plain": [
       "Filter:   0%|          | 0/1800 [00:00<?, ? examples/s]"
      ]
     },
     "metadata": {},
     "output_type": "display_data"
    },
    {
     "data": {
      "application/vnd.jupyter.widget-view+json": {
       "model_id": "6fbc190c779f403cb7d158204946d161",
       "version_major": 2,
       "version_minor": 0
      },
      "text/plain": [
       "Filter:   0%|          | 0/1800 [00:00<?, ? examples/s]"
      ]
     },
     "metadata": {},
     "output_type": "display_data"
    },
    {
     "data": {
      "application/vnd.jupyter.widget-view+json": {
       "model_id": "6294b7cdf5c846c199e56590071a382e",
       "version_major": 2,
       "version_minor": 0
      },
      "text/plain": [
       "Filter:   0%|          | 0/1800 [00:00<?, ? examples/s]"
      ]
     },
     "metadata": {},
     "output_type": "display_data"
    },
    {
     "data": {
      "application/vnd.jupyter.widget-view+json": {
       "model_id": "f64371bd04b947349cebc81f36fe4e97",
       "version_major": 2,
       "version_minor": 0
      },
      "text/plain": [
       "Filter:   0%|          | 0/1800 [00:00<?, ? examples/s]"
      ]
     },
     "metadata": {},
     "output_type": "display_data"
    },
    {
     "data": {
      "application/vnd.jupyter.widget-view+json": {
       "model_id": "277d5840976947c9a55bccb1d6f0187f",
       "version_major": 2,
       "version_minor": 0
      },
      "text/plain": [
       "Filter:   0%|          | 0/1800 [00:00<?, ? examples/s]"
      ]
     },
     "metadata": {},
     "output_type": "display_data"
    },
    {
     "data": {
      "application/vnd.jupyter.widget-view+json": {
       "model_id": "64ee011da3d645fba986c6551a242b7f",
       "version_major": 2,
       "version_minor": 0
      },
      "text/plain": [
       "Filter:   0%|          | 0/1800 [00:00<?, ? examples/s]"
      ]
     },
     "metadata": {},
     "output_type": "display_data"
    },
    {
     "data": {
      "application/vnd.jupyter.widget-view+json": {
       "model_id": "1dd2b24f198b4343a9825e24f5647224",
       "version_major": 2,
       "version_minor": 0
      },
      "text/plain": [
       "Filter:   0%|          | 0/1800 [00:00<?, ? examples/s]"
      ]
     },
     "metadata": {},
     "output_type": "display_data"
    },
    {
     "data": {
      "application/vnd.jupyter.widget-view+json": {
       "model_id": "2330e1faf03741f1a70244a9c8df663e",
       "version_major": 2,
       "version_minor": 0
      },
      "text/plain": [
       "Filter:   0%|          | 0/1800 [00:00<?, ? examples/s]"
      ]
     },
     "metadata": {},
     "output_type": "display_data"
    },
    {
     "data": {
      "application/vnd.jupyter.widget-view+json": {
       "model_id": "f8d9430c140f4688bf0153dc1524e133",
       "version_major": 2,
       "version_minor": 0
      },
      "text/plain": [
       "Filter:   0%|          | 0/1800 [00:00<?, ? examples/s]"
      ]
     },
     "metadata": {},
     "output_type": "display_data"
    },
    {
     "name": "stdout",
     "output_type": "stream",
     "text": [
      "DatasetDict({\n",
      "    train_claim_en_evidence_en: Dataset({\n",
      "        features: ['claim_id', 'claim', 'evidence', 'evidence_label', 'label', 'category', 'claim_language', 'evidence_language'],\n",
      "        num_rows: 200\n",
      "    })\n",
      "    train_claim_en_evidence_idn: Dataset({\n",
      "        features: ['claim_id', 'claim', 'evidence', 'evidence_label', 'label', 'category', 'claim_language', 'evidence_language'],\n",
      "        num_rows: 200\n",
      "    })\n",
      "    train_claim_en_evidence_arb: Dataset({\n",
      "        features: ['claim_id', 'claim', 'evidence', 'evidence_label', 'label', 'category', 'claim_language', 'evidence_language'],\n",
      "        num_rows: 200\n",
      "    })\n",
      "    train_claim_idn_evidence_en: Dataset({\n",
      "        features: ['claim_id', 'claim', 'evidence', 'evidence_label', 'label', 'category', 'claim_language', 'evidence_language'],\n",
      "        num_rows: 200\n",
      "    })\n",
      "    train_claim_idn_evidence_idn: Dataset({\n",
      "        features: ['claim_id', 'claim', 'evidence', 'evidence_label', 'label', 'category', 'claim_language', 'evidence_language'],\n",
      "        num_rows: 200\n",
      "    })\n",
      "    train_claim_idn_evidence_arb: Dataset({\n",
      "        features: ['claim_id', 'claim', 'evidence', 'evidence_label', 'label', 'category', 'claim_language', 'evidence_language'],\n",
      "        num_rows: 200\n",
      "    })\n",
      "    train_claim_arb_evidence_en: Dataset({\n",
      "        features: ['claim_id', 'claim', 'evidence', 'evidence_label', 'label', 'category', 'claim_language', 'evidence_language'],\n",
      "        num_rows: 200\n",
      "    })\n",
      "    train_claim_arb_evidence_idn: Dataset({\n",
      "        features: ['claim_id', 'claim', 'evidence', 'evidence_label', 'label', 'category', 'claim_language', 'evidence_language'],\n",
      "        num_rows: 200\n",
      "    })\n",
      "    train_claim_arb_evidence_arb: Dataset({\n",
      "        features: ['claim_id', 'claim', 'evidence', 'evidence_label', 'label', 'category', 'claim_language', 'evidence_language'],\n",
      "        num_rows: 200\n",
      "    })\n",
      "})\n"
     ]
    }
   ],
   "source": [
    "from datasets import DatasetDict\n",
    "\n",
    "# Function to generate combinations\n",
    "def generate_combinations(batch):\n",
    "    # Initialize lists to collect the new data\n",
    "    new_claim_ids = []\n",
    "    new_claims = []\n",
    "    new_evidences = []\n",
    "    new_evidence_labels = []\n",
    "    new_labels = []\n",
    "    new_categories = []\n",
    "    new_claim_languages = []\n",
    "    new_evidence_languages = []\n",
    "\n",
    "    # Iterate over the batch\n",
    "    for i in range(len(batch['claim'])):\n",
    "        claims = {\n",
    "            'en': batch['claim'][i],\n",
    "            'idn': batch['claim_idn'][i],\n",
    "            'arb': batch['claim_arb'][i]\n",
    "        }\n",
    "        evidences = {\n",
    "            'en': batch['evidence'][i],\n",
    "            'idn': batch['evidence_idn'][i],\n",
    "            'arb': batch['evidence_arb'][i]\n",
    "        }\n",
    "\n",
    "        # Generate combinations\n",
    "        for claim_lang, claim_text in claims.items():\n",
    "            for evidence_lang, evidence_text in evidences.items():\n",
    "                new_claim_ids.append(batch['claim_id'][i])\n",
    "                new_claims.append(claim_text)\n",
    "                new_evidences.append(evidence_text)\n",
    "                new_evidence_labels.append(batch['evidence_label'][i])\n",
    "                new_labels.append(batch['label'][i])\n",
    "                new_categories.append(batch['category'][i])\n",
    "                new_claim_languages.append(claim_lang)\n",
    "                new_evidence_languages.append(evidence_lang)\n",
    "\n",
    "    # Return a dictionary of lists\n",
    "    return {\n",
    "        'claim_id': new_claim_ids,\n",
    "        'claim': new_claims,\n",
    "        'evidence': new_evidences,\n",
    "        'evidence_label': new_evidence_labels,\n",
    "        'label': new_labels,\n",
    "        'category': new_categories,\n",
    "        'claim_language': new_claim_languages,\n",
    "        'evidence_language': new_evidence_languages\n",
    "    }\n",
    "\n",
    "# Process each split individually\n",
    "new_datasets = {}\n",
    "\n",
    "for split in dataset.keys():\n",
    "    print(f\"Processing split: {split}\")\n",
    "    split_dataset = dataset[split]\n",
    "\n",
    "    # Apply the mapping function to generate combinations\n",
    "    new_split_dataset = split_dataset.map(\n",
    "        generate_combinations,\n",
    "        remove_columns=['claim', 'evidence', 'claim_idn', 'evidence_idn', 'claim_arb', 'evidence_arb'],\n",
    "        batched=True,\n",
    "    )\n",
    "\n",
    "    # Add the new split dataset to the new_datasets dict\n",
    "    new_datasets[split] = new_split_dataset\n",
    "\n",
    "# Create a new DatasetDict with the processed splits\n",
    "new_dataset = DatasetDict(new_datasets)\n",
    "\n",
    "# Create subsets for each language combination\n",
    "subsets = {}\n",
    "languages = ['en', 'idn', 'arb']\n",
    "\n",
    "for split in new_dataset.keys():\n",
    "    split_dataset = new_dataset[split]\n",
    "    for claim_lang in languages:\n",
    "        for evidence_lang in languages:\n",
    "            subset_name = f'{split}_claim_{claim_lang}_evidence_{evidence_lang}'\n",
    "            filtered_dataset = split_dataset.filter(\n",
    "                lambda example: example['claim_language'] == claim_lang and example['evidence_language'] == evidence_lang\n",
    "            )\n",
    "            subsets[subset_name] = filtered_dataset  # filtered_dataset is a Dataset\n",
    "\n",
    "# Create a DatasetDict from the subsets\n",
    "combined_dataset = DatasetDict(subsets)\n",
    "\n",
    "# Verify the combined dataset\n",
    "print(combined_dataset)"
   ]
  },
  {
   "cell_type": "code",
   "execution_count": 11,
   "metadata": {},
   "outputs": [
    {
     "data": {
      "application/vnd.jupyter.widget-view+json": {
       "model_id": "a891f49887664087860e0afcd67188f4",
       "version_major": 2,
       "version_minor": 0
      },
      "text/plain": [
       "Uploading the dataset shards:   0%|          | 0/1 [00:00<?, ?it/s]"
      ]
     },
     "metadata": {},
     "output_type": "display_data"
    },
    {
     "data": {
      "application/vnd.jupyter.widget-view+json": {
       "model_id": "1272973091a84c2e8e16d45af18e7397",
       "version_major": 2,
       "version_minor": 0
      },
      "text/plain": [
       "Creating parquet from Arrow format:   0%|          | 0/1 [00:00<?, ?ba/s]"
      ]
     },
     "metadata": {},
     "output_type": "display_data"
    },
    {
     "data": {
      "application/vnd.jupyter.widget-view+json": {
       "model_id": "d6756edffe2b4e2c82d08b171214f32d",
       "version_major": 2,
       "version_minor": 0
      },
      "text/plain": [
       "Uploading the dataset shards:   0%|          | 0/1 [00:00<?, ?it/s]"
      ]
     },
     "metadata": {},
     "output_type": "display_data"
    },
    {
     "data": {
      "application/vnd.jupyter.widget-view+json": {
       "model_id": "b9fcedc914f742bb8b5858627bf851b9",
       "version_major": 2,
       "version_minor": 0
      },
      "text/plain": [
       "Creating parquet from Arrow format:   0%|          | 0/1 [00:00<?, ?ba/s]"
      ]
     },
     "metadata": {},
     "output_type": "display_data"
    },
    {
     "data": {
      "application/vnd.jupyter.widget-view+json": {
       "model_id": "9abe841db6254cdfbdf2800f0761026e",
       "version_major": 2,
       "version_minor": 0
      },
      "text/plain": [
       "Uploading the dataset shards:   0%|          | 0/1 [00:00<?, ?it/s]"
      ]
     },
     "metadata": {},
     "output_type": "display_data"
    },
    {
     "data": {
      "application/vnd.jupyter.widget-view+json": {
       "model_id": "0aec1ddb797e4c6fbcb1cf36b8b1bca3",
       "version_major": 2,
       "version_minor": 0
      },
      "text/plain": [
       "Creating parquet from Arrow format:   0%|          | 0/1 [00:00<?, ?ba/s]"
      ]
     },
     "metadata": {},
     "output_type": "display_data"
    },
    {
     "data": {
      "application/vnd.jupyter.widget-view+json": {
       "model_id": "ba3f20f4bac44f51b28a91732f7e4e0d",
       "version_major": 2,
       "version_minor": 0
      },
      "text/plain": [
       "Uploading the dataset shards:   0%|          | 0/1 [00:00<?, ?it/s]"
      ]
     },
     "metadata": {},
     "output_type": "display_data"
    },
    {
     "data": {
      "application/vnd.jupyter.widget-view+json": {
       "model_id": "d1e9edf8f4ba4c7da55bb27de1a4ff09",
       "version_major": 2,
       "version_minor": 0
      },
      "text/plain": [
       "Creating parquet from Arrow format:   0%|          | 0/1 [00:00<?, ?ba/s]"
      ]
     },
     "metadata": {},
     "output_type": "display_data"
    },
    {
     "data": {
      "application/vnd.jupyter.widget-view+json": {
       "model_id": "767b8796412f444eb6e2b7f91b4d0a91",
       "version_major": 2,
       "version_minor": 0
      },
      "text/plain": [
       "Uploading the dataset shards:   0%|          | 0/1 [00:00<?, ?it/s]"
      ]
     },
     "metadata": {},
     "output_type": "display_data"
    },
    {
     "data": {
      "application/vnd.jupyter.widget-view+json": {
       "model_id": "353909e380d84491b58ad2a9514194a2",
       "version_major": 2,
       "version_minor": 0
      },
      "text/plain": [
       "Creating parquet from Arrow format:   0%|          | 0/1 [00:00<?, ?ba/s]"
      ]
     },
     "metadata": {},
     "output_type": "display_data"
    },
    {
     "data": {
      "application/vnd.jupyter.widget-view+json": {
       "model_id": "29f6ebb522364769a9a19b5b6e1349b4",
       "version_major": 2,
       "version_minor": 0
      },
      "text/plain": [
       "Uploading the dataset shards:   0%|          | 0/1 [00:00<?, ?it/s]"
      ]
     },
     "metadata": {},
     "output_type": "display_data"
    },
    {
     "data": {
      "application/vnd.jupyter.widget-view+json": {
       "model_id": "825188c7b52c4ff2b3f5115814db59b0",
       "version_major": 2,
       "version_minor": 0
      },
      "text/plain": [
       "Creating parquet from Arrow format:   0%|          | 0/1 [00:00<?, ?ba/s]"
      ]
     },
     "metadata": {},
     "output_type": "display_data"
    },
    {
     "data": {
      "application/vnd.jupyter.widget-view+json": {
       "model_id": "79ab0b00734a4baba5370d2b0e5a42ed",
       "version_major": 2,
       "version_minor": 0
      },
      "text/plain": [
       "Uploading the dataset shards:   0%|          | 0/1 [00:00<?, ?it/s]"
      ]
     },
     "metadata": {},
     "output_type": "display_data"
    },
    {
     "data": {
      "application/vnd.jupyter.widget-view+json": {
       "model_id": "d21832026a9d472a8872594f873e2f7d",
       "version_major": 2,
       "version_minor": 0
      },
      "text/plain": [
       "Creating parquet from Arrow format:   0%|          | 0/1 [00:00<?, ?ba/s]"
      ]
     },
     "metadata": {},
     "output_type": "display_data"
    },
    {
     "data": {
      "application/vnd.jupyter.widget-view+json": {
       "model_id": "3aea338cc6c84c6ba5e6866c3da8731d",
       "version_major": 2,
       "version_minor": 0
      },
      "text/plain": [
       "Uploading the dataset shards:   0%|          | 0/1 [00:00<?, ?it/s]"
      ]
     },
     "metadata": {},
     "output_type": "display_data"
    },
    {
     "data": {
      "application/vnd.jupyter.widget-view+json": {
       "model_id": "abe3c0bd34f84784b496cb30db22f5fb",
       "version_major": 2,
       "version_minor": 0
      },
      "text/plain": [
       "Creating parquet from Arrow format:   0%|          | 0/1 [00:00<?, ?ba/s]"
      ]
     },
     "metadata": {},
     "output_type": "display_data"
    },
    {
     "data": {
      "application/vnd.jupyter.widget-view+json": {
       "model_id": "9346829be6d9411ea4bb4c5101e6c730",
       "version_major": 2,
       "version_minor": 0
      },
      "text/plain": [
       "Uploading the dataset shards:   0%|          | 0/1 [00:00<?, ?it/s]"
      ]
     },
     "metadata": {},
     "output_type": "display_data"
    },
    {
     "data": {
      "application/vnd.jupyter.widget-view+json": {
       "model_id": "fbe31dab24b240cda5c2d8e4efbfdbf4",
       "version_major": 2,
       "version_minor": 0
      },
      "text/plain": [
       "Creating parquet from Arrow format:   0%|          | 0/1 [00:00<?, ?ba/s]"
      ]
     },
     "metadata": {},
     "output_type": "display_data"
    },
    {
     "data": {
      "text/plain": [
       "CommitInfo(commit_url='https://huggingface.co/datasets/Erland/fake_news_detection_dataset_cross_lingual/commit/13a66b9628c0ce7f4c1dee40cac9f0286115c820', commit_message='Upload dataset', commit_description='', oid='13a66b9628c0ce7f4c1dee40cac9f0286115c820', pr_url=None, repo_url=RepoUrl('https://huggingface.co/datasets/Erland/fake_news_detection_dataset_cross_lingual', endpoint='https://huggingface.co', repo_type='dataset', repo_id='Erland/fake_news_detection_dataset_cross_lingual'), pr_revision=None, pr_num=None)"
      ]
     },
     "execution_count": 11,
     "metadata": {},
     "output_type": "execute_result"
    }
   ],
   "source": [
    "combined_dataset.push_to_hub(\"fake_news_detection_dataset_cross_lingual\", private=True)"
   ]
  },
  {
   "cell_type": "code",
   "execution_count": 3,
   "metadata": {},
   "outputs": [
    {
     "data": {
      "text/plain": [
       "DatasetDict({\n",
       "    train_claim_en_evidence_en: Dataset({\n",
       "        features: ['claim_id', 'claim', 'evidence', 'evidence_label', 'label', 'category', 'claim_language', 'evidence_language'],\n",
       "        num_rows: 200\n",
       "    })\n",
       "    train_claim_en_evidence_idn: Dataset({\n",
       "        features: ['claim_id', 'claim', 'evidence', 'evidence_label', 'label', 'category', 'claim_language', 'evidence_language'],\n",
       "        num_rows: 200\n",
       "    })\n",
       "    train_claim_en_evidence_arb: Dataset({\n",
       "        features: ['claim_id', 'claim', 'evidence', 'evidence_label', 'label', 'category', 'claim_language', 'evidence_language'],\n",
       "        num_rows: 200\n",
       "    })\n",
       "    train_claim_idn_evidence_en: Dataset({\n",
       "        features: ['claim_id', 'claim', 'evidence', 'evidence_label', 'label', 'category', 'claim_language', 'evidence_language'],\n",
       "        num_rows: 200\n",
       "    })\n",
       "    train_claim_idn_evidence_idn: Dataset({\n",
       "        features: ['claim_id', 'claim', 'evidence', 'evidence_label', 'label', 'category', 'claim_language', 'evidence_language'],\n",
       "        num_rows: 200\n",
       "    })\n",
       "    train_claim_idn_evidence_arb: Dataset({\n",
       "        features: ['claim_id', 'claim', 'evidence', 'evidence_label', 'label', 'category', 'claim_language', 'evidence_language'],\n",
       "        num_rows: 200\n",
       "    })\n",
       "    train_claim_arb_evidence_en: Dataset({\n",
       "        features: ['claim_id', 'claim', 'evidence', 'evidence_label', 'label', 'category', 'claim_language', 'evidence_language'],\n",
       "        num_rows: 200\n",
       "    })\n",
       "    train_claim_arb_evidence_idn: Dataset({\n",
       "        features: ['claim_id', 'claim', 'evidence', 'evidence_label', 'label', 'category', 'claim_language', 'evidence_language'],\n",
       "        num_rows: 200\n",
       "    })\n",
       "    train_claim_arb_evidence_arb: Dataset({\n",
       "        features: ['claim_id', 'claim', 'evidence', 'evidence_label', 'label', 'category', 'claim_language', 'evidence_language'],\n",
       "        num_rows: 200\n",
       "    })\n",
       "})"
      ]
     },
     "execution_count": 3,
     "metadata": {},
     "output_type": "execute_result"
    }
   ],
   "source": [
    "from datasets import load_dataset\n",
    "\n",
    "dataset = load_dataset(\"Erland/fake_news_detection_dataset_cross_lingual\")\n",
    "dataset"
   ]
  },
  {
   "cell_type": "markdown",
   "metadata": {},
   "source": [
    "# Transform into text"
   ]
  },
  {
   "cell_type": "code",
   "execution_count": 4,
   "metadata": {},
   "outputs": [
    {
     "name": "stdout",
     "output_type": "stream",
     "text": [
      "Processing subset: train_claim_en_evidence_en\n",
      "Processing subset: train_claim_en_evidence_idn\n",
      "Processing subset: train_claim_en_evidence_arb\n",
      "Processing subset: train_claim_idn_evidence_en\n",
      "Processing subset: train_claim_idn_evidence_idn\n",
      "Processing subset: train_claim_idn_evidence_arb\n",
      "Processing subset: train_claim_arb_evidence_en\n",
      "Processing subset: train_claim_arb_evidence_idn\n",
      "Processing subset: train_claim_arb_evidence_arb\n",
      "DatasetDict({\n",
      "    train_claim_en_evidence_en: Dataset({\n",
      "        features: ['text', 'labels'],\n",
      "        num_rows: 200\n",
      "    })\n",
      "    train_claim_en_evidence_idn: Dataset({\n",
      "        features: ['text', 'labels'],\n",
      "        num_rows: 200\n",
      "    })\n",
      "    train_claim_en_evidence_arb: Dataset({\n",
      "        features: ['text', 'labels'],\n",
      "        num_rows: 200\n",
      "    })\n",
      "    train_claim_idn_evidence_en: Dataset({\n",
      "        features: ['text', 'labels'],\n",
      "        num_rows: 200\n",
      "    })\n",
      "    train_claim_idn_evidence_idn: Dataset({\n",
      "        features: ['text', 'labels'],\n",
      "        num_rows: 200\n",
      "    })\n",
      "    train_claim_idn_evidence_arb: Dataset({\n",
      "        features: ['text', 'labels'],\n",
      "        num_rows: 200\n",
      "    })\n",
      "    train_claim_arb_evidence_en: Dataset({\n",
      "        features: ['text', 'labels'],\n",
      "        num_rows: 200\n",
      "    })\n",
      "    train_claim_arb_evidence_idn: Dataset({\n",
      "        features: ['text', 'labels'],\n",
      "        num_rows: 200\n",
      "    })\n",
      "    train_claim_arb_evidence_arb: Dataset({\n",
      "        features: ['text', 'labels'],\n",
      "        num_rows: 200\n",
      "    })\n",
      "})\n",
      "{'text': '[The 1990 IPCC report said] that the Antarctic ice sheets were stable. Evidence: The West Antarctic Ice Sheet is stable so long as the Ross Ice Shelf is constrained by drag along its lateral boundaries and pinned by local grounding.', 'labels': 'NOT_ENOUGH_INFO'}\n",
      "{'text': 'International Energy Agency, a global analysis organization, “continue to see a role for coal for the foreseeable future.”. Evidence: He further said that the IEA is overstating the role of shale in a global market, and how the core job of the IEA, is not to take things out of context.', 'labels': 'NOT_ENOUGH_INFO'}\n",
      "{'text': 'Sea level rise is now increasing faster than predicted due to unexpectedly rapid ice melting.. Evidence: This acceleration is due mostly to human-caused global warming, which is driving thermal expansion of seawater and the melting of land-based ice sheets and glaciers.', 'labels': 'SUPPORTS'}\n"
     ]
    }
   ],
   "source": [
    "# Define the formatting function\n",
    "def format_examples(batch):\n",
    "    texts = [f\"{claim}. Evidence: {evidence}\" for claim, evidence in zip(batch['claim'], batch['evidence'])]\n",
    "    labels = batch['evidence_label']\n",
    "    return {'text': texts, 'labels': labels}\n",
    "\n",
    "# Apply the function to each subset\n",
    "for subset_name in dataset.keys():\n",
    "    print(f\"Processing subset: {subset_name}\")\n",
    "    subset_dataset = dataset[subset_name]\n",
    "    formatted_dataset = subset_dataset.map(\n",
    "        format_examples,\n",
    "        batched=True,\n",
    "        remove_columns=subset_dataset.column_names\n",
    "    )\n",
    "    dataset[subset_name] = formatted_dataset\n",
    "\n",
    "# Verify the transformation\n",
    "print(dataset)\n",
    "\n",
    "# Print a few examples from one of the subsets\n",
    "for example in dataset[list(dataset.keys())[0]].select(range(3)):\n",
    "    print(example)\n",
    "\n"
   ]
  },
  {
   "cell_type": "code",
   "execution_count": 13,
   "metadata": {},
   "outputs": [
    {
     "data": {
      "text/plain": [
       "True"
      ]
     },
     "execution_count": 13,
     "metadata": {},
     "output_type": "execute_result"
    }
   ],
   "source": [
    "from dotenv import load_dotenv\n",
    "\n",
    "load_dotenv()"
   ]
  },
  {
   "cell_type": "code",
   "execution_count": 1,
   "metadata": {},
   "outputs": [
    {
     "name": "stderr",
     "output_type": "stream",
     "text": [
      "\u001b[32m2024-10-27 21:17:02.834\u001b[0m | \u001b[34m\u001b[1mDEBUG   \u001b[0m | \u001b[36msupertrainer.utils.helpers\u001b[0m:\u001b[36mlogin_hf\u001b[0m:\u001b[36m42\u001b[0m - \u001b[34m\u001b[1mUse token from environment variable HUGGINGFACE_API_KEY\u001b[0m\n"
     ]
    },
    {
     "name": "stdout",
     "output_type": "stream",
     "text": [
      "The token has not been saved to the git credentials helper. Pass `add_to_git_credential=True` in this function directly or `--add-to-git-credential` if using via `huggingface-cli` if you want to set the git credential as well.\n",
      "Token is valid (permission: write).\n",
      "Your token has been saved to /home/erland.fuadi/.cache/huggingface/token\n",
      "Login successful\n"
     ]
    }
   ],
   "source": [
    "from supertrainer.utils.helpers import login_hf\n",
    "\n",
    "login_hf()"
   ]
  },
  {
   "cell_type": "code",
   "execution_count": 2,
   "metadata": {},
   "outputs": [
    {
     "data": {
      "text/plain": [
       "{'type': 'user',\n",
       " 'id': '6239ac869895e5c2a4345131',\n",
       " 'name': 'Erland',\n",
       " 'fullname': 'Edd',\n",
       " 'email': 'erland.pg366@gmail.com',\n",
       " 'emailVerified': True,\n",
       " 'canPay': False,\n",
       " 'periodEnd': None,\n",
       " 'isPro': False,\n",
       " 'avatarUrl': 'https://cdn-avatars.huggingface.co/v1/production/uploads/6239ac869895e5c2a4345131/QErVhX2EdKUSg06eRrU7L.jpeg',\n",
       " 'orgs': [],\n",
       " 'auth': {'type': 'access_token',\n",
       "  'accessToken': {'displayName': 'HPC supertrainer',\n",
       "   'role': 'write',\n",
       "   'createdAt': '2024-10-27T17:16:48.448Z'}}}"
      ]
     },
     "execution_count": 2,
     "metadata": {},
     "output_type": "execute_result"
    }
   ],
   "source": [
    "from huggingface_hub import whoami\n",
    "\n",
    "whoami()"
   ]
  },
  {
   "cell_type": "code",
   "execution_count": 5,
   "metadata": {},
   "outputs": [
    {
     "data": {
      "application/vnd.jupyter.widget-view+json": {
       "model_id": "10fd93f444954c41a1f429ea14afa188",
       "version_major": 2,
       "version_minor": 0
      },
      "text/plain": [
       "Uploading the dataset shards:   0%|          | 0/1 [00:00<?, ?it/s]"
      ]
     },
     "metadata": {},
     "output_type": "display_data"
    },
    {
     "data": {
      "application/vnd.jupyter.widget-view+json": {
       "model_id": "da9583cef12f4c41bc0badfab23a0e6e",
       "version_major": 2,
       "version_minor": 0
      },
      "text/plain": [
       "Creating parquet from Arrow format:   0%|          | 0/1 [00:00<?, ?ba/s]"
      ]
     },
     "metadata": {},
     "output_type": "display_data"
    },
    {
     "data": {
      "application/vnd.jupyter.widget-view+json": {
       "model_id": "b19dd963af3f4dac9f880cd4ab7c5867",
       "version_major": 2,
       "version_minor": 0
      },
      "text/plain": [
       "Uploading the dataset shards:   0%|          | 0/1 [00:00<?, ?it/s]"
      ]
     },
     "metadata": {},
     "output_type": "display_data"
    },
    {
     "data": {
      "application/vnd.jupyter.widget-view+json": {
       "model_id": "5ae0660ded254288b2143846ea94cf24",
       "version_major": 2,
       "version_minor": 0
      },
      "text/plain": [
       "Creating parquet from Arrow format:   0%|          | 0/1 [00:00<?, ?ba/s]"
      ]
     },
     "metadata": {},
     "output_type": "display_data"
    },
    {
     "data": {
      "application/vnd.jupyter.widget-view+json": {
       "model_id": "5a288b85bf4543adb9dca5adc9f6ad8c",
       "version_major": 2,
       "version_minor": 0
      },
      "text/plain": [
       "Uploading the dataset shards:   0%|          | 0/1 [00:00<?, ?it/s]"
      ]
     },
     "metadata": {},
     "output_type": "display_data"
    },
    {
     "data": {
      "application/vnd.jupyter.widget-view+json": {
       "model_id": "bd2b4f4d3824484e9c817b3cc593e04f",
       "version_major": 2,
       "version_minor": 0
      },
      "text/plain": [
       "Creating parquet from Arrow format:   0%|          | 0/1 [00:00<?, ?ba/s]"
      ]
     },
     "metadata": {},
     "output_type": "display_data"
    },
    {
     "data": {
      "application/vnd.jupyter.widget-view+json": {
       "model_id": "cc353866f0fb45818787633bdb6f1a80",
       "version_major": 2,
       "version_minor": 0
      },
      "text/plain": [
       "Uploading the dataset shards:   0%|          | 0/1 [00:00<?, ?it/s]"
      ]
     },
     "metadata": {},
     "output_type": "display_data"
    },
    {
     "data": {
      "application/vnd.jupyter.widget-view+json": {
       "model_id": "d2e1ba54ac474d3c8b51cbde54973c05",
       "version_major": 2,
       "version_minor": 0
      },
      "text/plain": [
       "Creating parquet from Arrow format:   0%|          | 0/1 [00:00<?, ?ba/s]"
      ]
     },
     "metadata": {},
     "output_type": "display_data"
    },
    {
     "data": {
      "application/vnd.jupyter.widget-view+json": {
       "model_id": "6dafe83cc1c440dfb219b5395ffbc505",
       "version_major": 2,
       "version_minor": 0
      },
      "text/plain": [
       "Uploading the dataset shards:   0%|          | 0/1 [00:00<?, ?it/s]"
      ]
     },
     "metadata": {},
     "output_type": "display_data"
    },
    {
     "data": {
      "application/vnd.jupyter.widget-view+json": {
       "model_id": "10e3d191d6e64fddabc69f65c3f72273",
       "version_major": 2,
       "version_minor": 0
      },
      "text/plain": [
       "Creating parquet from Arrow format:   0%|          | 0/1 [00:00<?, ?ba/s]"
      ]
     },
     "metadata": {},
     "output_type": "display_data"
    },
    {
     "data": {
      "application/vnd.jupyter.widget-view+json": {
       "model_id": "09960708aa6f405f8fe7b587850f11e9",
       "version_major": 2,
       "version_minor": 0
      },
      "text/plain": [
       "Uploading the dataset shards:   0%|          | 0/1 [00:00<?, ?it/s]"
      ]
     },
     "metadata": {},
     "output_type": "display_data"
    },
    {
     "data": {
      "application/vnd.jupyter.widget-view+json": {
       "model_id": "d0da901430bd4228b73ec23897abb0f3",
       "version_major": 2,
       "version_minor": 0
      },
      "text/plain": [
       "Creating parquet from Arrow format:   0%|          | 0/1 [00:00<?, ?ba/s]"
      ]
     },
     "metadata": {},
     "output_type": "display_data"
    },
    {
     "data": {
      "application/vnd.jupyter.widget-view+json": {
       "model_id": "bab07777aba34cc58f757be20402c06e",
       "version_major": 2,
       "version_minor": 0
      },
      "text/plain": [
       "Uploading the dataset shards:   0%|          | 0/1 [00:00<?, ?it/s]"
      ]
     },
     "metadata": {},
     "output_type": "display_data"
    },
    {
     "data": {
      "application/vnd.jupyter.widget-view+json": {
       "model_id": "599275fc28c94ee0b63a7b1879a5e2ae",
       "version_major": 2,
       "version_minor": 0
      },
      "text/plain": [
       "Creating parquet from Arrow format:   0%|          | 0/1 [00:00<?, ?ba/s]"
      ]
     },
     "metadata": {},
     "output_type": "display_data"
    },
    {
     "data": {
      "application/vnd.jupyter.widget-view+json": {
       "model_id": "e6b7899a446a4f2a8a396d55b99d20ce",
       "version_major": 2,
       "version_minor": 0
      },
      "text/plain": [
       "Uploading the dataset shards:   0%|          | 0/1 [00:00<?, ?it/s]"
      ]
     },
     "metadata": {},
     "output_type": "display_data"
    },
    {
     "data": {
      "application/vnd.jupyter.widget-view+json": {
       "model_id": "d5e499780ca34058849071899f15a41a",
       "version_major": 2,
       "version_minor": 0
      },
      "text/plain": [
       "Creating parquet from Arrow format:   0%|          | 0/1 [00:00<?, ?ba/s]"
      ]
     },
     "metadata": {},
     "output_type": "display_data"
    },
    {
     "data": {
      "application/vnd.jupyter.widget-view+json": {
       "model_id": "37b3e35b113e4332881b8341e5e805d1",
       "version_major": 2,
       "version_minor": 0
      },
      "text/plain": [
       "Uploading the dataset shards:   0%|          | 0/1 [00:00<?, ?it/s]"
      ]
     },
     "metadata": {},
     "output_type": "display_data"
    },
    {
     "data": {
      "application/vnd.jupyter.widget-view+json": {
       "model_id": "cc2ae2a241e5447486a366e3d2a5474e",
       "version_major": 2,
       "version_minor": 0
      },
      "text/plain": [
       "Creating parquet from Arrow format:   0%|          | 0/1 [00:00<?, ?ba/s]"
      ]
     },
     "metadata": {},
     "output_type": "display_data"
    },
    {
     "data": {
      "text/plain": [
       "CommitInfo(commit_url='https://huggingface.co/datasets/Erland/fake_news_detection_dataset_cross_lingual_formatted/commit/ba2b5146db09b334da93ac0f7621dcafcf6a02ed', commit_message='Upload dataset', commit_description='', oid='ba2b5146db09b334da93ac0f7621dcafcf6a02ed', pr_url=None, repo_url=RepoUrl('https://huggingface.co/datasets/Erland/fake_news_detection_dataset_cross_lingual_formatted', endpoint='https://huggingface.co', repo_type='dataset', repo_id='Erland/fake_news_detection_dataset_cross_lingual_formatted'), pr_revision=None, pr_num=None)"
      ]
     },
     "execution_count": 5,
     "metadata": {},
     "output_type": "execute_result"
    }
   ],
   "source": [
    "dataset.push_to_hub(\"fake_news_detection_dataset_cross_lingual_formatted\", private=True)"
   ]
  },
  {
   "cell_type": "code",
   "execution_count": 9,
   "metadata": {},
   "outputs": [],
   "source": [
    "dataset = load_dataset(\"Erland/fake_news_detection_dataset_cross_lingual_formatted\")"
   ]
  },
  {
   "cell_type": "code",
   "execution_count": null,
   "metadata": {},
   "outputs": [],
   "source": []
  },
  {
   "cell_type": "code",
   "execution_count": 6,
   "metadata": {},
   "outputs": [
    {
     "data": {
      "application/vnd.jupyter.widget-view+json": {
       "model_id": "0758100af4314ad8bef6dd5a78e3fcc3",
       "version_major": 2,
       "version_minor": 0
      },
      "text/plain": [
       "Map:   0%|          | 0/200 [00:00<?, ? examples/s]"
      ]
     },
     "metadata": {},
     "output_type": "display_data"
    },
    {
     "data": {
      "application/vnd.jupyter.widget-view+json": {
       "model_id": "df6a67d45cc14d6993f1a76e77148b94",
       "version_major": 2,
       "version_minor": 0
      },
      "text/plain": [
       "Map:   0%|          | 0/200 [00:00<?, ? examples/s]"
      ]
     },
     "metadata": {},
     "output_type": "display_data"
    },
    {
     "data": {
      "application/vnd.jupyter.widget-view+json": {
       "model_id": "ebecd1a420ca4bf3aa14757b90f20958",
       "version_major": 2,
       "version_minor": 0
      },
      "text/plain": [
       "Map:   0%|          | 0/200 [00:00<?, ? examples/s]"
      ]
     },
     "metadata": {},
     "output_type": "display_data"
    },
    {
     "data": {
      "application/vnd.jupyter.widget-view+json": {
       "model_id": "78fc0243bc13435cb0d15df053b5cb96",
       "version_major": 2,
       "version_minor": 0
      },
      "text/plain": [
       "Map:   0%|          | 0/200 [00:00<?, ? examples/s]"
      ]
     },
     "metadata": {},
     "output_type": "display_data"
    },
    {
     "data": {
      "application/vnd.jupyter.widget-view+json": {
       "model_id": "01ddfe1505eb43dbbbda5dbec4b69ab9",
       "version_major": 2,
       "version_minor": 0
      },
      "text/plain": [
       "Map:   0%|          | 0/200 [00:00<?, ? examples/s]"
      ]
     },
     "metadata": {},
     "output_type": "display_data"
    },
    {
     "data": {
      "application/vnd.jupyter.widget-view+json": {
       "model_id": "5e618aad68724afc9d2c8baf128440ab",
       "version_major": 2,
       "version_minor": 0
      },
      "text/plain": [
       "Map:   0%|          | 0/200 [00:00<?, ? examples/s]"
      ]
     },
     "metadata": {},
     "output_type": "display_data"
    },
    {
     "data": {
      "application/vnd.jupyter.widget-view+json": {
       "model_id": "dc9f723f2f164b81b74ca4a20b2cd28f",
       "version_major": 2,
       "version_minor": 0
      },
      "text/plain": [
       "Map:   0%|          | 0/200 [00:00<?, ? examples/s]"
      ]
     },
     "metadata": {},
     "output_type": "display_data"
    },
    {
     "data": {
      "application/vnd.jupyter.widget-view+json": {
       "model_id": "e001918db64a4efbb7f34a77b737ad85",
       "version_major": 2,
       "version_minor": 0
      },
      "text/plain": [
       "Map:   0%|          | 0/200 [00:00<?, ? examples/s]"
      ]
     },
     "metadata": {},
     "output_type": "display_data"
    },
    {
     "data": {
      "application/vnd.jupyter.widget-view+json": {
       "model_id": "16872ae312e74bb59a09aeb0d978f218",
       "version_major": 2,
       "version_minor": 0
      },
      "text/plain": [
       "Map:   0%|          | 0/200 [00:00<?, ? examples/s]"
      ]
     },
     "metadata": {},
     "output_type": "display_data"
    },
    {
     "data": {
      "text/plain": [
       "DatasetDict({\n",
       "    train_claim_en_evidence_en: Dataset({\n",
       "        features: ['text', 'labels'],\n",
       "        num_rows: 200\n",
       "    })\n",
       "    train_claim_en_evidence_idn: Dataset({\n",
       "        features: ['text', 'labels'],\n",
       "        num_rows: 200\n",
       "    })\n",
       "    train_claim_en_evidence_arb: Dataset({\n",
       "        features: ['text', 'labels'],\n",
       "        num_rows: 200\n",
       "    })\n",
       "    train_claim_idn_evidence_en: Dataset({\n",
       "        features: ['text', 'labels'],\n",
       "        num_rows: 200\n",
       "    })\n",
       "    train_claim_idn_evidence_idn: Dataset({\n",
       "        features: ['text', 'labels'],\n",
       "        num_rows: 200\n",
       "    })\n",
       "    train_claim_idn_evidence_arb: Dataset({\n",
       "        features: ['text', 'labels'],\n",
       "        num_rows: 200\n",
       "    })\n",
       "    train_claim_arb_evidence_en: Dataset({\n",
       "        features: ['text', 'labels'],\n",
       "        num_rows: 200\n",
       "    })\n",
       "    train_claim_arb_evidence_idn: Dataset({\n",
       "        features: ['text', 'labels'],\n",
       "        num_rows: 200\n",
       "    })\n",
       "    train_claim_arb_evidence_arb: Dataset({\n",
       "        features: ['text', 'labels'],\n",
       "        num_rows: 200\n",
       "    })\n",
       "})"
      ]
     },
     "execution_count": 6,
     "metadata": {},
     "output_type": "execute_result"
    }
   ],
   "source": [
    "# Lower case each data\n",
    "\n",
    "dataset = dataset.map(lambda examples: {'text': examples[\"text\"].lower(), 'labels': examples['labels']})\n",
    "dataset"
   ]
  },
  {
   "cell_type": "code",
   "execution_count": 8,
   "metadata": {},
   "outputs": [
    {
     "data": {
      "application/vnd.jupyter.widget-view+json": {
       "model_id": "92b4d3e90bb84051893754578f4dc4b2",
       "version_major": 2,
       "version_minor": 0
      },
      "text/plain": [
       "Uploading the dataset shards:   0%|          | 0/1 [00:00<?, ?it/s]"
      ]
     },
     "metadata": {},
     "output_type": "display_data"
    },
    {
     "data": {
      "application/vnd.jupyter.widget-view+json": {
       "model_id": "22ee577537104c8986b7c8295c17003a",
       "version_major": 2,
       "version_minor": 0
      },
      "text/plain": [
       "Creating parquet from Arrow format:   0%|          | 0/1 [00:00<?, ?ba/s]"
      ]
     },
     "metadata": {},
     "output_type": "display_data"
    },
    {
     "data": {
      "application/vnd.jupyter.widget-view+json": {
       "model_id": "e6d2a72470014fd7af469d08a1b6615b",
       "version_major": 2,
       "version_minor": 0
      },
      "text/plain": [
       "Uploading the dataset shards:   0%|          | 0/1 [00:00<?, ?it/s]"
      ]
     },
     "metadata": {},
     "output_type": "display_data"
    },
    {
     "data": {
      "application/vnd.jupyter.widget-view+json": {
       "model_id": "07f3cde5265942af98f64d33350c3794",
       "version_major": 2,
       "version_minor": 0
      },
      "text/plain": [
       "Creating parquet from Arrow format:   0%|          | 0/1 [00:00<?, ?ba/s]"
      ]
     },
     "metadata": {},
     "output_type": "display_data"
    },
    {
     "data": {
      "application/vnd.jupyter.widget-view+json": {
       "model_id": "b15980749646433d95268a115765550e",
       "version_major": 2,
       "version_minor": 0
      },
      "text/plain": [
       "Uploading the dataset shards:   0%|          | 0/1 [00:00<?, ?it/s]"
      ]
     },
     "metadata": {},
     "output_type": "display_data"
    },
    {
     "data": {
      "application/vnd.jupyter.widget-view+json": {
       "model_id": "fdb680016d704d4b949c4966242a5af4",
       "version_major": 2,
       "version_minor": 0
      },
      "text/plain": [
       "Creating parquet from Arrow format:   0%|          | 0/1 [00:00<?, ?ba/s]"
      ]
     },
     "metadata": {},
     "output_type": "display_data"
    },
    {
     "data": {
      "application/vnd.jupyter.widget-view+json": {
       "model_id": "d0f6aafd12804e8e801fdf3835f13b79",
       "version_major": 2,
       "version_minor": 0
      },
      "text/plain": [
       "Uploading the dataset shards:   0%|          | 0/1 [00:00<?, ?it/s]"
      ]
     },
     "metadata": {},
     "output_type": "display_data"
    },
    {
     "data": {
      "application/vnd.jupyter.widget-view+json": {
       "model_id": "8dbd10fd29574fcdbffe908008fd397e",
       "version_major": 2,
       "version_minor": 0
      },
      "text/plain": [
       "Creating parquet from Arrow format:   0%|          | 0/1 [00:00<?, ?ba/s]"
      ]
     },
     "metadata": {},
     "output_type": "display_data"
    },
    {
     "data": {
      "application/vnd.jupyter.widget-view+json": {
       "model_id": "11bc623d97964565a7aee29beadfd5d8",
       "version_major": 2,
       "version_minor": 0
      },
      "text/plain": [
       "Uploading the dataset shards:   0%|          | 0/1 [00:00<?, ?it/s]"
      ]
     },
     "metadata": {},
     "output_type": "display_data"
    },
    {
     "data": {
      "application/vnd.jupyter.widget-view+json": {
       "model_id": "51e56b14a2dd4fb2bff6fb92db4e211f",
       "version_major": 2,
       "version_minor": 0
      },
      "text/plain": [
       "Creating parquet from Arrow format:   0%|          | 0/1 [00:00<?, ?ba/s]"
      ]
     },
     "metadata": {},
     "output_type": "display_data"
    },
    {
     "data": {
      "application/vnd.jupyter.widget-view+json": {
       "model_id": "ff6cbd80b1cd46b8bd908ccda94ad986",
       "version_major": 2,
       "version_minor": 0
      },
      "text/plain": [
       "Uploading the dataset shards:   0%|          | 0/1 [00:00<?, ?it/s]"
      ]
     },
     "metadata": {},
     "output_type": "display_data"
    },
    {
     "data": {
      "application/vnd.jupyter.widget-view+json": {
       "model_id": "93be9db1444c4961b56f6695d0337aa7",
       "version_major": 2,
       "version_minor": 0
      },
      "text/plain": [
       "Creating parquet from Arrow format:   0%|          | 0/1 [00:00<?, ?ba/s]"
      ]
     },
     "metadata": {},
     "output_type": "display_data"
    },
    {
     "data": {
      "application/vnd.jupyter.widget-view+json": {
       "model_id": "983d4334242f4f2da1369cb935014b0f",
       "version_major": 2,
       "version_minor": 0
      },
      "text/plain": [
       "Uploading the dataset shards:   0%|          | 0/1 [00:00<?, ?it/s]"
      ]
     },
     "metadata": {},
     "output_type": "display_data"
    },
    {
     "data": {
      "application/vnd.jupyter.widget-view+json": {
       "model_id": "de9432ad1ec44b658c74584400aadd66",
       "version_major": 2,
       "version_minor": 0
      },
      "text/plain": [
       "Creating parquet from Arrow format:   0%|          | 0/1 [00:00<?, ?ba/s]"
      ]
     },
     "metadata": {},
     "output_type": "display_data"
    },
    {
     "data": {
      "application/vnd.jupyter.widget-view+json": {
       "model_id": "ee93ed8e3eca43d5809362ff7f410588",
       "version_major": 2,
       "version_minor": 0
      },
      "text/plain": [
       "Uploading the dataset shards:   0%|          | 0/1 [00:00<?, ?it/s]"
      ]
     },
     "metadata": {},
     "output_type": "display_data"
    },
    {
     "data": {
      "application/vnd.jupyter.widget-view+json": {
       "model_id": "a211eb3248aa493ab5670f3e0f97e10e",
       "version_major": 2,
       "version_minor": 0
      },
      "text/plain": [
       "Creating parquet from Arrow format:   0%|          | 0/1 [00:00<?, ?ba/s]"
      ]
     },
     "metadata": {},
     "output_type": "display_data"
    },
    {
     "data": {
      "application/vnd.jupyter.widget-view+json": {
       "model_id": "9fb95bcce6ab46e8bd2f215c96e7b6cb",
       "version_major": 2,
       "version_minor": 0
      },
      "text/plain": [
       "Uploading the dataset shards:   0%|          | 0/1 [00:00<?, ?it/s]"
      ]
     },
     "metadata": {},
     "output_type": "display_data"
    },
    {
     "data": {
      "application/vnd.jupyter.widget-view+json": {
       "model_id": "c907880d1965497d9960da236a7e4d3c",
       "version_major": 2,
       "version_minor": 0
      },
      "text/plain": [
       "Creating parquet from Arrow format:   0%|          | 0/1 [00:00<?, ?ba/s]"
      ]
     },
     "metadata": {},
     "output_type": "display_data"
    },
    {
     "data": {
      "text/plain": [
       "CommitInfo(commit_url='https://huggingface.co/datasets/Erland/fake_news_detection_dataset_cross_lingual_formatted_uncased/commit/4ffb3729ec97376cb48c1b3e426cfef2112f778c', commit_message='Upload dataset', commit_description='', oid='4ffb3729ec97376cb48c1b3e426cfef2112f778c', pr_url=None, repo_url=RepoUrl('https://huggingface.co/datasets/Erland/fake_news_detection_dataset_cross_lingual_formatted_uncased', endpoint='https://huggingface.co', repo_type='dataset', repo_id='Erland/fake_news_detection_dataset_cross_lingual_formatted_uncased'), pr_revision=None, pr_num=None)"
      ]
     },
     "execution_count": 8,
     "metadata": {},
     "output_type": "execute_result"
    }
   ],
   "source": [
    "dataset.push_to_hub(\"fake_news_detection_dataset_cross_lingual_formatted_uncased\", private=True)"
   ]
  },
  {
   "cell_type": "code",
   "execution_count": 7,
   "metadata": {},
   "outputs": [
    {
     "data": {
      "text/plain": [
       "['[ laporan 1990 ipcc berkata bahwa ] lapisan es antartika stabil. evidence: lapisan es antartika barat stabil selama lapisan es ross dibatasi oleh hambatan di sepanjang batas lateralnya dan tertahan oleh landasan lokal.',\n",
       " 'international energy agency, organisasi analisis global, \"terus melihat peran batu bara untuk masa mendatang\". evidence: none',\n",
       " 'kenaikan permukaan air laut meningkat lebih cepat daripada yang diprediksi dikarenakan lajunya pencairan es yang mendadak. evidence: percepatan ini sebagian besar disebabkan oleh pemanasan global yang disebabkan oleh manusia, yang mendorong ekspansi termal air laut dan pencairan lapisan es dan daratan gletser.',\n",
       " 'saat ini, landas kontinen bekerja seperti penyumbat botol raksasa yang memperlambat aliran es dari daratan menuju laut.. evidence: namun, aliran keluar es dari daratan untuk membentuk landasan eslah yang menyebabkan kenaikan permukaan laut global.',\n",
       " 'penyesuaian pertama merubah cara suhu permukaan laut dihitung, dengan mengganti data satelit dengan data dari pelampung apung dan suhu pada saluran air yang masuk ke kapal.. evidence: tingkatan tersebut bervariasi secara global dalam rentang ± 2 m. secara historis, penyesuaian dilakukan pada pengukuran permukaan laut untuk mempertimbangkan efek siklus metonik 235 bulan lunar dan siklus gerhana 223 bulan pada ombak.',\n",
       " 'co2 memperkuat pemanasan dan bercampur melalui atmosfer, menyebarkan pemanasan di seluruh planet.. evidence: karena uap air adalah gas rumah kaca, hal ini mengakibatkan pemanasan lebih lanjut dan dengan demikian merupakan \"umpan balik positif\" yang memperkuat pemanasan awal.',\n",
       " 'hfcs (hidrofluorokarbon) memiliki potensi pemanasan global yang jauh lebih tinggi daripada karbon dioksida, yaitu puluhan ribu kali lipat.. evidence: polusi industri seperti hidrofluorokarbon (hfcs) dan perfluorokarbon (pfcs) memiliki gwp (global warming potential) yang ribuan kali lebih besar daripada karbon dioksida berdasarkan volume.',\n",
       " 'kenaikan permukaan laut tampaknya tidak bergantung pada suhu laut, dan tentu saja tidak pada co2.. evidence: panaskan yang dibutuhkan untuk meningkatkan kenaikan suhu rata-rata seluruh samudra dunia sebesar 0,01\\xa0°c akan meningkatkan suhu atmosfer sekitar 10 °c.',\n",
       " 'hilangnya es laut arktik diimbangi oleh penambahan es laut antartika.. evidence: keruntuhan rak es antartika dipicu oleh hilangnya es laut dan gelombang laut.\"',\n",
       " 'jika suhu air tetap moderat, bagian-bagian terumbu karang great barrier reef yang rusak mungkin akan tertutup karang lagi dalam waktu sesingkat 10 atau 15 tahun.. evidence: permukaan laut di great barrier reef tidak mengalami perubahan signifikan dalam 6.000 tahun terakhir.',\n",
       " 'investasi energi terbarukan mematikan lapangan kerja.. evidence: pada tahun 2005, perusahaan ini mendirikan bisnis energi alternatif dan rendah karbon, dengan rencana untuk menginvestasikan $8 miliar selama periode 10 tahun ke sumber energi terbarukan termasuk surya, angin, dan biofuel, serta sumber energi non-terbarukan termasuk gas alam dan tenaga hidrogen.',\n",
       " 'amerika serikat juga telah menyaksikan peningkatan jumlah peristiwa hujan lebat.. evidence: lee county dilanda angin kencang dan hujan deras yang menyebabkan banjir berkepanjangan di beberapa wilayah.',\n",
       " 'angka yang secara tradisional dikutip yang menunjukkan bahwa 97 persen ilmuwan iklim setuju bahwa pemanasan global disebabkan oleh manusia juga ditemukan cacat.. evidence: beberapa peneliti telah menyimpulkan bahwa sekitar 97% ilmuwan iklim sepakat dengan konsensus ini.',\n",
       " 'dalam sebuah surat kepada the times dari lord krebs dan perusahaannya, yang pada dasarnya meminta surat kabar tersebut untuk berhenti melaporkan cerita-cerita iklim yang kurang bernada negatif.. evidence: selama krisis nuklir iran, surat kabar tersebut meminimalkan \"proses negatif\" amerika serikat sementara secara berlebihan menekankan proses serupa dari iran.',\n",
       " 'lebih dari 100 model iklim selama 30 tahun terakhir tidak memprediksi apa yang sebenarnya terjadi karena diasumsikan bahwa karbon dioksida memiliki peran utama dalam mendorong perubahan iklim dan bahwa efek awan, radiasi balik, dan matahari adalah sepele.. evidence: model komputer dijalankan pada superkomputer untuk mereproduksi dan memprediksi sirkulasi lautan, siklus tahunan, dan aliran karbon diantara permukaan daratan dan lapisan atmosfer',\n",
       " 'di sisi lain, la niña dicirikan oleh suhu air di pasifik yang lebih dingin dari rata-rata.. evidence: kalor laten (panas laten) pada suhu permukaan laut yang hangat (selama penguapan, laut mendingin dan udara menghangat).',\n",
       " 'sebuah makalah oleh ross mckitrick, profesor ekonomi di universitas guelph, dan patrick michaels, profesor studi lingkungan di universitas virginia, menyimpulkan bahwa setengah dari tren pemanasan global dari tahun 1980 hingga 2002 disebabkan oleh pulau panas perkotaan.. evidence: misalnya, ross mckitrick dan patrick j. michaels melakukan studi statistik pada suhu permukaan yang diregresikan dengan indikaotr sosioekonomi, dan menyimpulkan bahwa sekitar setengah dari tren pemanasan yang telah diamati (pada periode 1979-2002) dapat dijelaskan dari efek residual uhi dalam kumpulan data suhu yang telah dikoreksi yang mereka pelajari-dimana sudah diproses sebelumnya untuk menghilangkan kontribusi uhi yang dimodelkan ',\n",
       " 'hal ini terjadi selama tahun terpanas yang tercatat, yang terjadi pada tahun 2015, dan dua bulan terhangat yang tidak biasa di bumi, yang terjadi pada bulan januari dan februari, masing-masing.. evidence: april 2007 juga merupakan bulan terpanas dalam sejarah, dengan suhu rata-rata 5 °c lebih hangat dari biasanya.',\n",
       " 'para ilmuwan mengatakan bahwa skenario pemanasan global terburuk mungkin perlu direvisi ke atas mengingat pemahaman yang lebih baik tentang peran awan.. evidence: dengan informasi ini, para ilmuwan dapat membuat skenario tentang bagaimana emisi gas rumah kaca dapat bervariasi di masa depan.',\n",
       " 'namun, [ilmuwan iklim] mengatakan bahwa aspek dari kasus badai harvey—dan sejarah siklon tropis baru-baru ini di seluruh dunia—menunjukkan pemanasan global membuat situasi yang buruk menjadi lebih buruk.. evidence: pemanasan global tidak hanya menyebabkan perubahan pada siklon tropis, tetapi juga dapat memperburuk beberapa dampaknya melalui kenaikan permukaan air laut.',\n",
       " 'sembilan tahun dalam kekeringan badai selama 11 tahun, seorang ilmuwan nasa menghitungnya sebagai peristiwa 1 dalam 177 tahun.. evidence: kekeringan adalah keadaan kering yang tidak biasa pada tanah yang disebabkan oleh tingkat curah hujan yang jauh di bawah rata-rata selama periode waktu yang lama.',\n",
       " 'banyak bukti, termasuk akuntansi sederhana, menunjukkan tanpa keraguan bahwa peningkatan co2 atmosfer disebabkan oleh pembakaran bahan bakar fosil manusia.. evidence: meskipun penyerapan dan pelepasan co2 selalu terjadi akibat proses alamiah, peningkatan kadar co2 di atmosfer belakangan ini diketahui terutama disebabkan oleh aktivitas manusia (antropogenik).',\n",
       " 'hari dingin di chicago saat musim dingin tidak ada hubungannya dengan tren pemanasan global.. evidence: prediksi tersebut menyatakan bahwa dengan kondisi saat ini, planet ini akan menghangat hingga 7 derajat fahrenheit (atau sekitar 3,9 derajat celcius) yang mengerikan pada akhir abad ini.',\n",
       " 'salah satu gletser yang sebelumnya mencair paling cepat di dunia kini tumbuh kembali, mempertanyakan narasi bahwa perubahan iklim yang cepat [...]. evidence: holstein, james a.',\n",
       " 'jika ecs (equilibrium climate sensitivity) serendah yang disarankan oleh literatur neraca energi, itu berarti model iklim yang telah kita gunakan selama beberapa dekade berjalan terlalu panas dan perlu direvisi.. evidence: pada tahun 1896, ia menerbitkan model iklim pertama dalam jenisnya, menunjukkan bahwa pengurangan co2 menjadi setengahnya dapat menghasilkan penurunan suhu yang memulai zaman es.',\n",
       " \"kebakaran hutan [di australia] disebabkan oleh pembakaran dan serangkaian sambaran petir, bukan 'perubahan iklim'.. evidence: kebakaran hutan pulau kanguru tahun 2007 adalah serangkaian kebakaran hutan yang disebabkan oleh sambaran petir pada tanggal 6 desember 2007 di pulau kanguru, australia selatan, yang mengakibatkan kerusakan 95.000 hektar (230.000 hektar) taman nasional dan area perlindungan alam liar.\",\n",
       " 'sirkuit arus laut global tampaknya sedang runtuh akibat pemanasan global. evidence: aliran air tawar tambahan yang masuk ke atlantik utara selama siklus pemanasan juga dapat mengurangi sirkulasi air laut global.',\n",
       " 'tidak ada bukti statistik yang menunjukkan bahwa pemanasan global memperburuk banjir.. evidence: namun, lebih tepatnya, pemanasan global adalah peningkatan suhu permukaan global yang disebabkan oleh manusia dan kelanjutannya yang diproyeksikan, sedangkan perubahan iklim mencakup pemanasan global dan efeknya, seperti perubahan curah hujan.',\n",
       " 'sebelas persen dari populasi dunia saat ini rentan terhadap dampak perubahan iklim seperti kekeringan, banjir, gelombang panas, peristiwa cuaca ekstrem, dan kenaikan permukaan laut.. evidence: damak yang ditimbulkan meliputi efek langsung dari cuaca ekstrem, yang mengakibatkan cedera dan hilangnya nyawa; serta efek tidak langsung, seperti kekurangan gizi yang disebabkan oleh gagal panen.',\n",
       " 'sejarah pemanasan global sepenuhnya bertepatan dengan sejarah satelit buatan dan penggunaan frekuensi gelombang mikro dari luar angkasa.. evidence: seiring waktu, sistem satelit buatan yang besar ditempatkan dalam orbit mengelilingi bumi.',\n",
       " 'mauna loa telah menghasilkan data yang mendukung tujuan manning yang telah ditentukan dengan menunjukkan pertumbuhan yang stabil dalam konsentrasi co2 atmosfer sejak tahun 1959.. evidence: sejak tahun 1958, awalnya di bawah arahan charles keeling, kemudian dilanjutkan oleh putranya ralph dan kemudian elmer robinson, observatorium mauna loa (mlo) telah memantau dan mengumpulkan data yang berhubungan dengan perubahan atmosfer, dan dikenal khususnya untuk pemantauan berkelanjutan karbon dioksida (co2) atmosfer, yang terkadang disebut sebagai kurva keeling.',\n",
       " 'gunung berapi mengeluarkan sekitar 0,3 miliar ton co2 per tahun.. evidence: gunung berapi tersebut menghasilkan sekitar 400.000 ± 100.000 ton per tahun (400.000 ± 100.000 t/a) co2, yang merupakan sekitar 0,2–0,6% dari total fluks co2 global di gunung berapi daratan.',\n",
       " 'pengukuran lautan terbaru menunjukkan pemanasan yang konsisten.. evidence: laporan penilaian keempat ipcc menyatakan bahwa: pemanasan sistem iklim tidak dapat disangkal, seperti yang dibuktikan oleh peningkatan suhu udara dan laut rata-rata global, pencairan salju dan es yang meluas, dan naiknya permukaan laut rata-rata global.',\n",
       " 'rencana besar tenaga surya di atap memaksa keluarga di nevada yang tidak memiliki panel surya untuk membayar tagihan listrik yang lebih tinggi untuk mensubsidi tenaga surya atap.. evidence: rumah tangga dengan jumlah panel surya lebih sedikit kemungkinan akan melihat tarif mereka naik di bawah proposal ini.',\n",
       " 'pada tanggal 7 februari, beberapa surat kabar besar memuat berita tentang deklarasi nasa dan noaa bahwa lima tahun terakhir merupakan yang terpanas dalam catatan sejarah.. evidence: sesuai dengan komentar schmidt, pengumuman nasa/noaa menyatakan bahwa \"suhu rata-rata global pada tahun 2016 adalah 1,78 derajat fahrenheit (0,99 derajat celcius) lebih hangat daripada rata-rata pertengahan abad ke-20\" dan bahwa dampak pemanasan el niño diperkirakan telah \"meningkatkan anomali suhu global tahunan untuk tahun 2016 sebesar 0,2 derajat fahrenheit (0,12 derajat celcius).\"',\n",
       " 'brooks menambahkan bahwa es antartika sedang bertambah.. evidence: pengukuran satelit nasa menunjukkan bahwa ketebalan lapisan es di atas benua masih terus meningkat, melebihi hilangnya es di tepinya.',\n",
       " 'tampaknya, untuk seluruh wilayah tropis, fluks radiasi keluar yang diamati meningkat seiring dengan peningkatan suhu permukaan laut (sst).. evidence: di daerah tropis dan subtropis, suhu permukaan laut (sst) meningkat 0,2 °c (0,36 °f) dalam kurun waktu 50 tahun, dan di cekungan siklon tropis atlantik utara dan pasifik barat laut, potensi kerusakan dan energi badai hampir dua kali lipat dalam durasi yang sama, membuktikan korelasi yang jelas antara pemanasan global dan intensitas siklon tropis.',\n",
       " 'lebih dari 7% kematian terkait dengan cuaca dingin—termasuk hipotermia, serta peningkatan tekanan darah dan risiko serangan jantung yang terjadi ketika tubuh membatasi aliran darah sebagai respons terhadap suhu dingin.. evidence: tekanan darah tinggi diperkirakan menjadi penyebab sekitar 13% kematian akibat penyakit jantung dan pembuluh darah, sementara tembakau 9%, diabetes 6%, kurang olahraga 6%, dan obesitas 5%.',\n",
       " 'austria hari ini mengalami hujan salju tercepat dalam sejarah, dengan prediksi salju setinggi 30 hingga 40 sentimeter di pegunungan.. evidence: hukum netralitas ini, yang disahkan pada akhir oktober 1955 (bukan perjanjian negara itu sendiri), memastikan bahwa austria modern tidak akan berpihak pada nato maupun blok soviet, dan dianggap sebagai salah satu alasan mengapa austria terlambat bergabung dengan uni eropa pada tahun 1995.',\n",
       " 'dalam 35 tahun terakhir pemanasan global, matahari dan iklim telah bergerak ke arah yang berlawanan.. evidence: perubahan iklim dapat terjadi dalam jangka waktu lama dan pendek akibat berbagai faktor; pemanasan global baru-baru ini dibahas dalam pemanasan global.',\n",
       " 'model-model tersebut memprediksi sekitar tiga kali lipat jumlah pemanasan global yang telah kita lihat sejak [1988].. evidence: saat ini, suhu permukaan bumi meningkat sekitar 0,2 °c per dekade.',\n",
       " 'sementara wilayah timur laut, tengah barat, dan dataran tinggi utara mengalami peningkatan 30% dalam episode hujan lebat – yang dianggap sebagai hujan lebat yang terjadi sekali dalam lima tahun – sebagian wilayah barat, khususnya california, telah dilanda kekeringan.. evidence: kekeringan jauh lebih umum di barat daripada di bagian amerika serikat lainnya.',\n",
       " 'laporan tersebut menunjukkan bahwa total kehilangan massa es secara keseluruhan jauh lebih kecil dibandingkan perkiraan sebelumnya.. evidence: seperti halnya gletser di seluruh dunia, gletser di wilayah himalaya yang lebih luas sedang mengalami penurunan massa, dan para peneliti menyatakan bahwa antara awal tahun 1970-an dan awal tahun 2000-an, telah terjadi pengurangan massa es sebesar 9%.',\n",
       " 'argumen ini berasal dari karya angstrom pada tahun 1901.. evidence: karya klasik ini awalnya diterbitkan dalam bahasa prancis pada tahun 1958.',\n",
       " 'kenaikan suhu di paruh kedua abad ke-20 mungkin telah terjadi dalam langkah-langkah yang didorong oleh peristiwa enso yang besar (jens raunsø jensen). evidence: suhu rata-rata global di bumi telah meningkat sekitar 0,8° celsius (1,4° fahrenheit) sejak tahun 1880; dua pertiga dari pemanasan terjadi sejak tahun 1975, dengan laju sekitar 0,15-0,20 °c per dekade.',\n",
       " 'periode kering semakin kering dan periode basah semakin basah,\" kata jeffrey mount, ahli air dan rekan senior di institut kebijakan publik california.. evidence: di beberapa area dengan iklim yang lebih kering, wilayah tersebut menjadi semi-gurun sejati dengan tanah yang tidak sepenuhnya tertutup oleh vegetasi: \"terbuka\" berlawanan dengan vegetasi \"tertutup\".',\n",
       " 'pemanasan global menyebabkan lebih banyak badai dan badai yang lebih kuat.. evidence: laporan mereka juga menyatakan bahwa akibat dari pemanasan global, jumlah badai di masa depan akan \"berkurang atau intinya tidak berubah\" secara keseluruhan, tetapi badai yang terbentuk kemungkinan akan lebih kuat, dengan angin yang lebih kencang dan hujan yang lebih lebat.',\n",
       " 'karbon yang dihasilkan manusia mungkin salah satu faktor perubahan iklim, tetapi tidak ada bukti bahwa itu merupakan faktor yang signifikan.. evidence: tujuh puluh lima dari 77 orang percaya bahwa aktivitas manusia adalah faktor signifikan dalam perubahan suhu rata-rata global.',\n",
       " 'tempat berlindung di negara-negara miskin tidak dicat ulang sesering mungkin, dan stasiun yang lebih gelap menyerap lebih banyak energi matahari.. evidence: kondisi akut seperti sengatan matahari, dehidrasi, sengatan panas, dan reaksi alergi juga umum terjadi.',\n",
       " 'zaman es kecil berakhir baru-baru ini, yaitu pada tahun 1850.. evidence: zaman es kecil berakhir pada paruh kedua abad ke-19 atau awal abad ke-20.',\n",
       " 'peningkatan karbon dioksida di atmosfer telah membantu meningkatkan produksi pangan global dan mengurangi kemiskinan.. evidence: dampak negatif lingkungan yang berpotensi disebabkan oleh peningkatan konsentrasi karbondioksida atmosfer adalah meningkatnya suhu udara global, perubahan siklus hidrogeologi yang mengakibatkan kekeringan, badai, dan banjir yang lebih sering dan parah, serta naiknya permukaan laut dan gangguan ekosistem.',\n",
       " 'lembar es greenland berusia setidaknya 400.000 tahun dan pemanasan global tidak terjadi ketika orang eropa menetap di greenland 1.000 tahun yang lalu.. evidence: dampak pemanasan global di arktik, atau perubahan iklim di arktik, meliputi peningkatan suhu udara dan air, hilangnya es laut, dan mencairnya lapisan es greenland dengan anomali suhu dingin yang terkait, yang diamati sejak tahun 1970-an.',\n",
       " 'laporan ipcc terbaru (ar5) menunjukkan bahwa perkiraan suhu rata-rata global dari laporan ipcc tahun 2005 melebihi pembacaan aktual.. evidence: dibandingkan dengan laporan sebelumnya, batas bawah untuk sensitivitas sistem iklim terhadap emisi sedikit diturunkan, meskipun proyeksi untuk kenaikan suhu rata-rata global (dibandingkan dengan tingkat pra-industri) pada tahun 2100 melebihi 1,5\\xa0°c di semua skenario.',\n",
       " 'data tersebut dilaporkan oleh pusat penelitian iklim arktik universitas illinois, dan diperoleh dari pengamatan satelit di wilayah kutub utara dan selatan (daily tech).. evidence: estimasi ir memiliki tingkat keakuratan yang relatif rendah pada skala waktu dan ruang yang pendek, tetapi tersedia dengan sangat sering (15 menit atau lebih sering) dari satelit di orbit geosinkron bumi.',\n",
       " 'perburukan banjir pasang surut di komunitas pesisir amerika sebagian besar merupakan konsekuensi dari gas rumah kaca akibat aktivitas manusia, dan masalah ini akan jauh lebih buruk dalam beberapa dekade mendatang, menurut laporan para ilmuwan pada hari senin.. evidence: ide utama dalam laporan tersebut, menurut salah satu penulisnya, michael oppenheimer, adalah bahwa jika manusia secara drastis mengurangi emisi gas rumah kaca dalam beberapa dekade mendatang, masalahnya akan sulit tetapi dapat ditangani.',\n",
       " 'tingkat permukaan laut pada saat itu 20 hingga 30 kaki lebih tinggi daripada saat ini, yang menunjukkan bahwa lapisan es di greenland dan antartika harus sebagian hancur, sebuah peringatan tentang apa yang dapat terjadi di masa depan yang relatif dekat jika pemanasan planet terus berlanjut tanpa terkendali.. evidence: pada tahun 2018, para ilmuwan menyimpulkan bahwa permukaan laut yang tinggi sekitar 125.000 tahun yang lalu, yang lebih tinggi 6–9 m (20–30 kaki) dibandingkan saat ini, kemungkinan besar disebabkan oleh tidak adanya wais, dan menemukan bukti bahwa lapisan es runtuh di bawah kondisi iklim yang mirip dengan kondisi saat ini.',\n",
       " 'dan ada banyak bukti bahwa perubahan iklim mengurangi keanekaragaman hayati, yang juga dapat dilihat di padang rumput alpine ini.. evidence: peningkatan suhu dapat memungkinkan herbivora untuk meluas lebih jauh ke wilayah alpine, yang berdampak signifikan pada komposisi padang rumput alpine.',\n",
       " 'proyeksi maju dari siklus matahari menunjukkan bahwa beberapa dekade mendatang dapat ditandai dengan pendinginan global daripada pemanasan, meskipun emisi co2 terus berlanjut.. evidence: ketika model tersebut memasukkan perubahan estimasi intensitas matahari, model tersebut menghasilkan kecocokan yang masuk akal dengan suhu selama seribu tahun terakhir dan prediksinya adalah \"pemanasan co2 mendominasi pola suhu permukaan segera setelah tahun 1980.\"',\n",
       " 'cuaca dan iklim berbeda; prediksi iklim tidak memerlukan detail cuaca.. evidence: perubahan iklim jangka panjang yang terdokumentasikan meliputi perubahan suhu dan es di arktik, perubahan luas dalam jumlah curah hujan, salinitas laut, pola angin, dan cuaca ekstrem termasuk kekeringan, curah hujan lebat, gelombang panas, dan intensitas siklon tropis.',\n",
       " 'dunia menghadapi masa depan mengerikan dengan kekurangan pangan yang semakin parah, kebakaran hutan yang meluas, dan kematian massal terumbu karang, semua ini diperkirakan akan terjadi secepatnya pada tahun 2040. . evidence: pertempuran untuk terumbu karang - empat sudut - abc.au - ilmuwan terumbu karang besar mengkonfirmasi kepunahan terbesar karang yang tercatat.',\n",
       " 'sekitar 60% dari pemanasan yang teramati dari tahun 1970 hingga 2000 sangat mungkin disebabkan oleh siklus iklim alami 60 tahun ini selama fase pemanasannya.... evidence: dalam literatur ilmiah, terdapat konsensus yang kuat bahwa suhu permukaan global telah meningkat dalam beberapa dekade terakhir dan bahwa tren tersebut terutama disebabkan oleh emisi gas rumah kaca yang diinduksi manusia.',\n",
       " 'bagian-bagian bumi kemungkinan akan menjadi hampir tidak dapat dihuni.. evidence: matahari yang mengembang diperkirakan akan menguapkan merkurius dan membuat bumi tidak dapat dihuni.',\n",
       " 'perbandingan dengan data terbaru secara konsisten menunjukkan bahwa perubahan iklim terjadi lebih cepat dan lebih intens daripada yang ditunjukkan oleh prediksi ipcc.. evidence: pernyataan tersebut merujuk pada penilaian keempat ipcc tahun 2007, dan menegaskan bahwa \"perubahan iklim terjadi lebih cepat dari perkiraan sebelumnya; emisi co2 global sejak tahun 2000 telah lebih tinggi daripada prediksi tertinggi sekalipun, es laut arktik telah mencair dengan kecepatan jauh lebih cepat dari yang diprediksi, dan kenaikan permukaan laut telah menjadi lebih cepat\".',\n",
       " 'jumlah energi panas yang keluar dari bumi sangat kecil sehingga tidak perlu dipertimbangkan.. evidence: energi panas bumi dianggap terbarukan karena setiap perkiraan ekstraksi panas kecil dibandingkan dengan kandungan panas bumi.',\n",
       " 'para legislator california telah membuat undang-undang yang melarang siapa pun menyangkal perubahan iklim, dengan ancaman hukuman penjara.\\n\\n\\n\\n\\n\\n. evidence: jika pemerintah dipersenjatai dengan undang-undang yang tepat dan ancaman hukuman penjara jangka panjang, warga sipil tidak akan merasa perlu untuk bertindak.',\n",
       " 'perdebatan terkini tentang hubungan antara emisi co2 dan perubahan iklim sebagian besar mengabaikan masalah independen dan sama seriusnya, yaitu meningkatnya keasaman lautan kita.. evidence: ini akan menyebabkan peningkatan alkalinitas laut, yang mengarah pada peningkatan kemampuan laut sebagai reservoir untuk co2 dengan implikasi terhadap perubahan iklim karena lebih banyak co2 meninggalkan atmosfer menuju laut.',\n",
       " 'mengingat bahwa penggandaan karbon dioksida hanya akan mengubah fluks panas permukaan sebesar dua watt per meter persegi, jelas bahwa perubahan kecil pada tutupan awan dapat sangat memengaruhi respons terhadap karbon dioksida.. evidence: umpan balik penguatan utama adalah umpan balik uap air, umpan balik es-albedo, dan kemungkinan efek bersih dari awan.',\n",
       " 'perubahan [penutup awan] di wilayah tropis dapat menyebabkan umpan balik negatif dalam iklim global, dengan faktor umpan balik sekitar –1.1, yang jika benar, akan lebih dari cukup untuk membatalkan semua umpan balik positif dalam model iklim saat ini yang lebih sensitif.. evidence: dampak dari efek umpan balik negatif ini termasuk dalam model iklim global yang diringkas oleh ipcc.',\n",
       " 'saya perhatikan khususnya bahwa kenaikan permukaan laut tidak dipengaruhi oleh pemanasan; hal itu berlanjut pada tingkat yang sama, 1,8 milimeter per tahun, menurut tinjauan tahun 1990 oleh andrew s. trupin dan john wahr.. evidence: kenaikan permukaan laut akibat antartika diperkirakan mencapai 0,25 mm per tahun dari 1993–2005, dan 0,42 mm per tahun dari 2005 hingga 2015.',\n",
       " 'mereka sekarang dapat memodelkan seberapa besar kemungkinan suatu peristiwa tertentu akan terjadi dalam kondisi historis, dibandingkan dengan suhu rekor yang kita alami.. evidence: none',\n",
       " 'laporan ipcc juga tidak sepenuhnya memperhitungkan efek albedo (kurang es berarti kurang cahaya matahari yang dipantulkan dan lebih banyak yang diserap, sehingga lebih banyak pemanasan); lebih banyak tutupan awan (yang memerangkap panas); atau kematian hutan dan flora lainnya (yang mengekstraksi karbon dari atmosfer).. evidence: jika tutupan awan meningkat, lebih banyak sinar matahari akan dipantulkan kembali ke angkasa, mendinginkan planet ini.',\n",
       " 'atmosfer bumi kurang mampu menyerap radiasi gelombang pendek dari matahari dibandingkan dengan radiasi termal yang berasal dari permukaan.. evidence: sinar matahari yang mengenai permukaan bumi dilemahkan oleh atmosfer bumi, sehingga daya yang mencapai permukaan bumi lebih sedikit (dekat 1.000 w/m2) dalam kondisi cerah ketika matahari berada di dekat titik zenit.',\n",
       " 'masa lalu menunjukkan bahwa perubahan iklim adalah hal yang normal, bahwa masa-masa yang lebih hangat dan lebih banyak karbon dioksida di atmosfer telah mendorong keanekaragaman hayati dan bahwa masa-masa dingin membunuh.. evidence: peningkatan karbon dioksida di atmosfer tentu saja memengaruhi morfologi tumbuhan dan mengasamkan lautan, dan suhu memengaruhi rentang spesies, fenologi, dan cuaca, tetapi, syukurlah, dampak utama yang telah diprediksi masih merupakan potensi di masa depan.',\n",
       " 'dalam sebuah wawancara dengan bbc setelah skandal itu terungkap, dr. jones mengakui bahwa tidak ada pemanasan global yang signifikan secara statistik sejak tahun 1995.. evidence: faktanya adalah kita tidak dapat menjelaskan kurangnya pemanasan saat ini dan sangat disayangkan bahwa kita tidak bisa.',\n",
       " 'kehilangan hutan hujan tropis bukanlah sesuatu yang lebih murah daripada membangun ladang angin di as atau sahara.\". evidence: sebuah proposal ambisius untuk china adalah sistem reforestasi dan pengendalian erosi yang dikirimkan lewat udara dan proyek sahara forest yang diusulkan yang digabungkan dengan rumah kaca air laut.',\n",
       " 'di bawah lapisan permafrost terdapat sedimen yang penuh dengan hidrat metana.. evidence: (2008) memperkirakan bahwa tidak kurang dari 1.400 gigaton karbon saat ini terkunci sebagai metana dan hidrat metana di bawah permafrost bawah laut arktik, dan 5–10% dari area tersebut rentan terhadap penusukan oleh taliks terbuka.',\n",
       " 'peningkatan co2 adalah hal yang alami, bukan disebabkan oleh manusia.. evidence: aktivitas manusia telah menyebabkan peningkatan co2 di atas level yang tidak pernah terlihat dalam ratusan ribu tahun.',\n",
       " 'emisi karbon dioksida kita yang tidak berbahaya dan dalam jumlah kecil tidak mungkin mengasamkan lautan.. evidence: karbon dioksida juga menyebabkan pengasaman laut karena larut dalam air untuk membentuk asam karbonat.',\n",
       " 'sebuah studi baru oleh ekonom iklim terkemuka, richard tol dari university of sussex, menyimpulkan bahwa pemanasan global mungkin membawa keuntungan karena karbon dioksida menyebabkan tanaman dan ekosistem liar tumbuh lebih hijau dan lebih tahan kekeringan.. evidence: pada tahun 2009, tol menerbitkan sebuah makalah yang berpengaruh yang menggabungkan data dari beberapa studi sebelumnya, menyimpulkan bahwa setidaknya sejumlah pemanasan global dapat menyebabkan keuntungan ekonomi.',\n",
       " 'para ahli geologi mengatakan bahwa manusia saat ini memompa gas ke udara jauh lebih cepat daripada yang pernah dilakukan alam sebelumnya.. evidence: co2 diproduksi oleh semua organisme aerob saat mereka memetabolisme karbohidrat dan lipid untuk menghasilkan energi melalui respirasi.',\n",
       " 'suhu di bawah es tetap pada -2°c. oleh karena itu, suhu udara musim dingin yang lebih tinggi. evidence: fenomena ini biasanya terjadi ketika lapisan udara hangat berada di atas suatu wilayah, tetapi suhu udara sekitar beberapa meter di atas tanah mendekati atau di bawah 0 °c (32 °f), dan suhu tanah di bawah titik beku.',\n",
       " 'jerman berhasil meningkatkan penggunaan energi terbarukan dan emisi karbon dioksidanya secara bersamaan - karena mereka mengandalkan batubara murah untuk menjaga pasokan listrik dengan harga yang terjangkau bagi rakyatnya.. evidence: secara khusus, penggunaan energi terbarukan untuk produksi bahan bakar dari co2 (seperti metanol) sangat menarik karena ini dapat menghasilkan bahan bakar yang mudah diangkut dan digunakan dalam teknologi pembakaran konvensional tetapi tidak memiliki emisi co2 neto.',\n",
       " 'yang berarti kacang-kacangan ini akan dimakan oleh sapi, dan sapi akan mengubah kacang menjadi daging, dan manusia akan memakan dagingnya.. evidence: karivora membutuhkan daging dalam makanan mereka untuk bertahan hidup, tetapi carnists memilih untuk memakan daging berdasarkan keyakinan mereka.',\n",
       " 'namun, biaya untuk melakukan sesuatu kemungkinan akan lebih tinggi dari 6 persen produk domestik bruto (pdb).. evidence: dia berpendapat bahwa \"...\\xa0biaya dan manfaat dari langkah-langkah yang diajukan untuk melawan pemanasan global.\"',\n",
       " 'meskipun bukti bahwa variasi orbit bumi memengaruhi tingkat radiasi dan dengan demikian suhu global tidak berarti bahwa manusia tidak memengaruhi iklim dalam beberapa hal, penelitian seperti ini menyoroti bahwa peran manusia di planet ini sangat kecil dibandingkan dengan fenomena alam yang sama sekali di luar kendali kita.. evidence: ada banyak penelitian paleoklimat yang menarik yang menunjukkan bahwa variabilitas matahari memiliki pengaruh pada iklim pra-industri.',\n",
       " 'suhu global masih terus meningkat dan tahun 2010 tercatat sebagai tahun terpanas.. evidence: antara tahun 1993 dan 2017, rata-rata permukaan laut global meningkat sebesar 3,1 ± 0,3 mm per tahun, dengan percepatan yang juga terdeteksi.',\n",
       " 'gletser mencair hampir di seluruh dunia, termasuk di pegunungan alpen, himalaya, andes, rocky, alaska, dan afrika.. evidence: penurunan gletser pegunungan, terutama di amerika utara bagian barat, asia, pegunungan alpen, dan wilayah tropis dan subtropis di amerika selatan, afrika, dan indonesia, memberikan bukti kenaikan suhu global sejak akhir abad ke-19.',\n",
       " 'penurunan sementara permukaan air laut pada tahun 2010 disebabkan oleh banjir darat yang intens akibat la nina yang kuat.. evidence: sirkulasi walker yang sangat kuat menyebabkan la niña, yang mengakibatkan suhu permukaan laut yang lebih dingin karena peningkatan upwelling.',\n",
       " 'spesies yang memiliki plastisitas tinggi cenderung menjadi generalis.. evidence: plastisitas fenotipik, tahapan siklus hidup ganda\\n',\n",
       " 'tren jangka panjang dari albedo adalah pendinginan.. evidence: pemaksaan orbital dari siklus dalam orbit bumi mengelilingi matahari, selama 2.000 tahun terakhir, telah menyebabkan tren pendinginan jangka panjang di belahan bumi utara yang berlanjut melalui abad pertengahan dan zaman es kecil.',\n",
       " 'pada tahun 1990, panel antarpemerintah tentang perubahan iklim (ipcc) pbb memprediksi bahwa suhu akan meningkat sebesar 0,54f (0,3c) per dekade.. evidence: model-model yang dirujuk oleh panel antarpemerintah tentang perubahan iklim (ipcc) memprediksi bahwa suhu global kemungkinan akan meningkat sebesar 1,1 hingga 6,4 °c (2,0 hingga 11,5 °f) antara tahun 1990 dan 2100.',\n",
       " 'benny peiser melakukan pencarian literatur yang ditinjau sejawat pada basis data isi web of science antara tahun 1993 dan 2003.. evidence: diluncurkan dalam versi beta pada november 2004, indeks google scholar mencakup sebagian besar jurnal akademik daring yang ditinjau sejawat, buku, makalah konferensi, tesis dan disertasi, pracetakan, abstrak, laporan teknis, dan literatur ilmiah lainnya, termasuk opini pengadilan dan paten.',\n",
       " 'jadi sekarang jelas bahwa kita tidak mengalami pemanasan global yang berbahaya, dan model iklimnya salah.. evidence: titik puncak adalah \"mungkin aspek paling \\'berbahaya\\' dari perubahan iklim di masa depan\", yang menyebabkan dampak yang tidak dapat diubah pada masyarakat.',\n",
       " 'solusi iklim alami seperti menghentikan deforestasi dan memulihkan hutan yang rusak dapat, di tingkat global, menciptakan 80 juta lapangan kerja, mengangkat 1 miliar orang dari kemiskinan, dan meningkatkan pertumbuhan produktif sebesar us$ 2,3 triliun.. evidence: secara global, diperkirakan terdapat 3 juta pekerjaan langsung di industri energi terbarukan, dengan sekitar separuh dari jumlah tersebut berada di industri biofuel.',\n",
       " 'itu gagal menjelaskan bagaimana kita bisa memiliki umpan balik positif jangka pendek dan umpan balik negatif jangka panjang.. evidence: hal ini memberikan umpan balik segera dan bertindak sebagai penguatan positif untuk perilaku seorang prajurit.',\n",
       " 'meskipun mencegah pemanasan global relatif murah, para ekonom bahkan tidak dapat memperkirakan secara akurat biaya kerusakan iklim yang meningkat jika kita terus menjalankan bisnis seperti biasa.. evidence: pakar ekonom memiliki pandangan berbeda terhadap estimasi biaya mitigasi perubahan iklim terhadap tinjauan tersebut.',\n",
       " 'kenaikan permukaan air laut, yang terjadi jauh sebelum manusia dapat disalahkan, tidak mengalami percepatan dan masih hanya mencapai 1 inci setiap sepuluh tahun.. evidence: sebuah studi tinjauan sistematis tahun 2018 memperkirakan bahwa hilangnya es di seluruh benua mencapai rata-rata 43 gigaton (gt) per tahun selama periode 1992 hingga 2002, tetapi telah meningkat pesat menjadi rata-rata 220 gt per tahun selama lima tahun dari 2012 hingga 2017.',\n",
       " 'pertama, mereka sependapat dengan para penganut bahwa bumi telah menghangat sejak akhir zaman es kecil sekitar tahun 1850.. evidence: zaman es adalah periode panjang penurunan suhu permukaan bumi dan atmosfer, yang mengakibatkan munculnya atau meluasnya lapisan es benua dan kutub serta gletser pegunungan.',\n",
       " 'penelitian terbaru juga menunjukkan bahwa jumlah bahan bakar fosil yang tertinggal di atmosfer jauh lebih sedikit dari yang diperkirakan sebelumnya.. evidence: proyeksi menunjukkan bahwa lebih dari 80% energi dunia akan berasal dari bahan bakar fosil.',\n",
       " 'namun, lonjakan suhu yang tidak normal pada bulan februari dan awal bulan ini telah membuatnya rentan terhadap angin, yang telah mendorong es menjauh dari pantai lebih jauh daripada kapan pun sejak catatan satelit dimulai pada tahun 1970-an.\". evidence: suhu udara yang lebih rendah -94,7 °c (-138,5 °f) tercatat pada tahun 2010 oleh satelit, namun, suhu ini mungkin dipengaruhi oleh suhu tanah dan tidak tercatat pada ketinggian 7 kaki (2 m) di atas permukaan seperti yang dipersyaratkan untuk catatan suhu udara resmi.',\n",
       " 'para ilmuwan iklim menggunakan rata-rata abad ke-20 sebagai tolak ukur untuk pengukuran suhu global.. evidence: ipcc telah mengadopsi periode referensi dasar 1850–1900 sebagai perkiraan suhu permukaan global rata-rata pra-industri.',\n",
       " 'khawatirlah tentang dampak pemanasan global dalam 100 tahun ke depan, bukan zaman es yang telah berlalu selama lebih dari 10.000 tahun.. evidence: emisi gas rumah kaca antropogenik global pada tahun 2010 setara dengan 49 miliar ton karbon dioksida (menggunakan potensi pemanasan global terbaru selama 100 tahun dari laporan ar5).',\n",
       " 'mei 2018 menandai bulan ke-401 berturut-turut suhu global melebihi rata-rata abad ke-20.. evidence: gelombang dingin eropa 1956 - februari 1956 menjadi bulan terdingin pada abad ke-20 di wilayah luas eropa barat, dengan suhu rata-rata di bawah 0 °c (32 °f) hingga selatan marseilles, yang sama sekali belum pernah terjadi sebelumnya dalam catatan yang tercatat hingga abad ke-18.',\n",
       " 'angin adalah sumber daya yang terbatas, dan memanfaatkannya akan memperlambat angin, yang akan menyebabkan suhu naik.. evidence: angin barat dapat sangat kuat, terutama di belahan bumi selatan, di mana ada sedikit daratan di lintang tengah untuk memperkuat pola aliran, yang memperlambat angin.',\n",
       " 'kenaikan permukaan laut bisa mencapai enam atau tujuh kaki pada tahun 2100.. evidence: dalam skenario emisi tinggi, akan mencapai 34 cm pada tahun 2050 dan 111 cm pada tahun 2100.',\n",
       " 'kami menemukan stasiun cuaca [amerika serikat] yang terletak di sebelah kipas pembuangan unit pendingin udara, dikelilingi oleh lahan parkir aspal dan jalan, di atas atap yang sangat panas, dan di dekat trotoar dan bangunan yang menyerap dan memancarkan panas.. evidence: menara-menara awal ini ditempatkan di atap bangunan atau sebagai struktur berdiri sendiri, yang dipasok udara oleh kipas atau mengandalkan aliran udara alami.',\n",
       " 'energi terbarukan tidak dapat menyediakan pasokan listrik dasar (baseload power). evidence: pembangkit listrik tenaga panas bumi dapat beroperasi 24 jam sehari, menyediakan kapasitas beban dasar.',\n",
       " 'uap air adalah gas rumah kaca yang paling kuat.. evidence: uap air merupakan gas rumah kaca paling kuat karena adanya ikatan hidroksil yang sangat menyerap dalam spektrum cahaya inframerah.',\n",
       " 'tidak ada bukti statistik yang menunjukkan bahwa pemanasan global menyebabkan intensifikasi kekeringan.. evidence: sejak tahun 1950-an, kekeringan dan gelombang panas muncul secara bersamaan dengan frekuensi yang semakin meningkat.',\n",
       " 'meskipun mencegah pemanasan global relatif murah, para ekonom bahkan tidak dapat memperkirakan secara akurat biaya kerusakan iklim yang meningkat jika kita terus menjalankan bisnis seperti biasa.. evidence: para peneliti telah memperingatkan bahwa model ekonomi saat ini mungkin meremehkan serius dampak perubahan iklim yang berpotensi katastrofik dan menekankan perlunya model baru yang memberikan gambaran yang lebih akurat tentang potensi kerugian.',\n",
       " 'lima puluh lima ribu tahun yang lalu, seluruh dunia 2°c lebih hangat daripada saat ini[...]. evidence: akibatnya, musim panas di belahan bumi utara 2,3 °c (4 °f) lebih hangat daripada di belahan bumi selatan dalam kondisi yang sama.',\n",
       " 'dalam skenario terburuk, permukaan laut dapat naik hingga enam kaki pada akhir abad ini, dan laju kenaikannya dapat meningkat pesat pada abad ke-22.. evidence: pada abad ke-21, ipcc memproyeksikan bahwa dalam skenario emisi sangat tinggi, permukaan laut dapat naik sebesar 61–110 cm.',\n",
       " '[pengasaman laut] pertama kali disebutkan dalam sebuah studi yang ditinjau sejawat di nature pada tahun 2003.. evidence: sebuah studi pada tahun 2013 mengklaim bahwa keasaman meningkat sepuluh kali lebih cepat daripada selama krisis evolusioner manapun dalam sejarah bumi.',\n",
       " 'kekeringan dan banjir tidak berubah sejak kita menggunakan bahan bakar fosil.. evidence: peningkatan permintaan berkontribusi pada degradasi lingkungan yang semakin parah dan pemanasan global, yang mengakibatkan intensifikasi siklon tropis, banjir, kekeringan, kebakaran hutan, dan peningkatan kasus kematian akibat hipertermia.',\n",
       " 'namun, gunung berapi memiliki dampak yang sangat kecil terhadap pemanasan global dalam 40 tahun terakhir.. evidence: letusan-letusan penting yang tercatat dalam sejarah adalah letusan gunung pinatubo tahun 1991 yang menurunkan suhu global sekitar 0,5 °c (0,9 °f) selama hingga tiga tahun, dan letusan gunung tambora tahun 1815 yang menyebabkan tahun tanpa musim panas.',\n",
       " 'karena runtuhnya bagian-bagian rentan dari lapisan es dapat meningkatkan permukaan laut secara dramatis, keberadaan kota-kota pesisir besar di dunia — miami, new york, shanghai dan banyak lagi — terikat pada nasib antartika.. evidence: sekitar 90% massa es bumi berada di antartika, yang jika mencair, akan menyebabkan permukaan laut naik hingga 58 meter.',\n",
       " 'lebih dari 100 persen pemanasan selama abad terakhir disebabkan oleh tindakan manusia. . evidence: pemanasan global yang diamati selama 50 tahun terakhir terutama disebabkan oleh emisi gas penangkap panas yang diinduksi manusia.',\n",
       " 'lautan tidak akan pernah menjadi asam karena terdapat kapasitas penyangga yang sangat besar di lautan.. evidence: lebih baru ini, aktivitas antropogenik telah secara stabil meningkatkan kandungan karbon dioksida di atmosfer; sekitar 30–40% dari co2 yang ditambahkan diserap oleh lautan, membentuk asam karbonat dan menurunkan ph (sekarang di bawah 8,1) melalui proses yang disebut pengasaman laut.',\n",
       " 'mars, triton, pluto, dan jupiter semuanya menunjukkan pemanasan global, yang menunjukkan bahwa matahari merupakan pengaruh dominan dalam menentukan iklim di seluruh tata surya.. evidence: ini adalah aspek utama perubahan iklim dan telah dibuktikan oleh pengukuran suhu secara langsung dan oleh pengukuran berbagai efek pemanasan.',\n",
       " 'para ilmuwan menarik kembali klaim mereka bahwa permukaan laut sedang naik.. evidence: sejak setidaknya awal abad ke-20, rata-rata permukaan laut global telah meningkat.',\n",
       " 'pendiri bersama weather channel john coleman menyebut pemanasan global sebagai hoaks \\n. evidence: perubahan iklim juga disebut sebagai \"penipuan terbesar dalam sejarah\" oleh john colemon, salah satu pendiri weather channel',\n",
       " 'lihatlah, harga bensin di amerika sangat murah karena fracking,\" katanya.. evidence: gas alam untuk penggunaan industri telah menjadi lebih murah sekitar 30% dibandingkan dengan wilayah lain di amerika serikat.',\n",
       " 'meskipun luas es laut musim panas setelah tahun 2006 turun drastis ke tingkat yang tidak diperkirakan hingga tahun 2050, penurunan jumlah beruang kutub yang diprediksi sebesar 67 persen tidak terjadi.. evidence: steven amstrup dan ilmuwan lain dari survei geologi amerika serikat telah memprediksi bahwa dua per tiga populasi beruang kutub di dunia dapat menghilang pada tahun 2050, berdasarkan proyeksi moderat tentang penyusutan es laut musim panas yang disebabkan oleh perubahan iklim, meskipun validitas penelitian ini telah diperdebatkan.',\n",
       " 'beradaptasi dengan pemanasan global lebih murah daripada mencegahnya.. evidence: para ilmuwan mengatakan bahwa makan lebih sedikit daging dapat membantu menghindari pemanasan global yang berbahaya.',\n",
       " 'bukti kuat bahwa co2 tidak mendorong perubahan iklim dapat ditemukan selama periode ordovician-silurian dan jurassic-cretaceous, ketika kadar co2 lebih tinggi dari 4000 ppmv (part per million by volume) dan sekitar 2000 ppmv masing-masing.. evidence: silurian (/sɪˈljʊər.i.ən, saɪ-/ sih-lyoor-ee-ən, sy-) adalah periode dan sistem geologi yang berlangsung selama 24,6 juta tahun, dari akhir periode ordovisium, sekitar 443,8 juta tahun yang lalu (mya), hingga awal periode devon, sekitar 419,2 juta tahun yang lalu.',\n",
       " 'pada akhir zaman es terakhir, konsentrasi karbon dioksida di atmosfer mulai meningkat hanya setelah suhu mulai naik.. evidence: peningkatan konsentrasi co2 dan gas rumah kaca berumur panjang lainnya di atmosfer, seperti metana, nitrogen oksida, dan ozon, telah menyebabkan peningkatan penyerapan dan emisi radiasi inframerah, yang mengakibatkan kenaikan suhu global rata-rata sejak pertengahan abad ke-20.',\n",
       " 'manusia sangat tidak signifikan untuk mengakibatkan efek iklim global. evidence: saat ini, melalui pengembangan lahan, pembakaran bahan bakar fosil, dan polusi, manusia dianggap sebagai kontributor utama perubahan iklim global.',\n",
       " 'kita sudah mengetahui tentang [efek rumah kaca] selama lebih dari seabad.. evidence: efek rumah kaca\", yang secara substansial bertanggung jawab atas pemanasan global bumi, pertama kali dideskripsikan pada tahun 1824 oleh ahli matematika prancis, joseph fourier.',\n",
       " 'polusi karbon merupakan bahaya bagi kesehatan.. evidence: bahaya kesehatan\\nbahaya yang memengaruhi kesehatan orang yang terpapar, biasanya mengakibatkan penyakit akut atau kronis.',\n",
       " 'industri semen, besi dan baja, serta pengolahan minyak bumi dapat mengalami penurunan produksi sebesar 21%, 19%, dan 11% secara berurutan.. evidence: pada paruh pertama tahun 2016, hanya 10 kendaraan yang diproduksi per hari di venezuela dengan penurunan produksi sebesar 86%.',\n",
       " 'mereka tidak menyatakan atribusi yang pasti, tetapi data tersebut konsisten dengan dan sangat menunjukkan pemanasan yang didorong oleh manusia sebagai akar penyebab penurunan oksigen.. evidence: sebuah studi tahun 2005 menyimpulkan bahwa aktivitas manusia adalah penyebab kenaikan suhu dan perubahan perilaku spesies yang dihasilkan, dan menghubungkan efek-efek ini dengan prediksi model iklim untuk memberikan validasi bagi mereka.',\n",
       " 'namun, seiring perubahan yang semakin besar atau berkelanjutan ... tampaknya mereka meremehkan perubahan iklim.. evidence: kebijakan pengurangan gas rumah kaca saat ini di as didasarkan pada apa yang tampaknya menjadi perkiraan yang sangat rendah mengenai emisi metana antropogenik.',\n",
       " '[…]dampak pada kalsifikasi, metabolisme, pertumbuhan, kesuburan, dan kelangsungan hidup spesies laut yang mengapur ketika ph diturunkan hingga 0,3 unit […] bersifat menguntungkan, bukan merusak.\". evidence: penurunan ph ini memengaruhi sistem biologis di lautan, terutama organisme pembentuk cangkang di laut.',\n",
       " 'es laut musim panas di arktik telah menyusut dengan luas yang sama dengan australia barat, dan mungkin akan hilang sepenuhnya dalam satu dekade.. evidence: pemanasan global telah menyebabkan pencairan dan penyusutan es laut arktik selama beberapa dekade, membuatnya rentan terhadap anomali atmosfer.',\n",
       " 'para skeptis telah lama menunjuk pada peningkatan es di belahan bumi selatan sebagai bukti bahwa perubahan iklim tidak terjadi, tetapi para ilmuwan memperingatkan bahwa hal itu disebabkan oleh variasi alam dan sirkulasi di atmosfer.. evidence: pada november 2017, peringatan kedua kepada umat manusia yang ditandatangani oleh 15.364 ilmuwan dari 184 negara menyatakan bahwa \"trajektori saat ini dari perubahan iklim yang berpotensi bencana akibat meningkatnya gas rumah kaca dari pembakaran bahan bakar fosil, deforestasi, dan produksi pertanian – terutama dari peternakan hewan memamah biak untuk konsumsi daging\" sangat mengkhawatirkan.',\n",
       " '\"efek berantai\" dari perubahan iklum turut berkontribusi pada kemunculan isis.. evidence: hal ini memiliki dampak berantai, terutama pada populasi beruang grizzly karena kacang pinus merupakan sumber makanan penting di musim dingin selama periode salju tebal.',\n",
       " 'jadi sekarang kita dapat menjelaskan dari faktor alam bagaimana pemanasan global terjadi di abad ke-20.. evidence: pengantar ini berisi pernyataan: ada bukti kuat bahwa pemanasan bumi selama setengah abad terakhir sebagian besar disebabkan oleh aktivitas manusia, seperti pembakaran bahan bakar fosil dan perubahan penggunaan lahan, termasuk pertanian dan penggundulan hutan.',\n",
       " 'meskipun suhu maksimum musim panas menunjukkan sedikit tren, suhu rata-rata tahunan di arktika telah meningkat tajam dalam beberapa dekade terakhir.. evidence: ipcc juga menunjukkan bahwa, selama 100 tahun terakhir, suhu rata-rata tahunan di arktik telah meningkat hampir dua kali lipat dibandingkan dengan peningkatan suhu rata-rata global.',\n",
       " 'kami menemukan stasiun cuaca [amerika serikat] yang terletak di sebelah kipas pembuangan unit pendingin udara, dikelilingi oleh lahan parkir aspal dan jalan, di atas atap yang sangat panas, dan di dekat trotoar dan bangunan yang menyerap dan memancarkan panas.. evidence: semua operasi penerbangan dikendalikan dari ruang observasi ber-ac di menara kendali gedung ini, yang memiliki jendela menghadap landasan pacu dan area landasan.',\n",
       " 'dampak dari disparitas ini adalah radiasi panas yang lepas ke angkasa sebagian besar berasal dari atmosfer bagian atas yang dingin, sedangkan permukaan tetap pada suhu yang jauh lebih hangat.. evidence: ini jauh lebih dingin daripada kondisi yang sebenarnya ada di permukaan bumi (suhu permukaan rata-rata global sekitar 14\\xa0°c).',\n",
       " 'tren pemanasan yang sedikit signifikan dalam data selama beberapa tahun terakhir, menghapus dataran tinggi suhu yang membuat para pembuat alarm iklim kesulitan untuk dijelaskan.. evidence: selama beberapa dekade pengembangan, model-model telah secara konsisten memberikan gambaran yang kuat dan jelas tentang pemanasan iklim yang signifikan sebagai respons terhadap peningkatan gas rumah kaca.',\n",
       " 'perilaku radiasi yang diamati menunjukkan proses umpan balik negatif yang terkait dengan sensitivitas iklim yang relatif rendah.. evidence: umpan balik negatif utama berasal dari hukum stefan–boltzmann, jumlah panas yang dipancarkan dari bumi ke luar angkasa berubah seiring dengan pangkat empat dari suhu permukaan dan atmosfer bumi.',\n",
       " \"model postma mengandung banyak kesalahan sederhana; sama sekali tidak berarti bahwa postma merendahkan keberadaan atau perlunya efek rumah kaca.. evidence: panjang deskripsi minimum dan panjang pesan minimum - perumusan ulang teori informasi formal dari occam's razor. pedang laser menyala newton adalah pisau cukur filosofis—prinsip atau pedoman yang memungkinkan seseorang untuk menghilangkan penjelasan yang tidak mungkin untuk suatu fenomena. filsafat sains adalah studi filosofis tentang asumsi, dasar, dan implikasi ilmu pengetahuan. prinsip kesederhanaan atau *occam's razor* tidak mengatakan bahwa semakin sederhana hipotesis, semakin baik.\",\n",
       " 'proposal presiden obama menyerukan pemotongan signifikan dalam emisi karbon jangka panjang kita sendiri, namun tiongkok dan india masih diperbolehkan untuk meningkatkan emisi mereka.. evidence: negara tersebut mengajukan usulan protokol yang akan memberlakukan pemotongan emisi yang lebih dalam dan mengikat secara hukum, termasuk untuk negara berkembang.',\n",
       " 'senator as ron johnson \"memimpin perjuangan untuk membiarkan para pencemar melepaskan polusi karbon dalam jumlah tak terbatas dan menerima hampir $225.000 dari pihak pencemar.\". evidence: mereka semua menetapkan harga untuk polusi (misalnya, lihat harga karbon), dan dengan demikian memberikan insentif ekonomi untuk mengurangi polusi dimulai dari peluang dengan biaya terendah.',\n",
       " 'pemanasan global\" dan \"perubahan iklim\" memiliki makna yang berbeda dan keduanya telah digunakan selama beberapa dekade.. evidence: penelitian pada tahun 1950-an menunjukkan bahwa suhu sedang meningkat, dan sebuah surat kabar pada tahun 1952 menggunakan istilah \"perubahan iklim\".',\n",
       " 'hasil penelitian hansen pada tahun 1988 merupakan bukti bahwa sensitivitas iklim yang sebenarnya sekitar 3°c untuk penggandaan co2 di atmosfer.. evidence: dalam makalah pertamanya tentang masalah ini, dia memperkirakan bahwa suhu global akan meningkat sekitar 5 hingga 6 °c (9,0 hingga 10,8 °f) jika jumlah co2 digandakan.',\n",
       " 'suhu permukaan global terus meningkat secara stabil di bawah efek pendinginan alami jangka pendek, dan peningkatan kandungan panas global sama sekali tidak melambat.. evidence: sepanjang periode ini, penyimpanan panas laut terus meningkat secara stabil, dan pada tahun-tahun berikutnya suhu permukaan telah melonjak ke atas.',\n",
       " 'bersama-sama, kedua kumpulan data [permukaan laut] yang tidak diubah ini menunjukkan bahwa tren permukaan laut rata-rata global telah tetap stabil selama periode 1992-2007, secara keseluruhan menghilangkan laju kenaikan permukaan laut sebesar 3,2 mm/tahun yang tampak dari data \"terkoreksi\".. evidence: tingkat kenaikan permukaan laut saat ini yang diukur dari altimetri satelit diperkirakan mencapai 3,0 ± 0,4 milimeter (0,118 ± 0,016 inci) per tahun untuk periode 1993–2017.',\n",
       " 'sampai kita mengembangkan alternatif yang praktis dan kompetitif dari segi biaya untuk bahan bakar fosil, kemungkinan besar energi terbarukan tidak akan pernah mencapai lebih dari 15-20% dari kebutuhan energi global.. evidence: pasar energi terbarukan nasional diproyeksikan akan terus tumbuh kuat dalam dekade mendatang dan seterusnya, dan sekitar 120 negara memiliki berbagai target kebijakan untuk bagian energi terbarukan jangka panjang, termasuk target 20% dari semua listrik yang dihasilkan untuk uni eropa pada tahun 2020.',\n",
       " 'analisis ilmiah iklim masa lampau menunjukkan bahwa gas rumah kaca, terutama co2, telah mengendalikan sebagian besar perubahan iklim kuno.. evidence: efek sebaliknya adalah vulkanisme, yang bertanggung jawab atas efek rumah kaca alami, dengan mengeluarkan co2 ke atmosfer, sehingga memengaruhi siklus glasiasi (zaman es).',\n",
       " 'pemerintah palin ... adalah seseorang yang sebenarnya tidak percaya bahwa perubahan iklim disebabkan oleh manusia.. evidence: perubahan iklim berarti perubahan iklim yang disebabkan secara langsung atau tidak langsung oleh aktivitas manusia yang mengubah komposisi atmosfer global, dan yang merupakan tambahan terhadap variabilitas iklim alami yang diamati dalam periode waktu yang sebanding.',\n",
       " 'jika kandungan karbon dioksida di atmosfer saat ini dikurangi setengahnya, semua kehidupan akan mati.. evidence: secara volume, udara kering mengandung 78,09% nitrogen, 20,95% oksigen, 0,93% argon, 0,04% karbon dioksida, dan sejumlah kecil gas lainnya.',\n",
       " 'lebih dari separuh dari 44 studi yang dipilih untuk diterbitkan menemukan bahwa peningkatan kadar co2 memiliki sedikit atau tidak sama sekali dampak pada kehidupan laut, termasuk kepiting, limpet, bulu babi, dan spons.. evidence: kalsium karbonat juga menjadi lebih larut pada ph yang lebih rendah, sehingga pengasaman laut kemungkinan akan berdampak besar pada organisme laut dengan cangkang kalsium karbonat, seperti tiram, kerang, bulu babi, dan karang, karena kemampuan mereka untuk membentuk cangkang akan berkurang, dan kedalaman kompensasi karbonat akan naik mendekati permukaan laut.',\n",
       " 'meskipun suhu maksimum musim panas menunjukkan sedikit tren, suhu rata-rata tahunan di arktik telah meningkat tajam dalam beberapa dekade terakhir.. evidence: suhu rata-rata musim panas (juni, juli, dan agustus) sekitar titik beku (0\\xa0°c (32\\xa0°f)).',\n",
       " 'kegagalan model kelangsungan hidup beruang kutub tahun 2007 merupakan fakta sederhana yang mematahkan mitos bahwa beruang kutub menuju kepunahan.. evidence: untuk pertama kalinya sejak kepunahan dinosaurus 65 juta tahun yang lalu, kita menghadapi kepunahan massal satwa liar di seluruh dunia.',\n",
       " 'namun, schmidt berpendapat lebih lanjut bahwa perbedaan antara noaa dan nasa tidak terlalu signifikan, dalam konteks gambaran yang lebih besar.. evidence: ada perbedaan antara pendapat para ilmuwan dan pendapat masyarakat umum.',\n",
       " 'panas ekstrem yang kita alami musim panas lalu akan menjadi hal yang biasa.. evidence: musim panas umumnya panas dan kering, berlangsung dari bulan desember hingga maret, dengan bulan februari umumnya menjadi bulan terpanas.',\n",
       " 'ketika anda memperhitungkan efek yang tidak tercermin dalam harga pasar bahan bakar fosil, seperti polusi udara dan dampak kesehatan, biaya sebenarnya dari batu bara dan bahan bakar fosil lainnya lebih tinggi daripada biaya sebagian besar teknologi energi terbarukan.. evidence: kilang minyak juga memiliki dampak lingkungan negatif, termasuk polusi udara dan air.',\n",
       " 'para ilmuwan baru saja menemukan sumber nitrogen yang besar dan sebelumnya tidak diketahui.. evidence: fiksasi nitrogen biologis ditemukan oleh ahli agronomi jerman, hermann hellriegel, dan ahli mikrobiologi belanda, martinus beijerinck.',\n",
       " 'panel antarpemerintah tentang perubahan iklim (ipcc) menyesatkan umat manusia tentang perubahan iklim dan permukaan laut, dan sebenarnya periode pendinginan yang didorong matahari tidak lama lagi.. evidence: temuan yang kuat dari laporan sintesis ini meliputi: \"pemanasan sistem iklim tidak dapat disangkal, sebagaimana terlihat dari pengamatan kenaikan suhu rata-rata global udara dan laut, pencairan es dan salju secara luas serta kenaikan permukaan laut rata-rata global\".',\n",
       " 'kesalahan suhu di wilayah great lakes tidak digunakan dalam catatan suhu global manapun.. evidence: kubah siple (sd) mengalami peristiwa iklim yang waktunya bertepatan dengan zaman es kecil di atlantik utara berdasarkan korelasi dengan catatan gisp2.',\n",
       " 'namun seperti kebanyakan klaim mengenai pemanasan global, efek sebenarnya kecil, mungkin sementara, dan kemungkinan besar disebabkan oleh pola cuaca alamiah.. evidence: perubahan iklim dapat disebabkan oleh proses internal alami atau paksaan eksternal seperti modulasi siklus matahari, letusan gunung berapi, dan perubahan antropogenik yang berkelanjutan dalam komposisi atmosfer atau penggunaan lahan.',\n",
       " 'para ilmuwan memproyeksikan bahwa arktik akan bebas es pada musim panas tahun 2013.. evidence: angkatan laut as memprediksi kutub utara bebas es pada musim panas 2016.',\n",
       " 'selain itu, [model iklim] mengabaikan fakta bahwa memperkaya atmosfer dengan co2 bermanfaat.. evidence: ini termasuk karbon dioksida (rumus kimia: co2), metana (ch4), dinitrogen oksida (n2o), dan sekelompok gas yang disebut halokarbon.',\n",
       " 'suhu permukaan rata-rata planet ini telah meningkat sekitar 1,62 derajat fahrenheit (0,9 derajat celcius) sejak akhir abad ke-19, perubahan yang didorong terutama oleh peningkatan karbon dioksida dan emisi buatan manusia lainnya ke atmosfer.. evidence: kenaikan gas rumah kaca yang disebabkan manusia bertanggung jawab atas sebagian besar pemanasan permukaan bumi rata-rata global yang teramati, sekitar 0,8\\u202f°c (1,5\\u202f°f) selama 140 tahun terakhir.',\n",
       " '89% dari stasiun cuaca gagal memenuhi persyaratan penempatan sendiri dari badan cuaca nasional, yang mengharuskan stasiun berada 30 meter jauhnya dari sumber pemanas buatan atau sumber panas yang memancarkan/memantulkan panas.. evidence: di lintang geografis rendah (dibawah 40 derajat), sistem pemanas air tenaga surya dapat menyediakan 60 hingga 70% dari penggunaan air panas rumah tangga dengan temperatur hingga 60 derajat celcius.',\n",
       " 'istilah yang lebih luas mencakup perubahan di luar suhu yang lebih hangat, seperti perubahan pola curah hujan.. evidence: secara umum, pola iklim dicirikan oleh suhu yang hangat dan curah hujan tahunan yang tinggi.',\n",
       " 'data tersebut dilaporkan oleh pusat penelitian iklim arktik universitas illinois, dan diperoleh dari pengamatan satelit di wilayah kutub utara dan selatan (daily tech).. evidence: hal itu dikembangkan sepenuhnya dari pengamatan cuaca permukaan, termasuk deskripsi awan yang ditemukan di dekat batas muka udara.',\n",
       " 'survei terbaru terhadap ilmuwan iklim menunjukkan bahwa sekitar 57 persen tidak setuju dengan gagasan bahwa 95 persen perubahan iklim disebabkan oleh co2.. evidence: 97% ilmuwan yang disurvei setuju bahwa suhu global telah meningkat selama 100 tahun terakhir; 84% mengatakan mereka secara pribadi percaya bahwa pemanasan yang disebabkan oleh manusia sedang terjadi, dan 74% setuju bahwa \"bukti ilmiah yang tersedia saat ini\" mendukung terjadinya pemanasan tersebut.',\n",
       " 'stomata tumbuhan menunjukkan tingkat co2 yang lebih tinggi dan lebih bervariasi.. evidence: spesies tumbuhan dengan laju fotosintesis tertinggi dan anatomi kranz tidak menunjukkan fotorespirasi yang terlihat, titik kompensasi co2 yang sangat rendah, suhu optimal tinggi, resistensi stomata tinggi, dan resistensi mesofil yang lebih rendah untuk difusi gas, dan laju yang tidak pernah jenuh pada cahaya matahari penuh.',\n",
       " \"data dari stasiun barrow, alaska milik noaa 'menunjukkan bahwa emisi co2 dari tundra di sekitarnya pada bulan oktober hingga desember meningkat sebesar 73 persen sejak tahun 1975, mendukung pandangan bahwa kenaikan suhu telah menjadikan ekosistem arktik sebagai sumber co2 bersih.'. evidence: peningkatan konsentrasi co2 dan gas rumah kaca berumur panjang lainnya di atmosfer, seperti metana, nitrogen oksida, dan ozon, telah menyebabkan peningkatan penyerapan dan emisi radiasi inframerah, yang mengakibatkan kenaikan suhu global rata-rata sejak pertengahan abad ke-20.\",\n",
       " 'es laut arktik telah surut selama 30 tahun terakhir.. evidence: pencairan es di antartika telah meningkat 280% dalam 4 dekade terakhir.',\n",
       " 'pollard dan deconto adalah yang pertama mengakui bahwa model mereka masih kasar, tetapi hasilnya telah mendorong seluruh komunitas ilmiah ke mode darurat.. evidence: selain menguji hipotesis, para ilmuwan juga dapat membuat model, yaitu usaha untuk menggambarkan atau melukiskan fenomena tersebut dalam bentuk representasi logis, fisik, atau matematis, dan menghasilkan hipotesis baru yang dapat diuji, berdasarkan fenomena yang dapat diamati.',\n",
       " 'es laut musim panas di arktik telah menyusut dengan luas yang sama dengan australia barat, dan mungkin akan hilang sepenuhnya dalam satu dekade.. evidence: pencairan es pada musim panas telah disebutkan mencapai 50%.',\n",
       " 'kehilangan hutan hujan tropis bukanlah sesuatu yang lebih murah daripada membangun ladang angin di as atau sahara.\". evidence: sebuah negara dapat meningkatkan pasokan makanannya dengan mengubah lahan hutan menjadi pertanian tanaman pangan, tetapi nilai lahan yang sama dapat jauh lebih besar ketika dapat menyediakan sumber daya alam atau jasa seperti air bersih, kayu, ekowisata, atau pengaturan banjir dan pengendalian kekeringan.',\n",
       " 'ben santer menulis ulang laporan ipcc tahun 1995.. evidence: laporan penilaian pertama (far) ipcc diselesaikan pada tahun 1990, dan menjadi dasar dari unfccc.',\n",
       " 'pemanasan global akan melambat ke tingkat yang mungkin dapat dikelola hanya ketika emisi manusia dikurangi menjadi nol.. evidence: adaptasi yang sukses lebih mudah jika terjadi pengurangan emisi yang signifikan.',\n",
       " 'tidak ada negara bagian yang menghasilkan tenaga surya sebanyak california, atau memiliki sebanyak orang yang pekerjaannya bergantung padanya.. evidence: karena merupakan negara bagian terpadat di amerika serikat, california adalah salah satu konsumen energi terbesar di negara ini.',\n",
       " 'penurunan aktivitas vulkanik pada awal abad ke-20 mungkin memiliki efek pemanasan.. evidence: sebagian besar sinar matahari yang mencapai permukaan bumi diserap, menghangatkan permukaan, yang kemudian memancarkan radiasi ke atas pada panjang gelombang inframerah yang lebih panjang.',\n",
       " 'es laut musim panas di arktik telah menyusut dengan luas yang sama dengan australia barat, dan mungkin akan hilang sepenuhnya dalam satu dekade.. evidence: penelitian menunjukkan bahwa arktik mungkin akan bebas es di musim panas untuk pertama kalinya dalam sejarah manusia pada tahun 2040.',\n",
       " 'setidaknya di dekat tempat baru dan dekat khatulistiwa, tidak ada yang lebih sedikit dari pemanasan global yang diharapkan.. evidence: di daerah tropis, dampak bersihnya adalah menghasilkan pemanasan yang signifikan, sedangkan di garis lintang yang lebih dekat ke kutub, hilangnya albedo menyebabkan efek pendinginan secara keseluruhan.',\n",
       " 'dalam terminologi teknis, apa yang disebut biaya sosial karbon akan menjadi negatif.. evidence: beberapa penasihat administrasi telah menyatakan bahwa biaya sosial harus dikurangi menjadi nol (saat ini sebesar $36 per ton karbon dioksida).',\n",
       " 'kita sudah mengetahui tentang [efek rumah kaca] selama lebih dari seabad.. evidence: para ilmuwan telah mengetahui selama lebih dari seabad bahwa bahkan proporsi kecil ini memiliki efek pemanasan yang signifikan, dan menggandakan proporsi tersebut menyebabkan peningkatan suhu yang besar.',\n",
       " 'dengan el niño yang rekor, seharusnya kita mengalami suhu tinggi yang rekor.. evidence: [rujukan dibutuhkan] pantai timur amerika serikat mencatatkan suhu terendah baru di berbagai negara bagian selatan seperti georgia, alabama, dan florida. pantai timur, seperti pantai barat, juga mengalami salah satu musim dingin terburuk yang pernah tercatat.',\n",
       " 'para ilmuwan menyatakan bahwa hubungan antara mencairnya es di kutub utara dan cuaca ekstrem musim panas di belahan bumi utara memang mungkin, tetapi belum pasti seperti hubungannya dengan cuaca musim dingin.. evidence: akibatnya, musim panas di belahan bumi utara 2,3 °c (4 °f) lebih hangat daripada di belahan bumi selatan dalam kondisi yang sama.',\n",
       " 'banyak studi kasus, baik di tingkat regional maupun global, telah menentukan bahwa energi terbarukan, jika diterapkan dengan benar, dapat menyediakan daya dasar.. evidence: teknologi egs dan hdr, seperti panas bumi hidrotermal, diharapkan menjadi sumber energi dasar yang menghasilkan listrik 24 jam sehari seperti pembangkit listrik fosil.',\n",
       " 'namun, dalam banyak kasus lainnya — misalnya badai — hubungannya dengan pemanasan global untuk tren tertentu tidak pasti atau diperdebatkan.. evidence: dalam ekosistem darat, waktu awal peristiwa musim semi, serta pergeseran jangkauan tumbuhan dan hewan ke arah kutub dan ke atas, telah dikaitkan dengan keyakinan tinggi terhadap pemanasan global baru-baru ini.',\n",
       " 'meskipun kita mencapai target perjanjian paris untuk pemanasan global dua derajat, kota-kota seperti karachi dan kolkata akan menjadi hampir tidak layak huni, dan setiap tahun mengalami gelombang panas mematikan seperti yang melumpuhkan mereka pada tahun 2015.. evidence: tujuan dari perjanjian ini adalah untuk mengurangi pemanasan global yang dijelaskan dalam pasal 2-nya, \"meningkatkan implementasi\" unfccc melalui: \\n \\n (a) menahan kenaikan suhu rata-rata global jauh di bawah 2°c di atas tingkat pra-industri dan berupaya untuk membatasi kenaikan suhu hingga 1.5°c di atas tingkat pra-industri, mengakui bahwa hal ini akan secara signifikan mengurangi risiko dan dampak perubahan iklim;\\n (b) meningkatkan kemampuan untuk beradaptasi dengan dampak buruk perubahan iklim dan mendorong ketahanan iklim dan pengembangan emisi gas rumah kaca rendah, dengan cara yang tidak mengancam produksi pangan;\\n (c) membuat arus keuangan konsisten dengan jalur menuju emisi gas rumah kaca rendah dan pembangunan yang tahan iklim.',\n",
       " 'pengaruh gas rumah kaca yang disebut-sebut terhadap suhu permukaan bumi - belum sepenuhnya terbukti.. evidence: sebelum revolusi industri, jumlah gas rumah kaca yang terjadi secara alami menyebabkan suhu udara di dekat permukaan lebih hangat sekitar 33 °c (59 °f) daripada jika tidak ada gas rumah kaca.',\n",
       " 'beberapa bukti independen menunjukkan bahwa kelembapan meningkat dan memberikan umpan balik positif.. evidence: umpan balik penguatan utama adalah umpan balik uap air, umpan balik es-albedo, dan kemungkinan efek bersih dari awan.',\n",
       " 'mayoritas penelitian yang ditinjau sejawat [menemukan] bahwa co2 di atmosfer bertahan di sana dalam waktu singkat.. evidence: sebuah artikel penelitian yang ditinjau sejawat oleh dr. steven wing menemukan peningkatan yang signifikan dalam kasus kanker dari tahun 1979–1985 di antara orang-orang yang tinggal dalam radius sepuluh mil dari tmi; pada tahun 2009, dr. wing menyatakan bahwa pelepasan radiasi selama kecelakaan tersebut kemungkinan \"ribuan kali lebih besar\" daripada perkiraan nrc.',\n",
       " 'meskipun bagian dalam greenland berada dalam keseimbangan massa, garis pantainya kehilangan es.. evidence: **titik kritis dalam pembekuan kembali mempercepat hilangnya massa es di gletser dan lapisan es greenland.**',\n",
       " 'ketika kehidupan dipertimbangkan, pengasaman laut seringkali dianggap bukan masalah, bahkan bisa jadi bermanfaat.. evidence: misalnya, terkait keamanan, laporan tersebut menemukan \"[tinggi] potensi efek samping ekologis yang tidak diinginkan\", dan bahwa pemupukan laut \"dapat meningkatkan wilayah anoxic di laut (\\'zona mati\\')\".',\n",
       " 'survei terbaru terhadap ilmuwan iklim menunjukkan bahwa sekitar 57 persen tidak setuju dengan gagasan bahwa 95 persen perubahan iklim disebabkan oleh co2.. evidence: sebagian besar pemanasan iklim selama 50 tahun terakhir kemungkinan besar disebabkan oleh peningkatan konsentrasi gas rumah kaca di atmosfer.',\n",
       " 'permukaan laut di tuvalu tidak naik.. evidence: para pemimpin tuvalu telah merasa khawatir tentang dampak kenaikan permukaan air laut.',\n",
       " 'peningkatan metana atmosfer, gas rumah kaca, pada akhir abad ke-20 dijelaskan sebagai akibat dari perluasan peternakan dan penanaman padi, tetapi penyebabnya ditemukan sebagai kebocoran pipa gas di uni soviet yang sekarang dikelola dan dipelihara dengan baik.. evidence: penyebab lonjakan tahun 1998 belum terpecahkan, tetapi para ilmuwan saat ini mengaitkannya dengan kombinasi peningkatan emisi dari lahan basah dan sawah serta peningkatan jumlah pembakaran biomassa.',\n",
       " 'misalnya, pada tongkat hoki asli (berakhir 1980), 30-40 tahun data terakhir menunjukkan sedikit penurunan.. evidence: karena catatan suhu langsung lebih akurat daripada proksi (sebenarnya, catatan langsung diperlukan untuk kalibrasi proksi), maka catatan langsung digunakan saat tersedia: yaitu, sejak tahun 1850 dan seterusnya.',\n",
       " 'jika setiap rumah di florida memiliki tangki air panas tenaga surya, itu akan menghilangkan konsumsi energi sebesar 17 persen.. evidence: ketika dikombinasikan dengan penyimpanan, pemanasan surya berskala besar dapat menyediakan 50-97% dari konsumsi panas tahunan untuk pemanasan distrik.',\n",
       " '\\ntidak ada bukti empiris untuk perubahan iklim.. evidence: seorang skeptis ilmiah atau empiris adalah seseorang yang mempertanyakan keyakinan berdasarkan pemahaman ilmiah dan bukti empiris.']"
      ]
     },
     "execution_count": 7,
     "metadata": {},
     "output_type": "execute_result"
    }
   ],
   "source": [
    "dataset[\"train_claim_idn_evidence_idn\"][\"text\"]"
   ]
  },
  {
   "cell_type": "code",
   "execution_count": 18,
   "metadata": {},
   "outputs": [
    {
     "data": {
      "application/vnd.jupyter.widget-view+json": {
       "model_id": "eac96466bc5d40d184a66d147b93fc5a",
       "version_major": 2,
       "version_minor": 0
      },
      "text/plain": [
       "README.md:   0%|          | 0.00/1.70k [00:00<?, ?B/s]"
      ]
     },
     "metadata": {},
     "output_type": "display_data"
    },
    {
     "data": {
      "application/vnd.jupyter.widget-view+json": {
       "model_id": "eedffdebcc23498ea5b241eec759f7d9",
       "version_major": 2,
       "version_minor": 0
      },
      "text/plain": [
       "(…)im_en_evidence_en-00000-of-00001.parquet:   0%|          | 0.00/39.1k [00:00<?, ?B/s]"
      ]
     },
     "metadata": {},
     "output_type": "display_data"
    },
    {
     "data": {
      "application/vnd.jupyter.widget-view+json": {
       "model_id": "4b43949621394659b46a32ebebf7117f",
       "version_major": 2,
       "version_minor": 0
      },
      "text/plain": [
       "(…)m_en_evidence_idn-00000-of-00001.parquet:   0%|          | 0.00/41.9k [00:00<?, ?B/s]"
      ]
     },
     "metadata": {},
     "output_type": "display_data"
    },
    {
     "data": {
      "application/vnd.jupyter.widget-view+json": {
       "model_id": "b1650431d46c4c86b26147a83599d6db",
       "version_major": 2,
       "version_minor": 0
      },
      "text/plain": [
       "(…)m_en_evidence_arb-00000-of-00001.parquet:   0%|          | 0.00/52.0k [00:00<?, ?B/s]"
      ]
     },
     "metadata": {},
     "output_type": "display_data"
    },
    {
     "data": {
      "application/vnd.jupyter.widget-view+json": {
       "model_id": "194c68d2a1ed42fd947c72c17b2cdf09",
       "version_major": 2,
       "version_minor": 0
      },
      "text/plain": [
       "(…)m_idn_evidence_en-00000-of-00001.parquet:   0%|          | 0.00/42.8k [00:00<?, ?B/s]"
      ]
     },
     "metadata": {},
     "output_type": "display_data"
    },
    {
     "data": {
      "application/vnd.jupyter.widget-view+json": {
       "model_id": "46b2ec75958a4872912b26600195959d",
       "version_major": 2,
       "version_minor": 0
      },
      "text/plain": [
       "(…)_idn_evidence_idn-00000-of-00001.parquet:   0%|          | 0.00/38.2k [00:00<?, ?B/s]"
      ]
     },
     "metadata": {},
     "output_type": "display_data"
    },
    {
     "data": {
      "application/vnd.jupyter.widget-view+json": {
       "model_id": "d559d589dced49cd9e4f9ce287a7514f",
       "version_major": 2,
       "version_minor": 0
      },
      "text/plain": [
       "(…)_idn_evidence_arb-00000-of-00001.parquet:   0%|          | 0.00/51.8k [00:00<?, ?B/s]"
      ]
     },
     "metadata": {},
     "output_type": "display_data"
    },
    {
     "data": {
      "application/vnd.jupyter.widget-view+json": {
       "model_id": "fcdece41d0c14450a5a814f31f959c66",
       "version_major": 2,
       "version_minor": 0
      },
      "text/plain": [
       "(…)m_arb_evidence_en-00000-of-00001.parquet:   0%|          | 0.00/51.0k [00:00<?, ?B/s]"
      ]
     },
     "metadata": {},
     "output_type": "display_data"
    },
    {
     "data": {
      "application/vnd.jupyter.widget-view+json": {
       "model_id": "033b60c790fa407784f0072ae87212b7",
       "version_major": 2,
       "version_minor": 0
      },
      "text/plain": [
       "(…)_arb_evidence_idn-00000-of-00001.parquet:   0%|          | 0.00/49.8k [00:00<?, ?B/s]"
      ]
     },
     "metadata": {},
     "output_type": "display_data"
    },
    {
     "data": {
      "application/vnd.jupyter.widget-view+json": {
       "model_id": "8db10b29a44e437986a48597bb109ba4",
       "version_major": 2,
       "version_minor": 0
      },
      "text/plain": [
       "(…)_arb_evidence_arb-00000-of-00001.parquet:   0%|          | 0.00/53.4k [00:00<?, ?B/s]"
      ]
     },
     "metadata": {},
     "output_type": "display_data"
    },
    {
     "data": {
      "application/vnd.jupyter.widget-view+json": {
       "model_id": "57e5ebb8db774ba0815e134e583fd2aa",
       "version_major": 2,
       "version_minor": 0
      },
      "text/plain": [
       "Generating train_claim_en_evidence_en split:   0%|          | 0/200 [00:00<?, ? examples/s]"
      ]
     },
     "metadata": {},
     "output_type": "display_data"
    },
    {
     "data": {
      "application/vnd.jupyter.widget-view+json": {
       "model_id": "51b4f66c8f0044ff8be9cad5008bc790",
       "version_major": 2,
       "version_minor": 0
      },
      "text/plain": [
       "Generating train_claim_en_evidence_idn split:   0%|          | 0/200 [00:00<?, ? examples/s]"
      ]
     },
     "metadata": {},
     "output_type": "display_data"
    },
    {
     "data": {
      "application/vnd.jupyter.widget-view+json": {
       "model_id": "d0f42aed829f4f7396795d9378511c66",
       "version_major": 2,
       "version_minor": 0
      },
      "text/plain": [
       "Generating train_claim_en_evidence_arb split:   0%|          | 0/200 [00:00<?, ? examples/s]"
      ]
     },
     "metadata": {},
     "output_type": "display_data"
    },
    {
     "data": {
      "application/vnd.jupyter.widget-view+json": {
       "model_id": "ceed8c1fa29745a597f6b4d3fd509d0b",
       "version_major": 2,
       "version_minor": 0
      },
      "text/plain": [
       "Generating train_claim_idn_evidence_en split:   0%|          | 0/200 [00:00<?, ? examples/s]"
      ]
     },
     "metadata": {},
     "output_type": "display_data"
    },
    {
     "data": {
      "application/vnd.jupyter.widget-view+json": {
       "model_id": "30c35c4757004bfa80f32d144953b1c3",
       "version_major": 2,
       "version_minor": 0
      },
      "text/plain": [
       "Generating train_claim_idn_evidence_idn split:   0%|          | 0/200 [00:00<?, ? examples/s]"
      ]
     },
     "metadata": {},
     "output_type": "display_data"
    },
    {
     "data": {
      "application/vnd.jupyter.widget-view+json": {
       "model_id": "1d1ca839aa7940418e42e1e65118e5e8",
       "version_major": 2,
       "version_minor": 0
      },
      "text/plain": [
       "Generating train_claim_idn_evidence_arb split:   0%|          | 0/200 [00:00<?, ? examples/s]"
      ]
     },
     "metadata": {},
     "output_type": "display_data"
    },
    {
     "data": {
      "application/vnd.jupyter.widget-view+json": {
       "model_id": "e2647902e0d54a0ca4f6882e87e57924",
       "version_major": 2,
       "version_minor": 0
      },
      "text/plain": [
       "Generating train_claim_arb_evidence_en split:   0%|          | 0/200 [00:00<?, ? examples/s]"
      ]
     },
     "metadata": {},
     "output_type": "display_data"
    },
    {
     "data": {
      "application/vnd.jupyter.widget-view+json": {
       "model_id": "f6e8f113a30b4ef4be20622b5f9e32c1",
       "version_major": 2,
       "version_minor": 0
      },
      "text/plain": [
       "Generating train_claim_arb_evidence_idn split:   0%|          | 0/200 [00:00<?, ? examples/s]"
      ]
     },
     "metadata": {},
     "output_type": "display_data"
    },
    {
     "data": {
      "application/vnd.jupyter.widget-view+json": {
       "model_id": "20cfff7dca65480c85d5dde056e2950a",
       "version_major": 2,
       "version_minor": 0
      },
      "text/plain": [
       "Generating train_claim_arb_evidence_arb split:   0%|          | 0/200 [00:00<?, ? examples/s]"
      ]
     },
     "metadata": {},
     "output_type": "display_data"
    }
   ],
   "source": [
    "dataset = load_dataset(\"Erland/fake_news_detection_dataset_cross_lingual_formatted\", split=\"train_claim_en_evidence_en\")"
   ]
  },
  {
   "cell_type": "code",
   "execution_count": 19,
   "metadata": {},
   "outputs": [
    {
     "data": {
      "text/plain": [
       "Dataset({\n",
       "    features: ['label', 'text'],\n",
       "    num_rows: 200\n",
       "})"
      ]
     },
     "execution_count": 19,
     "metadata": {},
     "output_type": "execute_result"
    }
   ],
   "source": [
    "dataset"
   ]
  }
 ],
 "metadata": {
  "kernelspec": {
   "display_name": "Python 3",
   "language": "python",
   "name": "python3"
  },
  "language_info": {
   "codemirror_mode": {
    "name": "ipython",
    "version": 3
   },
   "file_extension": ".py",
   "mimetype": "text/x-python",
   "name": "python",
   "nbconvert_exporter": "python",
   "pygments_lexer": "ipython3",
   "version": "3.11.9"
  }
 },
 "nbformat": 4,
 "nbformat_minor": 2
}
