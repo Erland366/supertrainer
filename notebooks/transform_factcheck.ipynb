{
 "cells": [
  {
   "cell_type": "code",
   "execution_count": 1,
   "metadata": {},
   "outputs": [],
   "source": [
    "from datasets import load_dataset\n",
    "\n",
    "dataset = load_dataset(\"csv\", data_files=\"Manual Annotated -Done - fake_news_detection_dataset_200.csv\")"
   ]
  },
  {
   "cell_type": "code",
   "execution_count": 2,
   "metadata": {},
   "outputs": [
    {
     "data": {
      "text/plain": [
       "DatasetDict({\n",
       "    train: Dataset({\n",
       "        features: ['claim_id', 'claim', 'evidence', 'evidence_label', 'label', 'category', 'claim_idn', 'evidence_idn', 'claim_arb', 'evidence_arb'],\n",
       "        num_rows: 200\n",
       "    })\n",
       "})"
      ]
     },
     "execution_count": 2,
     "metadata": {},
     "output_type": "execute_result"
    }
   ],
   "source": [
    "dataset"
   ]
  },
  {
   "cell_type": "code",
   "execution_count": 10,
   "metadata": {},
   "outputs": [
    {
     "name": "stdout",
     "output_type": "stream",
     "text": [
      "Processing split: train\n"
     ]
    },
    {
     "data": {
      "application/vnd.jupyter.widget-view+json": {
       "model_id": "72e917677e1b47158056dbb225a29770",
       "version_major": 2,
       "version_minor": 0
      },
      "text/plain": [
       "Filter:   0%|          | 0/1800 [00:00<?, ? examples/s]"
      ]
     },
     "metadata": {},
     "output_type": "display_data"
    },
    {
     "data": {
      "application/vnd.jupyter.widget-view+json": {
       "model_id": "6fbc190c779f403cb7d158204946d161",
       "version_major": 2,
       "version_minor": 0
      },
      "text/plain": [
       "Filter:   0%|          | 0/1800 [00:00<?, ? examples/s]"
      ]
     },
     "metadata": {},
     "output_type": "display_data"
    },
    {
     "data": {
      "application/vnd.jupyter.widget-view+json": {
       "model_id": "6294b7cdf5c846c199e56590071a382e",
       "version_major": 2,
       "version_minor": 0
      },
      "text/plain": [
       "Filter:   0%|          | 0/1800 [00:00<?, ? examples/s]"
      ]
     },
     "metadata": {},
     "output_type": "display_data"
    },
    {
     "data": {
      "application/vnd.jupyter.widget-view+json": {
       "model_id": "f64371bd04b947349cebc81f36fe4e97",
       "version_major": 2,
       "version_minor": 0
      },
      "text/plain": [
       "Filter:   0%|          | 0/1800 [00:00<?, ? examples/s]"
      ]
     },
     "metadata": {},
     "output_type": "display_data"
    },
    {
     "data": {
      "application/vnd.jupyter.widget-view+json": {
       "model_id": "277d5840976947c9a55bccb1d6f0187f",
       "version_major": 2,
       "version_minor": 0
      },
      "text/plain": [
       "Filter:   0%|          | 0/1800 [00:00<?, ? examples/s]"
      ]
     },
     "metadata": {},
     "output_type": "display_data"
    },
    {
     "data": {
      "application/vnd.jupyter.widget-view+json": {
       "model_id": "64ee011da3d645fba986c6551a242b7f",
       "version_major": 2,
       "version_minor": 0
      },
      "text/plain": [
       "Filter:   0%|          | 0/1800 [00:00<?, ? examples/s]"
      ]
     },
     "metadata": {},
     "output_type": "display_data"
    },
    {
     "data": {
      "application/vnd.jupyter.widget-view+json": {
       "model_id": "1dd2b24f198b4343a9825e24f5647224",
       "version_major": 2,
       "version_minor": 0
      },
      "text/plain": [
       "Filter:   0%|          | 0/1800 [00:00<?, ? examples/s]"
      ]
     },
     "metadata": {},
     "output_type": "display_data"
    },
    {
     "data": {
      "application/vnd.jupyter.widget-view+json": {
       "model_id": "2330e1faf03741f1a70244a9c8df663e",
       "version_major": 2,
       "version_minor": 0
      },
      "text/plain": [
       "Filter:   0%|          | 0/1800 [00:00<?, ? examples/s]"
      ]
     },
     "metadata": {},
     "output_type": "display_data"
    },
    {
     "data": {
      "application/vnd.jupyter.widget-view+json": {
       "model_id": "f8d9430c140f4688bf0153dc1524e133",
       "version_major": 2,
       "version_minor": 0
      },
      "text/plain": [
       "Filter:   0%|          | 0/1800 [00:00<?, ? examples/s]"
      ]
     },
     "metadata": {},
     "output_type": "display_data"
    },
    {
     "name": "stdout",
     "output_type": "stream",
     "text": [
      "DatasetDict({\n",
      "    train_claim_en_evidence_en: Dataset({\n",
      "        features: ['claim_id', 'claim', 'evidence', 'evidence_label', 'label', 'category', 'claim_language', 'evidence_language'],\n",
      "        num_rows: 200\n",
      "    })\n",
      "    train_claim_en_evidence_idn: Dataset({\n",
      "        features: ['claim_id', 'claim', 'evidence', 'evidence_label', 'label', 'category', 'claim_language', 'evidence_language'],\n",
      "        num_rows: 200\n",
      "    })\n",
      "    train_claim_en_evidence_arb: Dataset({\n",
      "        features: ['claim_id', 'claim', 'evidence', 'evidence_label', 'label', 'category', 'claim_language', 'evidence_language'],\n",
      "        num_rows: 200\n",
      "    })\n",
      "    train_claim_idn_evidence_en: Dataset({\n",
      "        features: ['claim_id', 'claim', 'evidence', 'evidence_label', 'label', 'category', 'claim_language', 'evidence_language'],\n",
      "        num_rows: 200\n",
      "    })\n",
      "    train_claim_idn_evidence_idn: Dataset({\n",
      "        features: ['claim_id', 'claim', 'evidence', 'evidence_label', 'label', 'category', 'claim_language', 'evidence_language'],\n",
      "        num_rows: 200\n",
      "    })\n",
      "    train_claim_idn_evidence_arb: Dataset({\n",
      "        features: ['claim_id', 'claim', 'evidence', 'evidence_label', 'label', 'category', 'claim_language', 'evidence_language'],\n",
      "        num_rows: 200\n",
      "    })\n",
      "    train_claim_arb_evidence_en: Dataset({\n",
      "        features: ['claim_id', 'claim', 'evidence', 'evidence_label', 'label', 'category', 'claim_language', 'evidence_language'],\n",
      "        num_rows: 200\n",
      "    })\n",
      "    train_claim_arb_evidence_idn: Dataset({\n",
      "        features: ['claim_id', 'claim', 'evidence', 'evidence_label', 'label', 'category', 'claim_language', 'evidence_language'],\n",
      "        num_rows: 200\n",
      "    })\n",
      "    train_claim_arb_evidence_arb: Dataset({\n",
      "        features: ['claim_id', 'claim', 'evidence', 'evidence_label', 'label', 'category', 'claim_language', 'evidence_language'],\n",
      "        num_rows: 200\n",
      "    })\n",
      "})\n"
     ]
    }
   ],
   "source": [
    "from datasets import DatasetDict\n",
    "\n",
    "# Function to generate combinations\n",
    "def generate_combinations(batch):\n",
    "    # Initialize lists to collect the new data\n",
    "    new_claim_ids = []\n",
    "    new_claims = []\n",
    "    new_evidences = []\n",
    "    new_evidence_labels = []\n",
    "    new_labels = []\n",
    "    new_categories = []\n",
    "    new_claim_languages = []\n",
    "    new_evidence_languages = []\n",
    "\n",
    "    # Iterate over the batch\n",
    "    for i in range(len(batch['claim'])):\n",
    "        claims = {\n",
    "            'en': batch['claim'][i],\n",
    "            'idn': batch['claim_idn'][i],\n",
    "            'arb': batch['claim_arb'][i]\n",
    "        }\n",
    "        evidences = {\n",
    "            'en': batch['evidence'][i],\n",
    "            'idn': batch['evidence_idn'][i],\n",
    "            'arb': batch['evidence_arb'][i]\n",
    "        }\n",
    "\n",
    "        # Generate combinations\n",
    "        for claim_lang, claim_text in claims.items():\n",
    "            for evidence_lang, evidence_text in evidences.items():\n",
    "                new_claim_ids.append(batch['claim_id'][i])\n",
    "                new_claims.append(claim_text)\n",
    "                new_evidences.append(evidence_text)\n",
    "                new_evidence_labels.append(batch['evidence_label'][i])\n",
    "                new_labels.append(batch['label'][i])\n",
    "                new_categories.append(batch['category'][i])\n",
    "                new_claim_languages.append(claim_lang)\n",
    "                new_evidence_languages.append(evidence_lang)\n",
    "\n",
    "    # Return a dictionary of lists\n",
    "    return {\n",
    "        'claim_id': new_claim_ids,\n",
    "        'claim': new_claims,\n",
    "        'evidence': new_evidences,\n",
    "        'evidence_label': new_evidence_labels,\n",
    "        'label': new_labels,\n",
    "        'category': new_categories,\n",
    "        'claim_language': new_claim_languages,\n",
    "        'evidence_language': new_evidence_languages\n",
    "    }\n",
    "\n",
    "# Process each split individually\n",
    "new_datasets = {}\n",
    "\n",
    "for split in dataset.keys():\n",
    "    print(f\"Processing split: {split}\")\n",
    "    split_dataset = dataset[split]\n",
    "\n",
    "    # Apply the mapping function to generate combinations\n",
    "    new_split_dataset = split_dataset.map(\n",
    "        generate_combinations,\n",
    "        remove_columns=['claim', 'evidence', 'claim_idn', 'evidence_idn', 'claim_arb', 'evidence_arb'],\n",
    "        batched=True,\n",
    "    )\n",
    "\n",
    "    # Add the new split dataset to the new_datasets dict\n",
    "    new_datasets[split] = new_split_dataset\n",
    "\n",
    "# Create a new DatasetDict with the processed splits\n",
    "new_dataset = DatasetDict(new_datasets)\n",
    "\n",
    "# Create subsets for each language combination\n",
    "subsets = {}\n",
    "languages = ['en', 'idn', 'arb']\n",
    "\n",
    "for split in new_dataset.keys():\n",
    "    split_dataset = new_dataset[split]\n",
    "    for claim_lang in languages:\n",
    "        for evidence_lang in languages:\n",
    "            subset_name = f'{split}_claim_{claim_lang}_evidence_{evidence_lang}'\n",
    "            filtered_dataset = split_dataset.filter(\n",
    "                lambda example: example['claim_language'] == claim_lang and example['evidence_language'] == evidence_lang\n",
    "            )\n",
    "            subsets[subset_name] = filtered_dataset  # filtered_dataset is a Dataset\n",
    "\n",
    "# Create a DatasetDict from the subsets\n",
    "combined_dataset = DatasetDict(subsets)\n",
    "\n",
    "# Verify the combined dataset\n",
    "print(combined_dataset)"
   ]
  },
  {
   "cell_type": "code",
   "execution_count": 11,
   "metadata": {},
   "outputs": [
    {
     "data": {
      "application/vnd.jupyter.widget-view+json": {
       "model_id": "a891f49887664087860e0afcd67188f4",
       "version_major": 2,
       "version_minor": 0
      },
      "text/plain": [
       "Uploading the dataset shards:   0%|          | 0/1 [00:00<?, ?it/s]"
      ]
     },
     "metadata": {},
     "output_type": "display_data"
    },
    {
     "data": {
      "application/vnd.jupyter.widget-view+json": {
       "model_id": "1272973091a84c2e8e16d45af18e7397",
       "version_major": 2,
       "version_minor": 0
      },
      "text/plain": [
       "Creating parquet from Arrow format:   0%|          | 0/1 [00:00<?, ?ba/s]"
      ]
     },
     "metadata": {},
     "output_type": "display_data"
    },
    {
     "data": {
      "application/vnd.jupyter.widget-view+json": {
       "model_id": "d6756edffe2b4e2c82d08b171214f32d",
       "version_major": 2,
       "version_minor": 0
      },
      "text/plain": [
       "Uploading the dataset shards:   0%|          | 0/1 [00:00<?, ?it/s]"
      ]
     },
     "metadata": {},
     "output_type": "display_data"
    },
    {
     "data": {
      "application/vnd.jupyter.widget-view+json": {
       "model_id": "b9fcedc914f742bb8b5858627bf851b9",
       "version_major": 2,
       "version_minor": 0
      },
      "text/plain": [
       "Creating parquet from Arrow format:   0%|          | 0/1 [00:00<?, ?ba/s]"
      ]
     },
     "metadata": {},
     "output_type": "display_data"
    },
    {
     "data": {
      "application/vnd.jupyter.widget-view+json": {
       "model_id": "9abe841db6254cdfbdf2800f0761026e",
       "version_major": 2,
       "version_minor": 0
      },
      "text/plain": [
       "Uploading the dataset shards:   0%|          | 0/1 [00:00<?, ?it/s]"
      ]
     },
     "metadata": {},
     "output_type": "display_data"
    },
    {
     "data": {
      "application/vnd.jupyter.widget-view+json": {
       "model_id": "0aec1ddb797e4c6fbcb1cf36b8b1bca3",
       "version_major": 2,
       "version_minor": 0
      },
      "text/plain": [
       "Creating parquet from Arrow format:   0%|          | 0/1 [00:00<?, ?ba/s]"
      ]
     },
     "metadata": {},
     "output_type": "display_data"
    },
    {
     "data": {
      "application/vnd.jupyter.widget-view+json": {
       "model_id": "ba3f20f4bac44f51b28a91732f7e4e0d",
       "version_major": 2,
       "version_minor": 0
      },
      "text/plain": [
       "Uploading the dataset shards:   0%|          | 0/1 [00:00<?, ?it/s]"
      ]
     },
     "metadata": {},
     "output_type": "display_data"
    },
    {
     "data": {
      "application/vnd.jupyter.widget-view+json": {
       "model_id": "d1e9edf8f4ba4c7da55bb27de1a4ff09",
       "version_major": 2,
       "version_minor": 0
      },
      "text/plain": [
       "Creating parquet from Arrow format:   0%|          | 0/1 [00:00<?, ?ba/s]"
      ]
     },
     "metadata": {},
     "output_type": "display_data"
    },
    {
     "data": {
      "application/vnd.jupyter.widget-view+json": {
       "model_id": "767b8796412f444eb6e2b7f91b4d0a91",
       "version_major": 2,
       "version_minor": 0
      },
      "text/plain": [
       "Uploading the dataset shards:   0%|          | 0/1 [00:00<?, ?it/s]"
      ]
     },
     "metadata": {},
     "output_type": "display_data"
    },
    {
     "data": {
      "application/vnd.jupyter.widget-view+json": {
       "model_id": "353909e380d84491b58ad2a9514194a2",
       "version_major": 2,
       "version_minor": 0
      },
      "text/plain": [
       "Creating parquet from Arrow format:   0%|          | 0/1 [00:00<?, ?ba/s]"
      ]
     },
     "metadata": {},
     "output_type": "display_data"
    },
    {
     "data": {
      "application/vnd.jupyter.widget-view+json": {
       "model_id": "29f6ebb522364769a9a19b5b6e1349b4",
       "version_major": 2,
       "version_minor": 0
      },
      "text/plain": [
       "Uploading the dataset shards:   0%|          | 0/1 [00:00<?, ?it/s]"
      ]
     },
     "metadata": {},
     "output_type": "display_data"
    },
    {
     "data": {
      "application/vnd.jupyter.widget-view+json": {
       "model_id": "825188c7b52c4ff2b3f5115814db59b0",
       "version_major": 2,
       "version_minor": 0
      },
      "text/plain": [
       "Creating parquet from Arrow format:   0%|          | 0/1 [00:00<?, ?ba/s]"
      ]
     },
     "metadata": {},
     "output_type": "display_data"
    },
    {
     "data": {
      "application/vnd.jupyter.widget-view+json": {
       "model_id": "79ab0b00734a4baba5370d2b0e5a42ed",
       "version_major": 2,
       "version_minor": 0
      },
      "text/plain": [
       "Uploading the dataset shards:   0%|          | 0/1 [00:00<?, ?it/s]"
      ]
     },
     "metadata": {},
     "output_type": "display_data"
    },
    {
     "data": {
      "application/vnd.jupyter.widget-view+json": {
       "model_id": "d21832026a9d472a8872594f873e2f7d",
       "version_major": 2,
       "version_minor": 0
      },
      "text/plain": [
       "Creating parquet from Arrow format:   0%|          | 0/1 [00:00<?, ?ba/s]"
      ]
     },
     "metadata": {},
     "output_type": "display_data"
    },
    {
     "data": {
      "application/vnd.jupyter.widget-view+json": {
       "model_id": "3aea338cc6c84c6ba5e6866c3da8731d",
       "version_major": 2,
       "version_minor": 0
      },
      "text/plain": [
       "Uploading the dataset shards:   0%|          | 0/1 [00:00<?, ?it/s]"
      ]
     },
     "metadata": {},
     "output_type": "display_data"
    },
    {
     "data": {
      "application/vnd.jupyter.widget-view+json": {
       "model_id": "abe3c0bd34f84784b496cb30db22f5fb",
       "version_major": 2,
       "version_minor": 0
      },
      "text/plain": [
       "Creating parquet from Arrow format:   0%|          | 0/1 [00:00<?, ?ba/s]"
      ]
     },
     "metadata": {},
     "output_type": "display_data"
    },
    {
     "data": {
      "application/vnd.jupyter.widget-view+json": {
       "model_id": "9346829be6d9411ea4bb4c5101e6c730",
       "version_major": 2,
       "version_minor": 0
      },
      "text/plain": [
       "Uploading the dataset shards:   0%|          | 0/1 [00:00<?, ?it/s]"
      ]
     },
     "metadata": {},
     "output_type": "display_data"
    },
    {
     "data": {
      "application/vnd.jupyter.widget-view+json": {
       "model_id": "fbe31dab24b240cda5c2d8e4efbfdbf4",
       "version_major": 2,
       "version_minor": 0
      },
      "text/plain": [
       "Creating parquet from Arrow format:   0%|          | 0/1 [00:00<?, ?ba/s]"
      ]
     },
     "metadata": {},
     "output_type": "display_data"
    },
    {
     "data": {
      "text/plain": [
       "CommitInfo(commit_url='https://huggingface.co/datasets/Erland/fake_news_detection_dataset_cross_lingual/commit/13a66b9628c0ce7f4c1dee40cac9f0286115c820', commit_message='Upload dataset', commit_description='', oid='13a66b9628c0ce7f4c1dee40cac9f0286115c820', pr_url=None, repo_url=RepoUrl('https://huggingface.co/datasets/Erland/fake_news_detection_dataset_cross_lingual', endpoint='https://huggingface.co', repo_type='dataset', repo_id='Erland/fake_news_detection_dataset_cross_lingual'), pr_revision=None, pr_num=None)"
      ]
     },
     "execution_count": 11,
     "metadata": {},
     "output_type": "execute_result"
    }
   ],
   "source": [
    "combined_dataset.push_to_hub(\"fake_news_detection_dataset_cross_lingual\", private=True)"
   ]
  },
  {
   "cell_type": "code",
   "execution_count": 15,
   "metadata": {},
   "outputs": [
    {
     "data": {
      "text/plain": [
       "DatasetDict({\n",
       "    train_claim_en_evidence_en: Dataset({\n",
       "        features: ['claim_id', 'claim', 'evidence', 'evidence_label', 'label', 'category', 'claim_language', 'evidence_language'],\n",
       "        num_rows: 200\n",
       "    })\n",
       "    train_claim_en_evidence_idn: Dataset({\n",
       "        features: ['claim_id', 'claim', 'evidence', 'evidence_label', 'label', 'category', 'claim_language', 'evidence_language'],\n",
       "        num_rows: 200\n",
       "    })\n",
       "    train_claim_en_evidence_arb: Dataset({\n",
       "        features: ['claim_id', 'claim', 'evidence', 'evidence_label', 'label', 'category', 'claim_language', 'evidence_language'],\n",
       "        num_rows: 200\n",
       "    })\n",
       "    train_claim_idn_evidence_en: Dataset({\n",
       "        features: ['claim_id', 'claim', 'evidence', 'evidence_label', 'label', 'category', 'claim_language', 'evidence_language'],\n",
       "        num_rows: 200\n",
       "    })\n",
       "    train_claim_idn_evidence_idn: Dataset({\n",
       "        features: ['claim_id', 'claim', 'evidence', 'evidence_label', 'label', 'category', 'claim_language', 'evidence_language'],\n",
       "        num_rows: 200\n",
       "    })\n",
       "    train_claim_idn_evidence_arb: Dataset({\n",
       "        features: ['claim_id', 'claim', 'evidence', 'evidence_label', 'label', 'category', 'claim_language', 'evidence_language'],\n",
       "        num_rows: 200\n",
       "    })\n",
       "    train_claim_arb_evidence_en: Dataset({\n",
       "        features: ['claim_id', 'claim', 'evidence', 'evidence_label', 'label', 'category', 'claim_language', 'evidence_language'],\n",
       "        num_rows: 200\n",
       "    })\n",
       "    train_claim_arb_evidence_idn: Dataset({\n",
       "        features: ['claim_id', 'claim', 'evidence', 'evidence_label', 'label', 'category', 'claim_language', 'evidence_language'],\n",
       "        num_rows: 200\n",
       "    })\n",
       "    train_claim_arb_evidence_arb: Dataset({\n",
       "        features: ['claim_id', 'claim', 'evidence', 'evidence_label', 'label', 'category', 'claim_language', 'evidence_language'],\n",
       "        num_rows: 200\n",
       "    })\n",
       "})"
      ]
     },
     "execution_count": 15,
     "metadata": {},
     "output_type": "execute_result"
    }
   ],
   "source": [
    "from datasets import load_dataset\n",
    "\n",
    "dataset = load_dataset(\"Erland/fake_news_detection_dataset_cross_lingual\")\n",
    "dataset"
   ]
  },
  {
   "cell_type": "markdown",
   "metadata": {},
   "source": [
    "# Transform into text"
   ]
  },
  {
   "cell_type": "code",
   "execution_count": 16,
   "metadata": {},
   "outputs": [
    {
     "name": "stdout",
     "output_type": "stream",
     "text": [
      "Processing subset: train_claim_en_evidence_en\n"
     ]
    },
    {
     "data": {
      "application/vnd.jupyter.widget-view+json": {
       "model_id": "dd8cf671617c4a8eb6aff5514c01948d",
       "version_major": 2,
       "version_minor": 0
      },
      "text/plain": [
       "Map:   0%|          | 0/200 [00:00<?, ? examples/s]"
      ]
     },
     "metadata": {},
     "output_type": "display_data"
    },
    {
     "name": "stdout",
     "output_type": "stream",
     "text": [
      "Processing subset: train_claim_en_evidence_idn\n"
     ]
    },
    {
     "data": {
      "application/vnd.jupyter.widget-view+json": {
       "model_id": "ff979e369e904006afafc813a480a877",
       "version_major": 2,
       "version_minor": 0
      },
      "text/plain": [
       "Map:   0%|          | 0/200 [00:00<?, ? examples/s]"
      ]
     },
     "metadata": {},
     "output_type": "display_data"
    },
    {
     "name": "stdout",
     "output_type": "stream",
     "text": [
      "Processing subset: train_claim_en_evidence_arb\n"
     ]
    },
    {
     "data": {
      "application/vnd.jupyter.widget-view+json": {
       "model_id": "9225398fa67f46ad8b6904204f7a2dc2",
       "version_major": 2,
       "version_minor": 0
      },
      "text/plain": [
       "Map:   0%|          | 0/200 [00:00<?, ? examples/s]"
      ]
     },
     "metadata": {},
     "output_type": "display_data"
    },
    {
     "name": "stdout",
     "output_type": "stream",
     "text": [
      "Processing subset: train_claim_idn_evidence_en\n"
     ]
    },
    {
     "data": {
      "application/vnd.jupyter.widget-view+json": {
       "model_id": "de6e60817a034646b3d54ec22498d7e1",
       "version_major": 2,
       "version_minor": 0
      },
      "text/plain": [
       "Map:   0%|          | 0/200 [00:00<?, ? examples/s]"
      ]
     },
     "metadata": {},
     "output_type": "display_data"
    },
    {
     "name": "stdout",
     "output_type": "stream",
     "text": [
      "Processing subset: train_claim_idn_evidence_idn\n"
     ]
    },
    {
     "data": {
      "application/vnd.jupyter.widget-view+json": {
       "model_id": "e09976516f40496f93366879140c2bdf",
       "version_major": 2,
       "version_minor": 0
      },
      "text/plain": [
       "Map:   0%|          | 0/200 [00:00<?, ? examples/s]"
      ]
     },
     "metadata": {},
     "output_type": "display_data"
    },
    {
     "name": "stdout",
     "output_type": "stream",
     "text": [
      "Processing subset: train_claim_idn_evidence_arb\n"
     ]
    },
    {
     "data": {
      "application/vnd.jupyter.widget-view+json": {
       "model_id": "668a4550b60e4672ae79601646728f59",
       "version_major": 2,
       "version_minor": 0
      },
      "text/plain": [
       "Map:   0%|          | 0/200 [00:00<?, ? examples/s]"
      ]
     },
     "metadata": {},
     "output_type": "display_data"
    },
    {
     "name": "stdout",
     "output_type": "stream",
     "text": [
      "Processing subset: train_claim_arb_evidence_en\n"
     ]
    },
    {
     "data": {
      "application/vnd.jupyter.widget-view+json": {
       "model_id": "3bbe63d6af724e498f50f6939d97a0b7",
       "version_major": 2,
       "version_minor": 0
      },
      "text/plain": [
       "Map:   0%|          | 0/200 [00:00<?, ? examples/s]"
      ]
     },
     "metadata": {},
     "output_type": "display_data"
    },
    {
     "name": "stdout",
     "output_type": "stream",
     "text": [
      "Processing subset: train_claim_arb_evidence_idn\n"
     ]
    },
    {
     "data": {
      "application/vnd.jupyter.widget-view+json": {
       "model_id": "8017ec638d47405ba779c51106098bab",
       "version_major": 2,
       "version_minor": 0
      },
      "text/plain": [
       "Map:   0%|          | 0/200 [00:00<?, ? examples/s]"
      ]
     },
     "metadata": {},
     "output_type": "display_data"
    },
    {
     "name": "stdout",
     "output_type": "stream",
     "text": [
      "Processing subset: train_claim_arb_evidence_arb\n"
     ]
    },
    {
     "data": {
      "application/vnd.jupyter.widget-view+json": {
       "model_id": "0ddfaf3ed14d484f8491ea59a8a431a5",
       "version_major": 2,
       "version_minor": 0
      },
      "text/plain": [
       "Map:   0%|          | 0/200 [00:00<?, ? examples/s]"
      ]
     },
     "metadata": {},
     "output_type": "display_data"
    },
    {
     "name": "stdout",
     "output_type": "stream",
     "text": [
      "DatasetDict({\n",
      "    train_claim_en_evidence_en: Dataset({\n",
      "        features: ['text', 'labels'],\n",
      "        num_rows: 200\n",
      "    })\n",
      "    train_claim_en_evidence_idn: Dataset({\n",
      "        features: ['text', 'labels'],\n",
      "        num_rows: 200\n",
      "    })\n",
      "    train_claim_en_evidence_arb: Dataset({\n",
      "        features: ['text', 'labels'],\n",
      "        num_rows: 200\n",
      "    })\n",
      "    train_claim_idn_evidence_en: Dataset({\n",
      "        features: ['text', 'labels'],\n",
      "        num_rows: 200\n",
      "    })\n",
      "    train_claim_idn_evidence_idn: Dataset({\n",
      "        features: ['text', 'labels'],\n",
      "        num_rows: 200\n",
      "    })\n",
      "    train_claim_idn_evidence_arb: Dataset({\n",
      "        features: ['text', 'labels'],\n",
      "        num_rows: 200\n",
      "    })\n",
      "    train_claim_arb_evidence_en: Dataset({\n",
      "        features: ['text', 'labels'],\n",
      "        num_rows: 200\n",
      "    })\n",
      "    train_claim_arb_evidence_idn: Dataset({\n",
      "        features: ['text', 'labels'],\n",
      "        num_rows: 200\n",
      "    })\n",
      "    train_claim_arb_evidence_arb: Dataset({\n",
      "        features: ['text', 'labels'],\n",
      "        num_rows: 200\n",
      "    })\n",
      "})\n",
      "{'text': '[The 1990 IPCC report said] that the Antarctic ice sheets were stable. Evidence: The West Antarctic Ice Sheet is stable so long as the Ross Ice Shelf is constrained by drag along its lateral boundaries and pinned by local grounding.', 'labels': 'NOT_ENOUGH_INFO'}\n",
      "{'text': 'International Energy Agency, a global analysis organization, “continue to see a role for coal for the foreseeable future.”. Evidence: He further said that the IEA is overstating the role of shale in a global market, and how the core job of the IEA, is not to take things out of context.', 'labels': 'NOT_ENOUGH_INFO'}\n",
      "{'text': 'Sea level rise is now increasing faster than predicted due to unexpectedly rapid ice melting.. Evidence: This acceleration is due mostly to human-caused global warming, which is driving thermal expansion of seawater and the melting of land-based ice sheets and glaciers.', 'labels': 'SUPPORTS'}\n"
     ]
    }
   ],
   "source": [
    "# Define the formatting function\n",
    "def format_examples(batch):\n",
    "    texts = [f\"{claim}. Evidence: {evidence}\" for claim, evidence in zip(batch['claim'], batch['evidence'])]\n",
    "    labels = batch['evidence_label']\n",
    "    return {'text': texts, 'labels': labels}\n",
    "\n",
    "# Apply the function to each subset\n",
    "for subset_name in dataset.keys():\n",
    "    print(f\"Processing subset: {subset_name}\")\n",
    "    subset_dataset = dataset[subset_name]\n",
    "    formatted_dataset = subset_dataset.map(\n",
    "        format_examples,\n",
    "        batched=True,\n",
    "        remove_columns=subset_dataset.column_names\n",
    "    )\n",
    "    dataset[subset_name] = formatted_dataset\n",
    "\n",
    "# Verify the transformation\n",
    "print(dataset)\n",
    "\n",
    "# Print a few examples from one of the subsets\n",
    "for example in dataset[list(dataset.keys())[0]].select(range(3)):\n",
    "    print(example)\n",
    "\n"
   ]
  },
  {
   "cell_type": "code",
   "execution_count": 17,
   "metadata": {},
   "outputs": [
    {
     "data": {
      "application/vnd.jupyter.widget-view+json": {
       "model_id": "61671964a5b04338bb375ea545519275",
       "version_major": 2,
       "version_minor": 0
      },
      "text/plain": [
       "Uploading the dataset shards:   0%|          | 0/1 [00:00<?, ?it/s]"
      ]
     },
     "metadata": {},
     "output_type": "display_data"
    },
    {
     "data": {
      "application/vnd.jupyter.widget-view+json": {
       "model_id": "d18c959a586642b2927b65eb49f16763",
       "version_major": 2,
       "version_minor": 0
      },
      "text/plain": [
       "Creating parquet from Arrow format:   0%|          | 0/1 [00:00<?, ?ba/s]"
      ]
     },
     "metadata": {},
     "output_type": "display_data"
    },
    {
     "data": {
      "application/vnd.jupyter.widget-view+json": {
       "model_id": "fc784d3cb4a44bd89eb2f36629044ab1",
       "version_major": 2,
       "version_minor": 0
      },
      "text/plain": [
       "Uploading the dataset shards:   0%|          | 0/1 [00:00<?, ?it/s]"
      ]
     },
     "metadata": {},
     "output_type": "display_data"
    },
    {
     "data": {
      "application/vnd.jupyter.widget-view+json": {
       "model_id": "553fac3367c04b05b3d5b74722a1ae02",
       "version_major": 2,
       "version_minor": 0
      },
      "text/plain": [
       "Creating parquet from Arrow format:   0%|          | 0/1 [00:00<?, ?ba/s]"
      ]
     },
     "metadata": {},
     "output_type": "display_data"
    },
    {
     "data": {
      "application/vnd.jupyter.widget-view+json": {
       "model_id": "9b8257cf9c2041468c9d4989f16c99a8",
       "version_major": 2,
       "version_minor": 0
      },
      "text/plain": [
       "Uploading the dataset shards:   0%|          | 0/1 [00:00<?, ?it/s]"
      ]
     },
     "metadata": {},
     "output_type": "display_data"
    },
    {
     "data": {
      "application/vnd.jupyter.widget-view+json": {
       "model_id": "bb6553f722464a1e95893c703b05aeca",
       "version_major": 2,
       "version_minor": 0
      },
      "text/plain": [
       "Creating parquet from Arrow format:   0%|          | 0/1 [00:00<?, ?ba/s]"
      ]
     },
     "metadata": {},
     "output_type": "display_data"
    },
    {
     "data": {
      "application/vnd.jupyter.widget-view+json": {
       "model_id": "ce92f945b1c640fc87dc59d2a10b9d0b",
       "version_major": 2,
       "version_minor": 0
      },
      "text/plain": [
       "Uploading the dataset shards:   0%|          | 0/1 [00:00<?, ?it/s]"
      ]
     },
     "metadata": {},
     "output_type": "display_data"
    },
    {
     "data": {
      "application/vnd.jupyter.widget-view+json": {
       "model_id": "495a3141e85e4bb6ac686a5264724131",
       "version_major": 2,
       "version_minor": 0
      },
      "text/plain": [
       "Creating parquet from Arrow format:   0%|          | 0/1 [00:00<?, ?ba/s]"
      ]
     },
     "metadata": {},
     "output_type": "display_data"
    },
    {
     "data": {
      "application/vnd.jupyter.widget-view+json": {
       "model_id": "7c707fccfa3b42098e1fca102cfe1c0d",
       "version_major": 2,
       "version_minor": 0
      },
      "text/plain": [
       "Uploading the dataset shards:   0%|          | 0/1 [00:00<?, ?it/s]"
      ]
     },
     "metadata": {},
     "output_type": "display_data"
    },
    {
     "data": {
      "application/vnd.jupyter.widget-view+json": {
       "model_id": "fc76dbf73f11479a8454218526a79397",
       "version_major": 2,
       "version_minor": 0
      },
      "text/plain": [
       "Creating parquet from Arrow format:   0%|          | 0/1 [00:00<?, ?ba/s]"
      ]
     },
     "metadata": {},
     "output_type": "display_data"
    },
    {
     "data": {
      "application/vnd.jupyter.widget-view+json": {
       "model_id": "2a8a9e12376c44b387ae82d0b59d3a0c",
       "version_major": 2,
       "version_minor": 0
      },
      "text/plain": [
       "Uploading the dataset shards:   0%|          | 0/1 [00:00<?, ?it/s]"
      ]
     },
     "metadata": {},
     "output_type": "display_data"
    },
    {
     "data": {
      "application/vnd.jupyter.widget-view+json": {
       "model_id": "c3723f499b60417cb7333f0b2e144b97",
       "version_major": 2,
       "version_minor": 0
      },
      "text/plain": [
       "Creating parquet from Arrow format:   0%|          | 0/1 [00:00<?, ?ba/s]"
      ]
     },
     "metadata": {},
     "output_type": "display_data"
    },
    {
     "data": {
      "application/vnd.jupyter.widget-view+json": {
       "model_id": "a3b5fd0ad31a4d2db7b33c6a1d5f87a9",
       "version_major": 2,
       "version_minor": 0
      },
      "text/plain": [
       "Uploading the dataset shards:   0%|          | 0/1 [00:00<?, ?it/s]"
      ]
     },
     "metadata": {},
     "output_type": "display_data"
    },
    {
     "data": {
      "application/vnd.jupyter.widget-view+json": {
       "model_id": "c5fea2929a7b49738256dc46d99542c8",
       "version_major": 2,
       "version_minor": 0
      },
      "text/plain": [
       "Creating parquet from Arrow format:   0%|          | 0/1 [00:00<?, ?ba/s]"
      ]
     },
     "metadata": {},
     "output_type": "display_data"
    },
    {
     "data": {
      "application/vnd.jupyter.widget-view+json": {
       "model_id": "88d75fc7dfe44c55a7789bfa367d5fc2",
       "version_major": 2,
       "version_minor": 0
      },
      "text/plain": [
       "Uploading the dataset shards:   0%|          | 0/1 [00:00<?, ?it/s]"
      ]
     },
     "metadata": {},
     "output_type": "display_data"
    },
    {
     "data": {
      "application/vnd.jupyter.widget-view+json": {
       "model_id": "14ca2571a30c4b6f83cef7bcafa3c525",
       "version_major": 2,
       "version_minor": 0
      },
      "text/plain": [
       "Creating parquet from Arrow format:   0%|          | 0/1 [00:00<?, ?ba/s]"
      ]
     },
     "metadata": {},
     "output_type": "display_data"
    },
    {
     "data": {
      "application/vnd.jupyter.widget-view+json": {
       "model_id": "9f027b9bebec4b9c8e2dfa723dd4e421",
       "version_major": 2,
       "version_minor": 0
      },
      "text/plain": [
       "Uploading the dataset shards:   0%|          | 0/1 [00:00<?, ?it/s]"
      ]
     },
     "metadata": {},
     "output_type": "display_data"
    },
    {
     "data": {
      "application/vnd.jupyter.widget-view+json": {
       "model_id": "113d8e3b059b480fa72ff982dcf035ae",
       "version_major": 2,
       "version_minor": 0
      },
      "text/plain": [
       "Creating parquet from Arrow format:   0%|          | 0/1 [00:00<?, ?ba/s]"
      ]
     },
     "metadata": {},
     "output_type": "display_data"
    },
    {
     "data": {
      "text/plain": [
       "CommitInfo(commit_url='https://huggingface.co/datasets/Erland/fake_news_detection_dataset_cross_lingual_formatted/commit/27e9ee1d1e181cf54dce1563366a234f63f3ddc1', commit_message='Upload dataset', commit_description='', oid='27e9ee1d1e181cf54dce1563366a234f63f3ddc1', pr_url=None, repo_url=RepoUrl('https://huggingface.co/datasets/Erland/fake_news_detection_dataset_cross_lingual_formatted', endpoint='https://huggingface.co', repo_type='dataset', repo_id='Erland/fake_news_detection_dataset_cross_lingual_formatted'), pr_revision=None, pr_num=None)"
      ]
     },
     "execution_count": 17,
     "metadata": {},
     "output_type": "execute_result"
    }
   ],
   "source": [
    "combined_dataset.push_to_hub(\"fake_news_detection_dataset_cross_lingual_formatted\", private=True)"
   ]
  },
  {
   "cell_type": "code",
   "execution_count": 18,
   "metadata": {},
   "outputs": [
    {
     "data": {
      "application/vnd.jupyter.widget-view+json": {
       "model_id": "eac96466bc5d40d184a66d147b93fc5a",
       "version_major": 2,
       "version_minor": 0
      },
      "text/plain": [
       "README.md:   0%|          | 0.00/1.70k [00:00<?, ?B/s]"
      ]
     },
     "metadata": {},
     "output_type": "display_data"
    },
    {
     "data": {
      "application/vnd.jupyter.widget-view+json": {
       "model_id": "eedffdebcc23498ea5b241eec759f7d9",
       "version_major": 2,
       "version_minor": 0
      },
      "text/plain": [
       "(…)im_en_evidence_en-00000-of-00001.parquet:   0%|          | 0.00/39.1k [00:00<?, ?B/s]"
      ]
     },
     "metadata": {},
     "output_type": "display_data"
    },
    {
     "data": {
      "application/vnd.jupyter.widget-view+json": {
       "model_id": "4b43949621394659b46a32ebebf7117f",
       "version_major": 2,
       "version_minor": 0
      },
      "text/plain": [
       "(…)m_en_evidence_idn-00000-of-00001.parquet:   0%|          | 0.00/41.9k [00:00<?, ?B/s]"
      ]
     },
     "metadata": {},
     "output_type": "display_data"
    },
    {
     "data": {
      "application/vnd.jupyter.widget-view+json": {
       "model_id": "b1650431d46c4c86b26147a83599d6db",
       "version_major": 2,
       "version_minor": 0
      },
      "text/plain": [
       "(…)m_en_evidence_arb-00000-of-00001.parquet:   0%|          | 0.00/52.0k [00:00<?, ?B/s]"
      ]
     },
     "metadata": {},
     "output_type": "display_data"
    },
    {
     "data": {
      "application/vnd.jupyter.widget-view+json": {
       "model_id": "194c68d2a1ed42fd947c72c17b2cdf09",
       "version_major": 2,
       "version_minor": 0
      },
      "text/plain": [
       "(…)m_idn_evidence_en-00000-of-00001.parquet:   0%|          | 0.00/42.8k [00:00<?, ?B/s]"
      ]
     },
     "metadata": {},
     "output_type": "display_data"
    },
    {
     "data": {
      "application/vnd.jupyter.widget-view+json": {
       "model_id": "46b2ec75958a4872912b26600195959d",
       "version_major": 2,
       "version_minor": 0
      },
      "text/plain": [
       "(…)_idn_evidence_idn-00000-of-00001.parquet:   0%|          | 0.00/38.2k [00:00<?, ?B/s]"
      ]
     },
     "metadata": {},
     "output_type": "display_data"
    },
    {
     "data": {
      "application/vnd.jupyter.widget-view+json": {
       "model_id": "d559d589dced49cd9e4f9ce287a7514f",
       "version_major": 2,
       "version_minor": 0
      },
      "text/plain": [
       "(…)_idn_evidence_arb-00000-of-00001.parquet:   0%|          | 0.00/51.8k [00:00<?, ?B/s]"
      ]
     },
     "metadata": {},
     "output_type": "display_data"
    },
    {
     "data": {
      "application/vnd.jupyter.widget-view+json": {
       "model_id": "fcdece41d0c14450a5a814f31f959c66",
       "version_major": 2,
       "version_minor": 0
      },
      "text/plain": [
       "(…)m_arb_evidence_en-00000-of-00001.parquet:   0%|          | 0.00/51.0k [00:00<?, ?B/s]"
      ]
     },
     "metadata": {},
     "output_type": "display_data"
    },
    {
     "data": {
      "application/vnd.jupyter.widget-view+json": {
       "model_id": "033b60c790fa407784f0072ae87212b7",
       "version_major": 2,
       "version_minor": 0
      },
      "text/plain": [
       "(…)_arb_evidence_idn-00000-of-00001.parquet:   0%|          | 0.00/49.8k [00:00<?, ?B/s]"
      ]
     },
     "metadata": {},
     "output_type": "display_data"
    },
    {
     "data": {
      "application/vnd.jupyter.widget-view+json": {
       "model_id": "8db10b29a44e437986a48597bb109ba4",
       "version_major": 2,
       "version_minor": 0
      },
      "text/plain": [
       "(…)_arb_evidence_arb-00000-of-00001.parquet:   0%|          | 0.00/53.4k [00:00<?, ?B/s]"
      ]
     },
     "metadata": {},
     "output_type": "display_data"
    },
    {
     "data": {
      "application/vnd.jupyter.widget-view+json": {
       "model_id": "57e5ebb8db774ba0815e134e583fd2aa",
       "version_major": 2,
       "version_minor": 0
      },
      "text/plain": [
       "Generating train_claim_en_evidence_en split:   0%|          | 0/200 [00:00<?, ? examples/s]"
      ]
     },
     "metadata": {},
     "output_type": "display_data"
    },
    {
     "data": {
      "application/vnd.jupyter.widget-view+json": {
       "model_id": "51b4f66c8f0044ff8be9cad5008bc790",
       "version_major": 2,
       "version_minor": 0
      },
      "text/plain": [
       "Generating train_claim_en_evidence_idn split:   0%|          | 0/200 [00:00<?, ? examples/s]"
      ]
     },
     "metadata": {},
     "output_type": "display_data"
    },
    {
     "data": {
      "application/vnd.jupyter.widget-view+json": {
       "model_id": "d0f42aed829f4f7396795d9378511c66",
       "version_major": 2,
       "version_minor": 0
      },
      "text/plain": [
       "Generating train_claim_en_evidence_arb split:   0%|          | 0/200 [00:00<?, ? examples/s]"
      ]
     },
     "metadata": {},
     "output_type": "display_data"
    },
    {
     "data": {
      "application/vnd.jupyter.widget-view+json": {
       "model_id": "ceed8c1fa29745a597f6b4d3fd509d0b",
       "version_major": 2,
       "version_minor": 0
      },
      "text/plain": [
       "Generating train_claim_idn_evidence_en split:   0%|          | 0/200 [00:00<?, ? examples/s]"
      ]
     },
     "metadata": {},
     "output_type": "display_data"
    },
    {
     "data": {
      "application/vnd.jupyter.widget-view+json": {
       "model_id": "30c35c4757004bfa80f32d144953b1c3",
       "version_major": 2,
       "version_minor": 0
      },
      "text/plain": [
       "Generating train_claim_idn_evidence_idn split:   0%|          | 0/200 [00:00<?, ? examples/s]"
      ]
     },
     "metadata": {},
     "output_type": "display_data"
    },
    {
     "data": {
      "application/vnd.jupyter.widget-view+json": {
       "model_id": "1d1ca839aa7940418e42e1e65118e5e8",
       "version_major": 2,
       "version_minor": 0
      },
      "text/plain": [
       "Generating train_claim_idn_evidence_arb split:   0%|          | 0/200 [00:00<?, ? examples/s]"
      ]
     },
     "metadata": {},
     "output_type": "display_data"
    },
    {
     "data": {
      "application/vnd.jupyter.widget-view+json": {
       "model_id": "e2647902e0d54a0ca4f6882e87e57924",
       "version_major": 2,
       "version_minor": 0
      },
      "text/plain": [
       "Generating train_claim_arb_evidence_en split:   0%|          | 0/200 [00:00<?, ? examples/s]"
      ]
     },
     "metadata": {},
     "output_type": "display_data"
    },
    {
     "data": {
      "application/vnd.jupyter.widget-view+json": {
       "model_id": "f6e8f113a30b4ef4be20622b5f9e32c1",
       "version_major": 2,
       "version_minor": 0
      },
      "text/plain": [
       "Generating train_claim_arb_evidence_idn split:   0%|          | 0/200 [00:00<?, ? examples/s]"
      ]
     },
     "metadata": {},
     "output_type": "display_data"
    },
    {
     "data": {
      "application/vnd.jupyter.widget-view+json": {
       "model_id": "20cfff7dca65480c85d5dde056e2950a",
       "version_major": 2,
       "version_minor": 0
      },
      "text/plain": [
       "Generating train_claim_arb_evidence_arb split:   0%|          | 0/200 [00:00<?, ? examples/s]"
      ]
     },
     "metadata": {},
     "output_type": "display_data"
    }
   ],
   "source": [
    "dataset = load_dataset(\"Erland/fake_news_detection_dataset_cross_lingual_formatted\", split=\"train_claim_en_evidence_en\")"
   ]
  },
  {
   "cell_type": "code",
   "execution_count": 19,
   "metadata": {},
   "outputs": [
    {
     "data": {
      "text/plain": [
       "Dataset({\n",
       "    features: ['label', 'text'],\n",
       "    num_rows: 200\n",
       "})"
      ]
     },
     "execution_count": 19,
     "metadata": {},
     "output_type": "execute_result"
    }
   ],
   "source": [
    "dataset"
   ]
  }
 ],
 "metadata": {
  "kernelspec": {
   "display_name": "Python 3",
   "language": "python",
   "name": "python3"
  },
  "language_info": {
   "codemirror_mode": {
    "name": "ipython",
    "version": 3
   },
   "file_extension": ".py",
   "mimetype": "text/x-python",
   "name": "python",
   "nbconvert_exporter": "python",
   "pygments_lexer": "ipython3",
   "version": "3.11.9"
  }
 },
 "nbformat": 4,
 "nbformat_minor": 2
}
